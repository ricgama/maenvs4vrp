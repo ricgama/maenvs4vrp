{
 "cells": [
  {
   "cell_type": "markdown",
   "id": "28d5bf40-b10b-43f3-88eb-3309e93e3e5d",
   "metadata": {},
   "source": [
    "# Instance Generator"
   ]
  },
  {
   "cell_type": "markdown",
   "id": "cad68b70-4df8-43e7-ba08-b3b2d3e67e85",
   "metadata": {},
   "source": [
    "Import libraries"
   ]
  },
  {
   "cell_type": "code",
   "execution_count": 6,
   "id": "24d51988-8920-4812-8b63-68e275e4bc8f",
   "metadata": {},
   "outputs": [],
   "source": [
    "from maenvs4vrp.environments.cvrptw.instances_generator import InstanceGenerator\n",
    "from maenvs4vrp.environments.cvrptw.benchmark_instances_generator import BenchmarkInstanceGenerator"
   ]
  },
  {
   "cell_type": "markdown",
   "id": "6bc89386-1430-43c8-9f43-81bb3d2a64b5",
   "metadata": {},
   "source": [
    "#### Random generated instances"
   ]
  },
  {
   "cell_type": "markdown",
   "id": "82b2039a-ed33-496e-86b5-69fed3747f59",
   "metadata": {},
   "source": [
    "Random instances are generated following:\n",
    "\n",
    "Li, S., Yan, Z., & Wu, C. (2021). [Learning to delegate for large-scale vehicle routing](https://proceedings.neurips.cc/paper/2021/hash/dc9fa5f217a1e57b8a6adeb065560b38-Abstract.html). Advances in Neural Information Processing Systems, 34, 26198-26211."
   ]
  },
  {
   "cell_type": "code",
   "execution_count": 7,
   "id": "419a86a0-a76f-4a94-ba34-81c7ae3e1fe5",
   "metadata": {},
   "outputs": [],
   "source": [
    "generator = InstanceGenerator()"
   ]
  },
  {
   "cell_type": "code",
   "execution_count": 8,
   "id": "832292a3-1aaf-43ce-a560-032ce6427e0e",
   "metadata": {},
   "outputs": [],
   "source": [
    "instance = generator.sample_instance(num_agents=2, num_nodes=10)"
   ]
  },
  {
   "cell_type": "code",
   "execution_count": 9,
   "id": "a28f1dde-3c58-4453-96e1-cc0d9956a107",
   "metadata": {},
   "outputs": [
    {
     "data": {
      "text/plain": [
       "dict_keys(['name', 'num_nodes', 'num_agents', 'data'])"
      ]
     },
     "execution_count": 9,
     "metadata": {},
     "output_type": "execute_result"
    }
   ],
   "source": [
    "instance.keys()"
   ]
  },
  {
   "cell_type": "code",
   "execution_count": 10,
   "id": "e8bcf50a-e8de-4a5d-98b2-885bb46eeb6f",
   "metadata": {},
   "outputs": [
    {
     "data": {
      "text/plain": [
       "{'name': 'random_instance',\n",
       " 'num_nodes': 10,\n",
       " 'num_agents': 2,\n",
       " 'data': TensorDict(\n",
       "     fields={\n",
       "         capacity: Tensor(shape=torch.Size([1, 1]), device=cpu, dtype=torch.float32, is_shared=False),\n",
       "         coords: Tensor(shape=torch.Size([1, 10, 2]), device=cpu, dtype=torch.float32, is_shared=False),\n",
       "         demands: Tensor(shape=torch.Size([1, 10]), device=cpu, dtype=torch.float32, is_shared=False),\n",
       "         depot_idx: Tensor(shape=torch.Size([1, 1]), device=cpu, dtype=torch.int64, is_shared=False),\n",
       "         end_time: Tensor(shape=torch.Size([1]), device=cpu, dtype=torch.float32, is_shared=False),\n",
       "         is_depot: Tensor(shape=torch.Size([1, 10]), device=cpu, dtype=torch.bool, is_shared=False),\n",
       "         service_time: Tensor(shape=torch.Size([1, 10]), device=cpu, dtype=torch.float32, is_shared=False),\n",
       "         start_time: Tensor(shape=torch.Size([1]), device=cpu, dtype=torch.float32, is_shared=False),\n",
       "         tw_high: Tensor(shape=torch.Size([1, 10]), device=cpu, dtype=torch.float32, is_shared=False),\n",
       "         tw_low: Tensor(shape=torch.Size([1, 10]), device=cpu, dtype=torch.float32, is_shared=False)},\n",
       "     batch_size=torch.Size([1]),\n",
       "     device=cpu,\n",
       "     is_shared=False)}"
      ]
     },
     "execution_count": 10,
     "metadata": {},
     "output_type": "execute_result"
    }
   ],
   "source": [
    "instance"
   ]
  },
  {
   "cell_type": "markdown",
   "id": "6537208d-ee19-48ce-a452-e35826e715f3",
   "metadata": {},
   "source": [
    "It's possible to load a set of pre-generaded instances, to be used as validation/test sets. For example:"
   ]
  },
  {
   "cell_type": "code",
   "execution_count": 11,
   "id": "73cf9d5d-65c2-4b89-9e8d-7655b97d1734",
   "metadata": {},
   "outputs": [
    {
     "data": {
      "text/plain": [
       "{'servs_100_agents_25': {'validation': ['cvrptw/data/generated\\\\servs_100_agents_25\\\\validation/generated_val_servs_100_agents_25_0',\n",
       "   'cvrptw/data/generated\\\\servs_100_agents_25\\\\validation/generated_val_servs_100_agents_25_1',\n",
       "   'cvrptw/data/generated\\\\servs_100_agents_25\\\\validation/generated_val_servs_100_agents_25_10',\n",
       "   'cvrptw/data/generated\\\\servs_100_agents_25\\\\validation/generated_val_servs_100_agents_25_11',\n",
       "   'cvrptw/data/generated\\\\servs_100_agents_25\\\\validation/generated_val_servs_100_agents_25_12',\n",
       "   'cvrptw/data/generated\\\\servs_100_agents_25\\\\validation/generated_val_servs_100_agents_25_13',\n",
       "   'cvrptw/data/generated\\\\servs_100_agents_25\\\\validation/generated_val_servs_100_agents_25_14',\n",
       "   'cvrptw/data/generated\\\\servs_100_agents_25\\\\validation/generated_val_servs_100_agents_25_15',\n",
       "   'cvrptw/data/generated\\\\servs_100_agents_25\\\\validation/generated_val_servs_100_agents_25_16',\n",
       "   'cvrptw/data/generated\\\\servs_100_agents_25\\\\validation/generated_val_servs_100_agents_25_17',\n",
       "   'cvrptw/data/generated\\\\servs_100_agents_25\\\\validation/generated_val_servs_100_agents_25_18',\n",
       "   'cvrptw/data/generated\\\\servs_100_agents_25\\\\validation/generated_val_servs_100_agents_25_19',\n",
       "   'cvrptw/data/generated\\\\servs_100_agents_25\\\\validation/generated_val_servs_100_agents_25_2',\n",
       "   'cvrptw/data/generated\\\\servs_100_agents_25\\\\validation/generated_val_servs_100_agents_25_20',\n",
       "   'cvrptw/data/generated\\\\servs_100_agents_25\\\\validation/generated_val_servs_100_agents_25_21',\n",
       "   'cvrptw/data/generated\\\\servs_100_agents_25\\\\validation/generated_val_servs_100_agents_25_22',\n",
       "   'cvrptw/data/generated\\\\servs_100_agents_25\\\\validation/generated_val_servs_100_agents_25_23',\n",
       "   'cvrptw/data/generated\\\\servs_100_agents_25\\\\validation/generated_val_servs_100_agents_25_24',\n",
       "   'cvrptw/data/generated\\\\servs_100_agents_25\\\\validation/generated_val_servs_100_agents_25_25',\n",
       "   'cvrptw/data/generated\\\\servs_100_agents_25\\\\validation/generated_val_servs_100_agents_25_26',\n",
       "   'cvrptw/data/generated\\\\servs_100_agents_25\\\\validation/generated_val_servs_100_agents_25_27',\n",
       "   'cvrptw/data/generated\\\\servs_100_agents_25\\\\validation/generated_val_servs_100_agents_25_28',\n",
       "   'cvrptw/data/generated\\\\servs_100_agents_25\\\\validation/generated_val_servs_100_agents_25_29',\n",
       "   'cvrptw/data/generated\\\\servs_100_agents_25\\\\validation/generated_val_servs_100_agents_25_3',\n",
       "   'cvrptw/data/generated\\\\servs_100_agents_25\\\\validation/generated_val_servs_100_agents_25_30',\n",
       "   'cvrptw/data/generated\\\\servs_100_agents_25\\\\validation/generated_val_servs_100_agents_25_31',\n",
       "   'cvrptw/data/generated\\\\servs_100_agents_25\\\\validation/generated_val_servs_100_agents_25_32',\n",
       "   'cvrptw/data/generated\\\\servs_100_agents_25\\\\validation/generated_val_servs_100_agents_25_33',\n",
       "   'cvrptw/data/generated\\\\servs_100_agents_25\\\\validation/generated_val_servs_100_agents_25_34',\n",
       "   'cvrptw/data/generated\\\\servs_100_agents_25\\\\validation/generated_val_servs_100_agents_25_35',\n",
       "   'cvrptw/data/generated\\\\servs_100_agents_25\\\\validation/generated_val_servs_100_agents_25_36',\n",
       "   'cvrptw/data/generated\\\\servs_100_agents_25\\\\validation/generated_val_servs_100_agents_25_37',\n",
       "   'cvrptw/data/generated\\\\servs_100_agents_25\\\\validation/generated_val_servs_100_agents_25_38',\n",
       "   'cvrptw/data/generated\\\\servs_100_agents_25\\\\validation/generated_val_servs_100_agents_25_39',\n",
       "   'cvrptw/data/generated\\\\servs_100_agents_25\\\\validation/generated_val_servs_100_agents_25_4',\n",
       "   'cvrptw/data/generated\\\\servs_100_agents_25\\\\validation/generated_val_servs_100_agents_25_40',\n",
       "   'cvrptw/data/generated\\\\servs_100_agents_25\\\\validation/generated_val_servs_100_agents_25_41',\n",
       "   'cvrptw/data/generated\\\\servs_100_agents_25\\\\validation/generated_val_servs_100_agents_25_42',\n",
       "   'cvrptw/data/generated\\\\servs_100_agents_25\\\\validation/generated_val_servs_100_agents_25_43',\n",
       "   'cvrptw/data/generated\\\\servs_100_agents_25\\\\validation/generated_val_servs_100_agents_25_44',\n",
       "   'cvrptw/data/generated\\\\servs_100_agents_25\\\\validation/generated_val_servs_100_agents_25_45',\n",
       "   'cvrptw/data/generated\\\\servs_100_agents_25\\\\validation/generated_val_servs_100_agents_25_46',\n",
       "   'cvrptw/data/generated\\\\servs_100_agents_25\\\\validation/generated_val_servs_100_agents_25_47',\n",
       "   'cvrptw/data/generated\\\\servs_100_agents_25\\\\validation/generated_val_servs_100_agents_25_48',\n",
       "   'cvrptw/data/generated\\\\servs_100_agents_25\\\\validation/generated_val_servs_100_agents_25_49',\n",
       "   'cvrptw/data/generated\\\\servs_100_agents_25\\\\validation/generated_val_servs_100_agents_25_5',\n",
       "   'cvrptw/data/generated\\\\servs_100_agents_25\\\\validation/generated_val_servs_100_agents_25_50',\n",
       "   'cvrptw/data/generated\\\\servs_100_agents_25\\\\validation/generated_val_servs_100_agents_25_51',\n",
       "   'cvrptw/data/generated\\\\servs_100_agents_25\\\\validation/generated_val_servs_100_agents_25_52',\n",
       "   'cvrptw/data/generated\\\\servs_100_agents_25\\\\validation/generated_val_servs_100_agents_25_53',\n",
       "   'cvrptw/data/generated\\\\servs_100_agents_25\\\\validation/generated_val_servs_100_agents_25_54',\n",
       "   'cvrptw/data/generated\\\\servs_100_agents_25\\\\validation/generated_val_servs_100_agents_25_55',\n",
       "   'cvrptw/data/generated\\\\servs_100_agents_25\\\\validation/generated_val_servs_100_agents_25_56',\n",
       "   'cvrptw/data/generated\\\\servs_100_agents_25\\\\validation/generated_val_servs_100_agents_25_57',\n",
       "   'cvrptw/data/generated\\\\servs_100_agents_25\\\\validation/generated_val_servs_100_agents_25_58',\n",
       "   'cvrptw/data/generated\\\\servs_100_agents_25\\\\validation/generated_val_servs_100_agents_25_59',\n",
       "   'cvrptw/data/generated\\\\servs_100_agents_25\\\\validation/generated_val_servs_100_agents_25_6',\n",
       "   'cvrptw/data/generated\\\\servs_100_agents_25\\\\validation/generated_val_servs_100_agents_25_60',\n",
       "   'cvrptw/data/generated\\\\servs_100_agents_25\\\\validation/generated_val_servs_100_agents_25_61',\n",
       "   'cvrptw/data/generated\\\\servs_100_agents_25\\\\validation/generated_val_servs_100_agents_25_62',\n",
       "   'cvrptw/data/generated\\\\servs_100_agents_25\\\\validation/generated_val_servs_100_agents_25_63',\n",
       "   'cvrptw/data/generated\\\\servs_100_agents_25\\\\validation/generated_val_servs_100_agents_25_7',\n",
       "   'cvrptw/data/generated\\\\servs_100_agents_25\\\\validation/generated_val_servs_100_agents_25_8',\n",
       "   'cvrptw/data/generated\\\\servs_100_agents_25\\\\validation/generated_val_servs_100_agents_25_9'],\n",
       "  'test': ['cvrptw/data/generated\\\\servs_100_agents_25\\\\test/generated_test_servs_100_agents_25_0',\n",
       "   'cvrptw/data/generated\\\\servs_100_agents_25\\\\test/generated_test_servs_100_agents_25_1',\n",
       "   'cvrptw/data/generated\\\\servs_100_agents_25\\\\test/generated_test_servs_100_agents_25_10',\n",
       "   'cvrptw/data/generated\\\\servs_100_agents_25\\\\test/generated_test_servs_100_agents_25_11',\n",
       "   'cvrptw/data/generated\\\\servs_100_agents_25\\\\test/generated_test_servs_100_agents_25_12',\n",
       "   'cvrptw/data/generated\\\\servs_100_agents_25\\\\test/generated_test_servs_100_agents_25_13',\n",
       "   'cvrptw/data/generated\\\\servs_100_agents_25\\\\test/generated_test_servs_100_agents_25_14',\n",
       "   'cvrptw/data/generated\\\\servs_100_agents_25\\\\test/generated_test_servs_100_agents_25_15',\n",
       "   'cvrptw/data/generated\\\\servs_100_agents_25\\\\test/generated_test_servs_100_agents_25_16',\n",
       "   'cvrptw/data/generated\\\\servs_100_agents_25\\\\test/generated_test_servs_100_agents_25_17',\n",
       "   'cvrptw/data/generated\\\\servs_100_agents_25\\\\test/generated_test_servs_100_agents_25_18',\n",
       "   'cvrptw/data/generated\\\\servs_100_agents_25\\\\test/generated_test_servs_100_agents_25_19',\n",
       "   'cvrptw/data/generated\\\\servs_100_agents_25\\\\test/generated_test_servs_100_agents_25_2',\n",
       "   'cvrptw/data/generated\\\\servs_100_agents_25\\\\test/generated_test_servs_100_agents_25_20',\n",
       "   'cvrptw/data/generated\\\\servs_100_agents_25\\\\test/generated_test_servs_100_agents_25_21',\n",
       "   'cvrptw/data/generated\\\\servs_100_agents_25\\\\test/generated_test_servs_100_agents_25_22',\n",
       "   'cvrptw/data/generated\\\\servs_100_agents_25\\\\test/generated_test_servs_100_agents_25_23',\n",
       "   'cvrptw/data/generated\\\\servs_100_agents_25\\\\test/generated_test_servs_100_agents_25_24',\n",
       "   'cvrptw/data/generated\\\\servs_100_agents_25\\\\test/generated_test_servs_100_agents_25_25',\n",
       "   'cvrptw/data/generated\\\\servs_100_agents_25\\\\test/generated_test_servs_100_agents_25_26',\n",
       "   'cvrptw/data/generated\\\\servs_100_agents_25\\\\test/generated_test_servs_100_agents_25_27',\n",
       "   'cvrptw/data/generated\\\\servs_100_agents_25\\\\test/generated_test_servs_100_agents_25_28',\n",
       "   'cvrptw/data/generated\\\\servs_100_agents_25\\\\test/generated_test_servs_100_agents_25_29',\n",
       "   'cvrptw/data/generated\\\\servs_100_agents_25\\\\test/generated_test_servs_100_agents_25_3',\n",
       "   'cvrptw/data/generated\\\\servs_100_agents_25\\\\test/generated_test_servs_100_agents_25_30',\n",
       "   'cvrptw/data/generated\\\\servs_100_agents_25\\\\test/generated_test_servs_100_agents_25_31',\n",
       "   'cvrptw/data/generated\\\\servs_100_agents_25\\\\test/generated_test_servs_100_agents_25_32',\n",
       "   'cvrptw/data/generated\\\\servs_100_agents_25\\\\test/generated_test_servs_100_agents_25_33',\n",
       "   'cvrptw/data/generated\\\\servs_100_agents_25\\\\test/generated_test_servs_100_agents_25_34',\n",
       "   'cvrptw/data/generated\\\\servs_100_agents_25\\\\test/generated_test_servs_100_agents_25_35',\n",
       "   'cvrptw/data/generated\\\\servs_100_agents_25\\\\test/generated_test_servs_100_agents_25_36',\n",
       "   'cvrptw/data/generated\\\\servs_100_agents_25\\\\test/generated_test_servs_100_agents_25_37',\n",
       "   'cvrptw/data/generated\\\\servs_100_agents_25\\\\test/generated_test_servs_100_agents_25_38',\n",
       "   'cvrptw/data/generated\\\\servs_100_agents_25\\\\test/generated_test_servs_100_agents_25_39',\n",
       "   'cvrptw/data/generated\\\\servs_100_agents_25\\\\test/generated_test_servs_100_agents_25_4',\n",
       "   'cvrptw/data/generated\\\\servs_100_agents_25\\\\test/generated_test_servs_100_agents_25_40',\n",
       "   'cvrptw/data/generated\\\\servs_100_agents_25\\\\test/generated_test_servs_100_agents_25_41',\n",
       "   'cvrptw/data/generated\\\\servs_100_agents_25\\\\test/generated_test_servs_100_agents_25_42',\n",
       "   'cvrptw/data/generated\\\\servs_100_agents_25\\\\test/generated_test_servs_100_agents_25_43',\n",
       "   'cvrptw/data/generated\\\\servs_100_agents_25\\\\test/generated_test_servs_100_agents_25_44',\n",
       "   'cvrptw/data/generated\\\\servs_100_agents_25\\\\test/generated_test_servs_100_agents_25_45',\n",
       "   'cvrptw/data/generated\\\\servs_100_agents_25\\\\test/generated_test_servs_100_agents_25_46',\n",
       "   'cvrptw/data/generated\\\\servs_100_agents_25\\\\test/generated_test_servs_100_agents_25_47',\n",
       "   'cvrptw/data/generated\\\\servs_100_agents_25\\\\test/generated_test_servs_100_agents_25_48',\n",
       "   'cvrptw/data/generated\\\\servs_100_agents_25\\\\test/generated_test_servs_100_agents_25_49',\n",
       "   'cvrptw/data/generated\\\\servs_100_agents_25\\\\test/generated_test_servs_100_agents_25_5',\n",
       "   'cvrptw/data/generated\\\\servs_100_agents_25\\\\test/generated_test_servs_100_agents_25_50',\n",
       "   'cvrptw/data/generated\\\\servs_100_agents_25\\\\test/generated_test_servs_100_agents_25_51',\n",
       "   'cvrptw/data/generated\\\\servs_100_agents_25\\\\test/generated_test_servs_100_agents_25_52',\n",
       "   'cvrptw/data/generated\\\\servs_100_agents_25\\\\test/generated_test_servs_100_agents_25_53',\n",
       "   'cvrptw/data/generated\\\\servs_100_agents_25\\\\test/generated_test_servs_100_agents_25_54',\n",
       "   'cvrptw/data/generated\\\\servs_100_agents_25\\\\test/generated_test_servs_100_agents_25_55',\n",
       "   'cvrptw/data/generated\\\\servs_100_agents_25\\\\test/generated_test_servs_100_agents_25_56',\n",
       "   'cvrptw/data/generated\\\\servs_100_agents_25\\\\test/generated_test_servs_100_agents_25_57',\n",
       "   'cvrptw/data/generated\\\\servs_100_agents_25\\\\test/generated_test_servs_100_agents_25_58',\n",
       "   'cvrptw/data/generated\\\\servs_100_agents_25\\\\test/generated_test_servs_100_agents_25_59',\n",
       "   'cvrptw/data/generated\\\\servs_100_agents_25\\\\test/generated_test_servs_100_agents_25_6',\n",
       "   'cvrptw/data/generated\\\\servs_100_agents_25\\\\test/generated_test_servs_100_agents_25_60',\n",
       "   'cvrptw/data/generated\\\\servs_100_agents_25\\\\test/generated_test_servs_100_agents_25_61',\n",
       "   'cvrptw/data/generated\\\\servs_100_agents_25\\\\test/generated_test_servs_100_agents_25_62',\n",
       "   'cvrptw/data/generated\\\\servs_100_agents_25\\\\test/generated_test_servs_100_agents_25_63',\n",
       "   'cvrptw/data/generated\\\\servs_100_agents_25\\\\test/generated_test_servs_100_agents_25_7',\n",
       "   'cvrptw/data/generated\\\\servs_100_agents_25\\\\test/generated_test_servs_100_agents_25_8',\n",
       "   'cvrptw/data/generated\\\\servs_100_agents_25\\\\test/generated_test_servs_100_agents_25_9']},\n",
       " 'servs_25_agents_10': {'validation': ['cvrptw/data/generated\\\\servs_25_agents_10\\\\validation/generated_val_servs_25_agents_10_0',\n",
       "   'cvrptw/data/generated\\\\servs_25_agents_10\\\\validation/generated_val_servs_25_agents_10_1',\n",
       "   'cvrptw/data/generated\\\\servs_25_agents_10\\\\validation/generated_val_servs_25_agents_10_10',\n",
       "   'cvrptw/data/generated\\\\servs_25_agents_10\\\\validation/generated_val_servs_25_agents_10_11',\n",
       "   'cvrptw/data/generated\\\\servs_25_agents_10\\\\validation/generated_val_servs_25_agents_10_12',\n",
       "   'cvrptw/data/generated\\\\servs_25_agents_10\\\\validation/generated_val_servs_25_agents_10_13',\n",
       "   'cvrptw/data/generated\\\\servs_25_agents_10\\\\validation/generated_val_servs_25_agents_10_14',\n",
       "   'cvrptw/data/generated\\\\servs_25_agents_10\\\\validation/generated_val_servs_25_agents_10_15',\n",
       "   'cvrptw/data/generated\\\\servs_25_agents_10\\\\validation/generated_val_servs_25_agents_10_16',\n",
       "   'cvrptw/data/generated\\\\servs_25_agents_10\\\\validation/generated_val_servs_25_agents_10_17',\n",
       "   'cvrptw/data/generated\\\\servs_25_agents_10\\\\validation/generated_val_servs_25_agents_10_18',\n",
       "   'cvrptw/data/generated\\\\servs_25_agents_10\\\\validation/generated_val_servs_25_agents_10_19',\n",
       "   'cvrptw/data/generated\\\\servs_25_agents_10\\\\validation/generated_val_servs_25_agents_10_2',\n",
       "   'cvrptw/data/generated\\\\servs_25_agents_10\\\\validation/generated_val_servs_25_agents_10_20',\n",
       "   'cvrptw/data/generated\\\\servs_25_agents_10\\\\validation/generated_val_servs_25_agents_10_21',\n",
       "   'cvrptw/data/generated\\\\servs_25_agents_10\\\\validation/generated_val_servs_25_agents_10_22',\n",
       "   'cvrptw/data/generated\\\\servs_25_agents_10\\\\validation/generated_val_servs_25_agents_10_23',\n",
       "   'cvrptw/data/generated\\\\servs_25_agents_10\\\\validation/generated_val_servs_25_agents_10_24',\n",
       "   'cvrptw/data/generated\\\\servs_25_agents_10\\\\validation/generated_val_servs_25_agents_10_25',\n",
       "   'cvrptw/data/generated\\\\servs_25_agents_10\\\\validation/generated_val_servs_25_agents_10_26',\n",
       "   'cvrptw/data/generated\\\\servs_25_agents_10\\\\validation/generated_val_servs_25_agents_10_27',\n",
       "   'cvrptw/data/generated\\\\servs_25_agents_10\\\\validation/generated_val_servs_25_agents_10_28',\n",
       "   'cvrptw/data/generated\\\\servs_25_agents_10\\\\validation/generated_val_servs_25_agents_10_29',\n",
       "   'cvrptw/data/generated\\\\servs_25_agents_10\\\\validation/generated_val_servs_25_agents_10_3',\n",
       "   'cvrptw/data/generated\\\\servs_25_agents_10\\\\validation/generated_val_servs_25_agents_10_30',\n",
       "   'cvrptw/data/generated\\\\servs_25_agents_10\\\\validation/generated_val_servs_25_agents_10_31',\n",
       "   'cvrptw/data/generated\\\\servs_25_agents_10\\\\validation/generated_val_servs_25_agents_10_32',\n",
       "   'cvrptw/data/generated\\\\servs_25_agents_10\\\\validation/generated_val_servs_25_agents_10_33',\n",
       "   'cvrptw/data/generated\\\\servs_25_agents_10\\\\validation/generated_val_servs_25_agents_10_34',\n",
       "   'cvrptw/data/generated\\\\servs_25_agents_10\\\\validation/generated_val_servs_25_agents_10_35',\n",
       "   'cvrptw/data/generated\\\\servs_25_agents_10\\\\validation/generated_val_servs_25_agents_10_36',\n",
       "   'cvrptw/data/generated\\\\servs_25_agents_10\\\\validation/generated_val_servs_25_agents_10_37',\n",
       "   'cvrptw/data/generated\\\\servs_25_agents_10\\\\validation/generated_val_servs_25_agents_10_38',\n",
       "   'cvrptw/data/generated\\\\servs_25_agents_10\\\\validation/generated_val_servs_25_agents_10_39',\n",
       "   'cvrptw/data/generated\\\\servs_25_agents_10\\\\validation/generated_val_servs_25_agents_10_4',\n",
       "   'cvrptw/data/generated\\\\servs_25_agents_10\\\\validation/generated_val_servs_25_agents_10_40',\n",
       "   'cvrptw/data/generated\\\\servs_25_agents_10\\\\validation/generated_val_servs_25_agents_10_41',\n",
       "   'cvrptw/data/generated\\\\servs_25_agents_10\\\\validation/generated_val_servs_25_agents_10_42',\n",
       "   'cvrptw/data/generated\\\\servs_25_agents_10\\\\validation/generated_val_servs_25_agents_10_43',\n",
       "   'cvrptw/data/generated\\\\servs_25_agents_10\\\\validation/generated_val_servs_25_agents_10_44',\n",
       "   'cvrptw/data/generated\\\\servs_25_agents_10\\\\validation/generated_val_servs_25_agents_10_45',\n",
       "   'cvrptw/data/generated\\\\servs_25_agents_10\\\\validation/generated_val_servs_25_agents_10_46',\n",
       "   'cvrptw/data/generated\\\\servs_25_agents_10\\\\validation/generated_val_servs_25_agents_10_47',\n",
       "   'cvrptw/data/generated\\\\servs_25_agents_10\\\\validation/generated_val_servs_25_agents_10_48',\n",
       "   'cvrptw/data/generated\\\\servs_25_agents_10\\\\validation/generated_val_servs_25_agents_10_49',\n",
       "   'cvrptw/data/generated\\\\servs_25_agents_10\\\\validation/generated_val_servs_25_agents_10_5',\n",
       "   'cvrptw/data/generated\\\\servs_25_agents_10\\\\validation/generated_val_servs_25_agents_10_50',\n",
       "   'cvrptw/data/generated\\\\servs_25_agents_10\\\\validation/generated_val_servs_25_agents_10_51',\n",
       "   'cvrptw/data/generated\\\\servs_25_agents_10\\\\validation/generated_val_servs_25_agents_10_52',\n",
       "   'cvrptw/data/generated\\\\servs_25_agents_10\\\\validation/generated_val_servs_25_agents_10_53',\n",
       "   'cvrptw/data/generated\\\\servs_25_agents_10\\\\validation/generated_val_servs_25_agents_10_54',\n",
       "   'cvrptw/data/generated\\\\servs_25_agents_10\\\\validation/generated_val_servs_25_agents_10_55',\n",
       "   'cvrptw/data/generated\\\\servs_25_agents_10\\\\validation/generated_val_servs_25_agents_10_56',\n",
       "   'cvrptw/data/generated\\\\servs_25_agents_10\\\\validation/generated_val_servs_25_agents_10_57',\n",
       "   'cvrptw/data/generated\\\\servs_25_agents_10\\\\validation/generated_val_servs_25_agents_10_58',\n",
       "   'cvrptw/data/generated\\\\servs_25_agents_10\\\\validation/generated_val_servs_25_agents_10_59',\n",
       "   'cvrptw/data/generated\\\\servs_25_agents_10\\\\validation/generated_val_servs_25_agents_10_6',\n",
       "   'cvrptw/data/generated\\\\servs_25_agents_10\\\\validation/generated_val_servs_25_agents_10_60',\n",
       "   'cvrptw/data/generated\\\\servs_25_agents_10\\\\validation/generated_val_servs_25_agents_10_61',\n",
       "   'cvrptw/data/generated\\\\servs_25_agents_10\\\\validation/generated_val_servs_25_agents_10_62',\n",
       "   'cvrptw/data/generated\\\\servs_25_agents_10\\\\validation/generated_val_servs_25_agents_10_63',\n",
       "   'cvrptw/data/generated\\\\servs_25_agents_10\\\\validation/generated_val_servs_25_agents_10_7',\n",
       "   'cvrptw/data/generated\\\\servs_25_agents_10\\\\validation/generated_val_servs_25_agents_10_8',\n",
       "   'cvrptw/data/generated\\\\servs_25_agents_10\\\\validation/generated_val_servs_25_agents_10_9'],\n",
       "  'test': ['cvrptw/data/generated\\\\servs_25_agents_10\\\\test/generated_test_servs_25_agents_10_0',\n",
       "   'cvrptw/data/generated\\\\servs_25_agents_10\\\\test/generated_test_servs_25_agents_10_1',\n",
       "   'cvrptw/data/generated\\\\servs_25_agents_10\\\\test/generated_test_servs_25_agents_10_10',\n",
       "   'cvrptw/data/generated\\\\servs_25_agents_10\\\\test/generated_test_servs_25_agents_10_11',\n",
       "   'cvrptw/data/generated\\\\servs_25_agents_10\\\\test/generated_test_servs_25_agents_10_12',\n",
       "   'cvrptw/data/generated\\\\servs_25_agents_10\\\\test/generated_test_servs_25_agents_10_13',\n",
       "   'cvrptw/data/generated\\\\servs_25_agents_10\\\\test/generated_test_servs_25_agents_10_14',\n",
       "   'cvrptw/data/generated\\\\servs_25_agents_10\\\\test/generated_test_servs_25_agents_10_15',\n",
       "   'cvrptw/data/generated\\\\servs_25_agents_10\\\\test/generated_test_servs_25_agents_10_16',\n",
       "   'cvrptw/data/generated\\\\servs_25_agents_10\\\\test/generated_test_servs_25_agents_10_17',\n",
       "   'cvrptw/data/generated\\\\servs_25_agents_10\\\\test/generated_test_servs_25_agents_10_18',\n",
       "   'cvrptw/data/generated\\\\servs_25_agents_10\\\\test/generated_test_servs_25_agents_10_19',\n",
       "   'cvrptw/data/generated\\\\servs_25_agents_10\\\\test/generated_test_servs_25_agents_10_2',\n",
       "   'cvrptw/data/generated\\\\servs_25_agents_10\\\\test/generated_test_servs_25_agents_10_20',\n",
       "   'cvrptw/data/generated\\\\servs_25_agents_10\\\\test/generated_test_servs_25_agents_10_21',\n",
       "   'cvrptw/data/generated\\\\servs_25_agents_10\\\\test/generated_test_servs_25_agents_10_22',\n",
       "   'cvrptw/data/generated\\\\servs_25_agents_10\\\\test/generated_test_servs_25_agents_10_23',\n",
       "   'cvrptw/data/generated\\\\servs_25_agents_10\\\\test/generated_test_servs_25_agents_10_24',\n",
       "   'cvrptw/data/generated\\\\servs_25_agents_10\\\\test/generated_test_servs_25_agents_10_25',\n",
       "   'cvrptw/data/generated\\\\servs_25_agents_10\\\\test/generated_test_servs_25_agents_10_26',\n",
       "   'cvrptw/data/generated\\\\servs_25_agents_10\\\\test/generated_test_servs_25_agents_10_27',\n",
       "   'cvrptw/data/generated\\\\servs_25_agents_10\\\\test/generated_test_servs_25_agents_10_28',\n",
       "   'cvrptw/data/generated\\\\servs_25_agents_10\\\\test/generated_test_servs_25_agents_10_29',\n",
       "   'cvrptw/data/generated\\\\servs_25_agents_10\\\\test/generated_test_servs_25_agents_10_3',\n",
       "   'cvrptw/data/generated\\\\servs_25_agents_10\\\\test/generated_test_servs_25_agents_10_30',\n",
       "   'cvrptw/data/generated\\\\servs_25_agents_10\\\\test/generated_test_servs_25_agents_10_31',\n",
       "   'cvrptw/data/generated\\\\servs_25_agents_10\\\\test/generated_test_servs_25_agents_10_32',\n",
       "   'cvrptw/data/generated\\\\servs_25_agents_10\\\\test/generated_test_servs_25_agents_10_33',\n",
       "   'cvrptw/data/generated\\\\servs_25_agents_10\\\\test/generated_test_servs_25_agents_10_34',\n",
       "   'cvrptw/data/generated\\\\servs_25_agents_10\\\\test/generated_test_servs_25_agents_10_35',\n",
       "   'cvrptw/data/generated\\\\servs_25_agents_10\\\\test/generated_test_servs_25_agents_10_36',\n",
       "   'cvrptw/data/generated\\\\servs_25_agents_10\\\\test/generated_test_servs_25_agents_10_37',\n",
       "   'cvrptw/data/generated\\\\servs_25_agents_10\\\\test/generated_test_servs_25_agents_10_38',\n",
       "   'cvrptw/data/generated\\\\servs_25_agents_10\\\\test/generated_test_servs_25_agents_10_39',\n",
       "   'cvrptw/data/generated\\\\servs_25_agents_10\\\\test/generated_test_servs_25_agents_10_4',\n",
       "   'cvrptw/data/generated\\\\servs_25_agents_10\\\\test/generated_test_servs_25_agents_10_40',\n",
       "   'cvrptw/data/generated\\\\servs_25_agents_10\\\\test/generated_test_servs_25_agents_10_41',\n",
       "   'cvrptw/data/generated\\\\servs_25_agents_10\\\\test/generated_test_servs_25_agents_10_42',\n",
       "   'cvrptw/data/generated\\\\servs_25_agents_10\\\\test/generated_test_servs_25_agents_10_43',\n",
       "   'cvrptw/data/generated\\\\servs_25_agents_10\\\\test/generated_test_servs_25_agents_10_44',\n",
       "   'cvrptw/data/generated\\\\servs_25_agents_10\\\\test/generated_test_servs_25_agents_10_45',\n",
       "   'cvrptw/data/generated\\\\servs_25_agents_10\\\\test/generated_test_servs_25_agents_10_46',\n",
       "   'cvrptw/data/generated\\\\servs_25_agents_10\\\\test/generated_test_servs_25_agents_10_47',\n",
       "   'cvrptw/data/generated\\\\servs_25_agents_10\\\\test/generated_test_servs_25_agents_10_48',\n",
       "   'cvrptw/data/generated\\\\servs_25_agents_10\\\\test/generated_test_servs_25_agents_10_49',\n",
       "   'cvrptw/data/generated\\\\servs_25_agents_10\\\\test/generated_test_servs_25_agents_10_5',\n",
       "   'cvrptw/data/generated\\\\servs_25_agents_10\\\\test/generated_test_servs_25_agents_10_50',\n",
       "   'cvrptw/data/generated\\\\servs_25_agents_10\\\\test/generated_test_servs_25_agents_10_51',\n",
       "   'cvrptw/data/generated\\\\servs_25_agents_10\\\\test/generated_test_servs_25_agents_10_52',\n",
       "   'cvrptw/data/generated\\\\servs_25_agents_10\\\\test/generated_test_servs_25_agents_10_53',\n",
       "   'cvrptw/data/generated\\\\servs_25_agents_10\\\\test/generated_test_servs_25_agents_10_54',\n",
       "   'cvrptw/data/generated\\\\servs_25_agents_10\\\\test/generated_test_servs_25_agents_10_55',\n",
       "   'cvrptw/data/generated\\\\servs_25_agents_10\\\\test/generated_test_servs_25_agents_10_56',\n",
       "   'cvrptw/data/generated\\\\servs_25_agents_10\\\\test/generated_test_servs_25_agents_10_57',\n",
       "   'cvrptw/data/generated\\\\servs_25_agents_10\\\\test/generated_test_servs_25_agents_10_58',\n",
       "   'cvrptw/data/generated\\\\servs_25_agents_10\\\\test/generated_test_servs_25_agents_10_59',\n",
       "   'cvrptw/data/generated\\\\servs_25_agents_10\\\\test/generated_test_servs_25_agents_10_6',\n",
       "   'cvrptw/data/generated\\\\servs_25_agents_10\\\\test/generated_test_servs_25_agents_10_60',\n",
       "   'cvrptw/data/generated\\\\servs_25_agents_10\\\\test/generated_test_servs_25_agents_10_61',\n",
       "   'cvrptw/data/generated\\\\servs_25_agents_10\\\\test/generated_test_servs_25_agents_10_62',\n",
       "   'cvrptw/data/generated\\\\servs_25_agents_10\\\\test/generated_test_servs_25_agents_10_63',\n",
       "   'cvrptw/data/generated\\\\servs_25_agents_10\\\\test/generated_test_servs_25_agents_10_7',\n",
       "   'cvrptw/data/generated\\\\servs_25_agents_10\\\\test/generated_test_servs_25_agents_10_8',\n",
       "   'cvrptw/data/generated\\\\servs_25_agents_10\\\\test/generated_test_servs_25_agents_10_9']},\n",
       " 'servs_50_agents_25': {'validation': ['cvrptw/data/generated\\\\servs_50_agents_25\\\\validation/generated_val_servs_50_agents_25_0',\n",
       "   'cvrptw/data/generated\\\\servs_50_agents_25\\\\validation/generated_val_servs_50_agents_25_1',\n",
       "   'cvrptw/data/generated\\\\servs_50_agents_25\\\\validation/generated_val_servs_50_agents_25_10',\n",
       "   'cvrptw/data/generated\\\\servs_50_agents_25\\\\validation/generated_val_servs_50_agents_25_11',\n",
       "   'cvrptw/data/generated\\\\servs_50_agents_25\\\\validation/generated_val_servs_50_agents_25_12',\n",
       "   'cvrptw/data/generated\\\\servs_50_agents_25\\\\validation/generated_val_servs_50_agents_25_13',\n",
       "   'cvrptw/data/generated\\\\servs_50_agents_25\\\\validation/generated_val_servs_50_agents_25_14',\n",
       "   'cvrptw/data/generated\\\\servs_50_agents_25\\\\validation/generated_val_servs_50_agents_25_15',\n",
       "   'cvrptw/data/generated\\\\servs_50_agents_25\\\\validation/generated_val_servs_50_agents_25_16',\n",
       "   'cvrptw/data/generated\\\\servs_50_agents_25\\\\validation/generated_val_servs_50_agents_25_17',\n",
       "   'cvrptw/data/generated\\\\servs_50_agents_25\\\\validation/generated_val_servs_50_agents_25_18',\n",
       "   'cvrptw/data/generated\\\\servs_50_agents_25\\\\validation/generated_val_servs_50_agents_25_19',\n",
       "   'cvrptw/data/generated\\\\servs_50_agents_25\\\\validation/generated_val_servs_50_agents_25_2',\n",
       "   'cvrptw/data/generated\\\\servs_50_agents_25\\\\validation/generated_val_servs_50_agents_25_20',\n",
       "   'cvrptw/data/generated\\\\servs_50_agents_25\\\\validation/generated_val_servs_50_agents_25_21',\n",
       "   'cvrptw/data/generated\\\\servs_50_agents_25\\\\validation/generated_val_servs_50_agents_25_22',\n",
       "   'cvrptw/data/generated\\\\servs_50_agents_25\\\\validation/generated_val_servs_50_agents_25_23',\n",
       "   'cvrptw/data/generated\\\\servs_50_agents_25\\\\validation/generated_val_servs_50_agents_25_24',\n",
       "   'cvrptw/data/generated\\\\servs_50_agents_25\\\\validation/generated_val_servs_50_agents_25_25',\n",
       "   'cvrptw/data/generated\\\\servs_50_agents_25\\\\validation/generated_val_servs_50_agents_25_26',\n",
       "   'cvrptw/data/generated\\\\servs_50_agents_25\\\\validation/generated_val_servs_50_agents_25_27',\n",
       "   'cvrptw/data/generated\\\\servs_50_agents_25\\\\validation/generated_val_servs_50_agents_25_28',\n",
       "   'cvrptw/data/generated\\\\servs_50_agents_25\\\\validation/generated_val_servs_50_agents_25_29',\n",
       "   'cvrptw/data/generated\\\\servs_50_agents_25\\\\validation/generated_val_servs_50_agents_25_3',\n",
       "   'cvrptw/data/generated\\\\servs_50_agents_25\\\\validation/generated_val_servs_50_agents_25_30',\n",
       "   'cvrptw/data/generated\\\\servs_50_agents_25\\\\validation/generated_val_servs_50_agents_25_31',\n",
       "   'cvrptw/data/generated\\\\servs_50_agents_25\\\\validation/generated_val_servs_50_agents_25_32',\n",
       "   'cvrptw/data/generated\\\\servs_50_agents_25\\\\validation/generated_val_servs_50_agents_25_33',\n",
       "   'cvrptw/data/generated\\\\servs_50_agents_25\\\\validation/generated_val_servs_50_agents_25_34',\n",
       "   'cvrptw/data/generated\\\\servs_50_agents_25\\\\validation/generated_val_servs_50_agents_25_35',\n",
       "   'cvrptw/data/generated\\\\servs_50_agents_25\\\\validation/generated_val_servs_50_agents_25_36',\n",
       "   'cvrptw/data/generated\\\\servs_50_agents_25\\\\validation/generated_val_servs_50_agents_25_37',\n",
       "   'cvrptw/data/generated\\\\servs_50_agents_25\\\\validation/generated_val_servs_50_agents_25_38',\n",
       "   'cvrptw/data/generated\\\\servs_50_agents_25\\\\validation/generated_val_servs_50_agents_25_39',\n",
       "   'cvrptw/data/generated\\\\servs_50_agents_25\\\\validation/generated_val_servs_50_agents_25_4',\n",
       "   'cvrptw/data/generated\\\\servs_50_agents_25\\\\validation/generated_val_servs_50_agents_25_40',\n",
       "   'cvrptw/data/generated\\\\servs_50_agents_25\\\\validation/generated_val_servs_50_agents_25_41',\n",
       "   'cvrptw/data/generated\\\\servs_50_agents_25\\\\validation/generated_val_servs_50_agents_25_42',\n",
       "   'cvrptw/data/generated\\\\servs_50_agents_25\\\\validation/generated_val_servs_50_agents_25_43',\n",
       "   'cvrptw/data/generated\\\\servs_50_agents_25\\\\validation/generated_val_servs_50_agents_25_44',\n",
       "   'cvrptw/data/generated\\\\servs_50_agents_25\\\\validation/generated_val_servs_50_agents_25_45',\n",
       "   'cvrptw/data/generated\\\\servs_50_agents_25\\\\validation/generated_val_servs_50_agents_25_46',\n",
       "   'cvrptw/data/generated\\\\servs_50_agents_25\\\\validation/generated_val_servs_50_agents_25_47',\n",
       "   'cvrptw/data/generated\\\\servs_50_agents_25\\\\validation/generated_val_servs_50_agents_25_48',\n",
       "   'cvrptw/data/generated\\\\servs_50_agents_25\\\\validation/generated_val_servs_50_agents_25_49',\n",
       "   'cvrptw/data/generated\\\\servs_50_agents_25\\\\validation/generated_val_servs_50_agents_25_5',\n",
       "   'cvrptw/data/generated\\\\servs_50_agents_25\\\\validation/generated_val_servs_50_agents_25_50',\n",
       "   'cvrptw/data/generated\\\\servs_50_agents_25\\\\validation/generated_val_servs_50_agents_25_51',\n",
       "   'cvrptw/data/generated\\\\servs_50_agents_25\\\\validation/generated_val_servs_50_agents_25_52',\n",
       "   'cvrptw/data/generated\\\\servs_50_agents_25\\\\validation/generated_val_servs_50_agents_25_53',\n",
       "   'cvrptw/data/generated\\\\servs_50_agents_25\\\\validation/generated_val_servs_50_agents_25_54',\n",
       "   'cvrptw/data/generated\\\\servs_50_agents_25\\\\validation/generated_val_servs_50_agents_25_55',\n",
       "   'cvrptw/data/generated\\\\servs_50_agents_25\\\\validation/generated_val_servs_50_agents_25_56',\n",
       "   'cvrptw/data/generated\\\\servs_50_agents_25\\\\validation/generated_val_servs_50_agents_25_57',\n",
       "   'cvrptw/data/generated\\\\servs_50_agents_25\\\\validation/generated_val_servs_50_agents_25_58',\n",
       "   'cvrptw/data/generated\\\\servs_50_agents_25\\\\validation/generated_val_servs_50_agents_25_59',\n",
       "   'cvrptw/data/generated\\\\servs_50_agents_25\\\\validation/generated_val_servs_50_agents_25_6',\n",
       "   'cvrptw/data/generated\\\\servs_50_agents_25\\\\validation/generated_val_servs_50_agents_25_60',\n",
       "   'cvrptw/data/generated\\\\servs_50_agents_25\\\\validation/generated_val_servs_50_agents_25_61',\n",
       "   'cvrptw/data/generated\\\\servs_50_agents_25\\\\validation/generated_val_servs_50_agents_25_62',\n",
       "   'cvrptw/data/generated\\\\servs_50_agents_25\\\\validation/generated_val_servs_50_agents_25_63',\n",
       "   'cvrptw/data/generated\\\\servs_50_agents_25\\\\validation/generated_val_servs_50_agents_25_7',\n",
       "   'cvrptw/data/generated\\\\servs_50_agents_25\\\\validation/generated_val_servs_50_agents_25_8',\n",
       "   'cvrptw/data/generated\\\\servs_50_agents_25\\\\validation/generated_val_servs_50_agents_25_9'],\n",
       "  'test': ['cvrptw/data/generated\\\\servs_50_agents_25\\\\test/generated_test_servs_50_agents_25_0',\n",
       "   'cvrptw/data/generated\\\\servs_50_agents_25\\\\test/generated_test_servs_50_agents_25_1',\n",
       "   'cvrptw/data/generated\\\\servs_50_agents_25\\\\test/generated_test_servs_50_agents_25_10',\n",
       "   'cvrptw/data/generated\\\\servs_50_agents_25\\\\test/generated_test_servs_50_agents_25_11',\n",
       "   'cvrptw/data/generated\\\\servs_50_agents_25\\\\test/generated_test_servs_50_agents_25_12',\n",
       "   'cvrptw/data/generated\\\\servs_50_agents_25\\\\test/generated_test_servs_50_agents_25_13',\n",
       "   'cvrptw/data/generated\\\\servs_50_agents_25\\\\test/generated_test_servs_50_agents_25_14',\n",
       "   'cvrptw/data/generated\\\\servs_50_agents_25\\\\test/generated_test_servs_50_agents_25_15',\n",
       "   'cvrptw/data/generated\\\\servs_50_agents_25\\\\test/generated_test_servs_50_agents_25_16',\n",
       "   'cvrptw/data/generated\\\\servs_50_agents_25\\\\test/generated_test_servs_50_agents_25_17',\n",
       "   'cvrptw/data/generated\\\\servs_50_agents_25\\\\test/generated_test_servs_50_agents_25_18',\n",
       "   'cvrptw/data/generated\\\\servs_50_agents_25\\\\test/generated_test_servs_50_agents_25_19',\n",
       "   'cvrptw/data/generated\\\\servs_50_agents_25\\\\test/generated_test_servs_50_agents_25_2',\n",
       "   'cvrptw/data/generated\\\\servs_50_agents_25\\\\test/generated_test_servs_50_agents_25_20',\n",
       "   'cvrptw/data/generated\\\\servs_50_agents_25\\\\test/generated_test_servs_50_agents_25_21',\n",
       "   'cvrptw/data/generated\\\\servs_50_agents_25\\\\test/generated_test_servs_50_agents_25_22',\n",
       "   'cvrptw/data/generated\\\\servs_50_agents_25\\\\test/generated_test_servs_50_agents_25_23',\n",
       "   'cvrptw/data/generated\\\\servs_50_agents_25\\\\test/generated_test_servs_50_agents_25_24',\n",
       "   'cvrptw/data/generated\\\\servs_50_agents_25\\\\test/generated_test_servs_50_agents_25_25',\n",
       "   'cvrptw/data/generated\\\\servs_50_agents_25\\\\test/generated_test_servs_50_agents_25_26',\n",
       "   'cvrptw/data/generated\\\\servs_50_agents_25\\\\test/generated_test_servs_50_agents_25_27',\n",
       "   'cvrptw/data/generated\\\\servs_50_agents_25\\\\test/generated_test_servs_50_agents_25_28',\n",
       "   'cvrptw/data/generated\\\\servs_50_agents_25\\\\test/generated_test_servs_50_agents_25_29',\n",
       "   'cvrptw/data/generated\\\\servs_50_agents_25\\\\test/generated_test_servs_50_agents_25_3',\n",
       "   'cvrptw/data/generated\\\\servs_50_agents_25\\\\test/generated_test_servs_50_agents_25_30',\n",
       "   'cvrptw/data/generated\\\\servs_50_agents_25\\\\test/generated_test_servs_50_agents_25_31',\n",
       "   'cvrptw/data/generated\\\\servs_50_agents_25\\\\test/generated_test_servs_50_agents_25_32',\n",
       "   'cvrptw/data/generated\\\\servs_50_agents_25\\\\test/generated_test_servs_50_agents_25_33',\n",
       "   'cvrptw/data/generated\\\\servs_50_agents_25\\\\test/generated_test_servs_50_agents_25_34',\n",
       "   'cvrptw/data/generated\\\\servs_50_agents_25\\\\test/generated_test_servs_50_agents_25_35',\n",
       "   'cvrptw/data/generated\\\\servs_50_agents_25\\\\test/generated_test_servs_50_agents_25_36',\n",
       "   'cvrptw/data/generated\\\\servs_50_agents_25\\\\test/generated_test_servs_50_agents_25_37',\n",
       "   'cvrptw/data/generated\\\\servs_50_agents_25\\\\test/generated_test_servs_50_agents_25_38',\n",
       "   'cvrptw/data/generated\\\\servs_50_agents_25\\\\test/generated_test_servs_50_agents_25_39',\n",
       "   'cvrptw/data/generated\\\\servs_50_agents_25\\\\test/generated_test_servs_50_agents_25_4',\n",
       "   'cvrptw/data/generated\\\\servs_50_agents_25\\\\test/generated_test_servs_50_agents_25_40',\n",
       "   'cvrptw/data/generated\\\\servs_50_agents_25\\\\test/generated_test_servs_50_agents_25_41',\n",
       "   'cvrptw/data/generated\\\\servs_50_agents_25\\\\test/generated_test_servs_50_agents_25_42',\n",
       "   'cvrptw/data/generated\\\\servs_50_agents_25\\\\test/generated_test_servs_50_agents_25_43',\n",
       "   'cvrptw/data/generated\\\\servs_50_agents_25\\\\test/generated_test_servs_50_agents_25_44',\n",
       "   'cvrptw/data/generated\\\\servs_50_agents_25\\\\test/generated_test_servs_50_agents_25_45',\n",
       "   'cvrptw/data/generated\\\\servs_50_agents_25\\\\test/generated_test_servs_50_agents_25_46',\n",
       "   'cvrptw/data/generated\\\\servs_50_agents_25\\\\test/generated_test_servs_50_agents_25_47',\n",
       "   'cvrptw/data/generated\\\\servs_50_agents_25\\\\test/generated_test_servs_50_agents_25_48',\n",
       "   'cvrptw/data/generated\\\\servs_50_agents_25\\\\test/generated_test_servs_50_agents_25_49',\n",
       "   'cvrptw/data/generated\\\\servs_50_agents_25\\\\test/generated_test_servs_50_agents_25_5',\n",
       "   'cvrptw/data/generated\\\\servs_50_agents_25\\\\test/generated_test_servs_50_agents_25_50',\n",
       "   'cvrptw/data/generated\\\\servs_50_agents_25\\\\test/generated_test_servs_50_agents_25_51',\n",
       "   'cvrptw/data/generated\\\\servs_50_agents_25\\\\test/generated_test_servs_50_agents_25_52',\n",
       "   'cvrptw/data/generated\\\\servs_50_agents_25\\\\test/generated_test_servs_50_agents_25_53',\n",
       "   'cvrptw/data/generated\\\\servs_50_agents_25\\\\test/generated_test_servs_50_agents_25_54',\n",
       "   'cvrptw/data/generated\\\\servs_50_agents_25\\\\test/generated_test_servs_50_agents_25_55',\n",
       "   'cvrptw/data/generated\\\\servs_50_agents_25\\\\test/generated_test_servs_50_agents_25_56',\n",
       "   'cvrptw/data/generated\\\\servs_50_agents_25\\\\test/generated_test_servs_50_agents_25_57',\n",
       "   'cvrptw/data/generated\\\\servs_50_agents_25\\\\test/generated_test_servs_50_agents_25_58',\n",
       "   'cvrptw/data/generated\\\\servs_50_agents_25\\\\test/generated_test_servs_50_agents_25_59',\n",
       "   'cvrptw/data/generated\\\\servs_50_agents_25\\\\test/generated_test_servs_50_agents_25_6',\n",
       "   'cvrptw/data/generated\\\\servs_50_agents_25\\\\test/generated_test_servs_50_agents_25_60',\n",
       "   'cvrptw/data/generated\\\\servs_50_agents_25\\\\test/generated_test_servs_50_agents_25_61',\n",
       "   'cvrptw/data/generated\\\\servs_50_agents_25\\\\test/generated_test_servs_50_agents_25_62',\n",
       "   'cvrptw/data/generated\\\\servs_50_agents_25\\\\test/generated_test_servs_50_agents_25_63',\n",
       "   'cvrptw/data/generated\\\\servs_50_agents_25\\\\test/generated_test_servs_50_agents_25_7',\n",
       "   'cvrptw/data/generated\\\\servs_50_agents_25\\\\test/generated_test_servs_50_agents_25_8',\n",
       "   'cvrptw/data/generated\\\\servs_50_agents_25\\\\test/generated_test_servs_50_agents_25_9']}}"
      ]
     },
     "execution_count": 11,
     "metadata": {},
     "output_type": "execute_result"
    }
   ],
   "source": [
    "generator.get_list_of_benchmark_instances()"
   ]
  },
  {
   "cell_type": "code",
   "execution_count": 12,
   "id": "b7595d00-6c7e-4434-a917-ec10787f3388",
   "metadata": {},
   "outputs": [],
   "source": [
    "set_of_instances = set(generator.get_list_of_benchmark_instances()['servs_100_agents_25']['validation'])"
   ]
  },
  {
   "cell_type": "code",
   "execution_count": 13,
   "id": "f18eda4d-0d7d-467d-b159-35197545c48f",
   "metadata": {},
   "outputs": [],
   "source": [
    "generator = InstanceGenerator(instance_type='validation', set_of_instances=set_of_instances)"
   ]
  },
  {
   "cell_type": "code",
   "execution_count": 14,
   "id": "07e1ed42-aaea-41fe-b2c9-6cbecf696423",
   "metadata": {},
   "outputs": [],
   "source": [
    "instance = generator.sample_instance()"
   ]
  },
  {
   "cell_type": "markdown",
   "id": "2f1bbf96-46a7-4611-88f7-889832ac7177",
   "metadata": {},
   "source": [
    "Let's check instance dict keys:"
   ]
  },
  {
   "cell_type": "code",
   "execution_count": 15,
   "id": "f3aa40f7-fc87-4fab-a9f9-7a4797b4b090",
   "metadata": {},
   "outputs": [
    {
     "data": {
      "text/plain": [
       "dict_keys(['name', 'num_nodes', 'num_agents', 'data'])"
      ]
     },
     "execution_count": 15,
     "metadata": {},
     "output_type": "execute_result"
    }
   ],
   "source": [
    "instance.keys()"
   ]
  },
  {
   "cell_type": "code",
   "execution_count": 16,
   "id": "e5deaba3-069d-44fc-9959-60588f8a9419",
   "metadata": {},
   "outputs": [
    {
     "data": {
      "text/plain": [
       "'random_instance'"
      ]
     },
     "execution_count": 16,
     "metadata": {},
     "output_type": "execute_result"
    }
   ],
   "source": [
    "instance['name']"
   ]
  },
  {
   "cell_type": "markdown",
   "id": "495d21ec-1592-4ecd-8bb4-1fadb1e31342",
   "metadata": {},
   "source": [
    "#### Benchmark instances"
   ]
  },
  {
   "cell_type": "markdown",
   "id": "0135c661-4af3-40b1-abd5-d86b4acfde85",
   "metadata": {},
   "source": [
    "In order to narrow the current gap between the test beds for algorithm benchmarking used in RL\n",
    "and OR communities, the library allows a straightforward integration of classical OR benchmark\n",
    "instances. For example, we can load a set of classical benchmark instances. Let's see what benchmark instances we have for the CVPTW:"
   ]
  },
  {
   "cell_type": "code",
   "execution_count": 17,
   "id": "5946e481-7cbe-40ad-971a-1faf3abec5bb",
   "metadata": {},
   "outputs": [
    {
     "data": {
      "text/plain": [
       "{'Solomon': ['C101',\n",
       "  'C102',\n",
       "  'C103',\n",
       "  'C104',\n",
       "  'C105',\n",
       "  'C106',\n",
       "  'C107',\n",
       "  'C108',\n",
       "  'C109',\n",
       "  'C201',\n",
       "  'C202',\n",
       "  'C203',\n",
       "  'C204',\n",
       "  'C205',\n",
       "  'C206',\n",
       "  'C207',\n",
       "  'C208',\n",
       "  'R101',\n",
       "  'R102',\n",
       "  'R103',\n",
       "  'R104',\n",
       "  'R105',\n",
       "  'R106',\n",
       "  'R107',\n",
       "  'R108',\n",
       "  'R109',\n",
       "  'R110',\n",
       "  'R111',\n",
       "  'R112',\n",
       "  'R201',\n",
       "  'R202',\n",
       "  'R203',\n",
       "  'R204',\n",
       "  'R205',\n",
       "  'R206',\n",
       "  'R207',\n",
       "  'R208',\n",
       "  'R209',\n",
       "  'R210',\n",
       "  'R211',\n",
       "  'RC101',\n",
       "  'RC102',\n",
       "  'RC103',\n",
       "  'RC104',\n",
       "  'RC105',\n",
       "  'RC106',\n",
       "  'RC107',\n",
       "  'RC108',\n",
       "  'RC201',\n",
       "  'RC202',\n",
       "  'RC203',\n",
       "  'RC204',\n",
       "  'RC205',\n",
       "  'RC206',\n",
       "  'RC207',\n",
       "  'RC208'],\n",
       " 'Homberger': ['C1_10_1',\n",
       "  'C1_10_10',\n",
       "  'C1_10_2',\n",
       "  'C1_10_3',\n",
       "  'C1_10_4',\n",
       "  'C1_10_5',\n",
       "  'C1_10_6',\n",
       "  'C1_10_7',\n",
       "  'C1_10_8',\n",
       "  'C1_10_9',\n",
       "  'C1_2_1',\n",
       "  'C1_2_10',\n",
       "  'C1_2_2',\n",
       "  'C1_2_3',\n",
       "  'C1_2_4',\n",
       "  'C1_2_5',\n",
       "  'C1_2_6',\n",
       "  'C1_2_7',\n",
       "  'C1_2_8',\n",
       "  'C1_2_9',\n",
       "  'C1_4_1',\n",
       "  'C1_4_10',\n",
       "  'C1_4_2',\n",
       "  'C1_4_3',\n",
       "  'C1_4_4',\n",
       "  'C1_4_5',\n",
       "  'C1_4_6',\n",
       "  'C1_4_7',\n",
       "  'C1_4_8',\n",
       "  'C1_4_9',\n",
       "  'C1_6_1',\n",
       "  'C1_6_10',\n",
       "  'C1_6_2',\n",
       "  'C1_6_3',\n",
       "  'C1_6_4',\n",
       "  'C1_6_5',\n",
       "  'C1_6_6',\n",
       "  'C1_6_7',\n",
       "  'C1_6_8',\n",
       "  'C1_6_9',\n",
       "  'C1_8_1',\n",
       "  'C1_8_10',\n",
       "  'C1_8_2',\n",
       "  'C1_8_3',\n",
       "  'C1_8_4',\n",
       "  'C1_8_5',\n",
       "  'C1_8_6',\n",
       "  'C1_8_7',\n",
       "  'C1_8_8',\n",
       "  'C1_8_9',\n",
       "  'C2_10_1',\n",
       "  'C2_10_10',\n",
       "  'C2_10_2',\n",
       "  'C2_10_3',\n",
       "  'C2_10_4',\n",
       "  'C2_10_5',\n",
       "  'C2_10_6',\n",
       "  'C2_10_7',\n",
       "  'C2_10_8',\n",
       "  'C2_10_9',\n",
       "  'C2_2_1',\n",
       "  'C2_2_10',\n",
       "  'C2_2_2',\n",
       "  'C2_2_3',\n",
       "  'C2_2_4',\n",
       "  'C2_2_5',\n",
       "  'C2_2_6',\n",
       "  'C2_2_7',\n",
       "  'C2_2_8',\n",
       "  'C2_2_9',\n",
       "  'C2_4_1',\n",
       "  'C2_4_10',\n",
       "  'C2_4_2',\n",
       "  'C2_4_3',\n",
       "  'C2_4_4',\n",
       "  'C2_4_5',\n",
       "  'C2_4_6',\n",
       "  'C2_4_7',\n",
       "  'C2_4_8',\n",
       "  'C2_4_9',\n",
       "  'C2_6_1',\n",
       "  'C2_6_10',\n",
       "  'C2_6_2',\n",
       "  'C2_6_3',\n",
       "  'C2_6_4',\n",
       "  'C2_6_5',\n",
       "  'C2_6_6',\n",
       "  'C2_6_7',\n",
       "  'C2_6_8',\n",
       "  'C2_6_9',\n",
       "  'C2_8_1',\n",
       "  'C2_8_10',\n",
       "  'C2_8_2',\n",
       "  'C2_8_3',\n",
       "  'C2_8_4',\n",
       "  'C2_8_5',\n",
       "  'C2_8_6',\n",
       "  'C2_8_7',\n",
       "  'C2_8_8',\n",
       "  'C2_8_9',\n",
       "  'R1_10_1',\n",
       "  'R1_10_10',\n",
       "  'R1_10_2',\n",
       "  'R1_10_3',\n",
       "  'R1_10_4',\n",
       "  'R1_10_5',\n",
       "  'R1_10_6',\n",
       "  'R1_10_7',\n",
       "  'R1_10_8',\n",
       "  'R1_10_9',\n",
       "  'R1_2_1',\n",
       "  'R1_2_10',\n",
       "  'R1_2_2',\n",
       "  'R1_2_3',\n",
       "  'R1_2_4',\n",
       "  'R1_2_5',\n",
       "  'R1_2_6',\n",
       "  'R1_2_7',\n",
       "  'R1_2_8',\n",
       "  'R1_2_9',\n",
       "  'R1_4_1',\n",
       "  'R1_4_10',\n",
       "  'R1_4_2',\n",
       "  'R1_4_3',\n",
       "  'R1_4_4',\n",
       "  'R1_4_5',\n",
       "  'R1_4_6',\n",
       "  'R1_4_7',\n",
       "  'R1_4_8',\n",
       "  'R1_4_9',\n",
       "  'R1_6_1',\n",
       "  'R1_6_10',\n",
       "  'R1_6_2',\n",
       "  'R1_6_3',\n",
       "  'R1_6_4',\n",
       "  'R1_6_5',\n",
       "  'R1_6_6',\n",
       "  'R1_6_7',\n",
       "  'R1_6_8',\n",
       "  'R1_6_9',\n",
       "  'R1_8_1',\n",
       "  'R1_8_10',\n",
       "  'R1_8_2',\n",
       "  'R1_8_3',\n",
       "  'R1_8_4',\n",
       "  'R1_8_5',\n",
       "  'R1_8_6',\n",
       "  'R1_8_7',\n",
       "  'R1_8_8',\n",
       "  'R1_8_9',\n",
       "  'R2_10_1',\n",
       "  'R2_10_10',\n",
       "  'R2_10_2',\n",
       "  'R2_10_3',\n",
       "  'R2_10_4',\n",
       "  'R2_10_5',\n",
       "  'R2_10_6',\n",
       "  'R2_10_7',\n",
       "  'R2_10_8',\n",
       "  'R2_10_9',\n",
       "  'R2_2_1',\n",
       "  'R2_2_10',\n",
       "  'R2_2_2',\n",
       "  'R2_2_3',\n",
       "  'R2_2_4',\n",
       "  'R2_2_5',\n",
       "  'R2_2_6',\n",
       "  'R2_2_7',\n",
       "  'R2_2_8',\n",
       "  'R2_2_9',\n",
       "  'R2_4_1',\n",
       "  'R2_4_10',\n",
       "  'R2_4_2',\n",
       "  'R2_4_3',\n",
       "  'R2_4_4',\n",
       "  'R2_4_5',\n",
       "  'R2_4_6',\n",
       "  'R2_4_7',\n",
       "  'R2_4_8',\n",
       "  'R2_4_9',\n",
       "  'R2_6_1',\n",
       "  'R2_6_10',\n",
       "  'R2_6_2',\n",
       "  'R2_6_3',\n",
       "  'R2_6_4',\n",
       "  'R2_6_5',\n",
       "  'R2_6_6',\n",
       "  'R2_6_7',\n",
       "  'R2_6_8',\n",
       "  'R2_6_9',\n",
       "  'R2_8_1',\n",
       "  'R2_8_10',\n",
       "  'R2_8_2',\n",
       "  'R2_8_3',\n",
       "  'R2_8_4',\n",
       "  'R2_8_5',\n",
       "  'R2_8_6',\n",
       "  'R2_8_7',\n",
       "  'R2_8_8',\n",
       "  'R2_8_9',\n",
       "  'RC1_10_1',\n",
       "  'RC1_10_10',\n",
       "  'RC1_10_2',\n",
       "  'RC1_10_3',\n",
       "  'RC1_10_4',\n",
       "  'RC1_10_5',\n",
       "  'RC1_10_6',\n",
       "  'RC1_10_7',\n",
       "  'RC1_10_8',\n",
       "  'RC1_10_9',\n",
       "  'RC1_2_1',\n",
       "  'RC1_2_10',\n",
       "  'RC1_2_2',\n",
       "  'RC1_2_3',\n",
       "  'RC1_2_4',\n",
       "  'RC1_2_5',\n",
       "  'RC1_2_6',\n",
       "  'RC1_2_7',\n",
       "  'RC1_2_8',\n",
       "  'RC1_2_9',\n",
       "  'RC1_4_1',\n",
       "  'RC1_4_10',\n",
       "  'RC1_4_2',\n",
       "  'RC1_4_3',\n",
       "  'RC1_4_4',\n",
       "  'RC1_4_5',\n",
       "  'RC1_4_6',\n",
       "  'RC1_4_7',\n",
       "  'RC1_4_8',\n",
       "  'RC1_4_9',\n",
       "  'RC1_6_1',\n",
       "  'RC1_6_10',\n",
       "  'RC1_6_2',\n",
       "  'RC1_6_3',\n",
       "  'RC1_6_4',\n",
       "  'RC1_6_5',\n",
       "  'RC1_6_6',\n",
       "  'RC1_6_7',\n",
       "  'RC1_6_8',\n",
       "  'RC1_6_9',\n",
       "  'RC1_8_1',\n",
       "  'RC1_8_10',\n",
       "  'RC1_8_2',\n",
       "  'RC1_8_3',\n",
       "  'RC1_8_4',\n",
       "  'RC1_8_5',\n",
       "  'RC1_8_6',\n",
       "  'RC1_8_7',\n",
       "  'RC1_8_8',\n",
       "  'RC1_8_9',\n",
       "  'RC2_10_1',\n",
       "  'RC2_10_10',\n",
       "  'RC2_10_2',\n",
       "  'RC2_10_3',\n",
       "  'RC2_10_4',\n",
       "  'RC2_10_5',\n",
       "  'RC2_10_6',\n",
       "  'RC2_10_7',\n",
       "  'RC2_10_8',\n",
       "  'RC2_10_9',\n",
       "  'RC2_2_1',\n",
       "  'RC2_2_10',\n",
       "  'RC2_2_2',\n",
       "  'RC2_2_3',\n",
       "  'RC2_2_4',\n",
       "  'RC2_2_5',\n",
       "  'RC2_2_6',\n",
       "  'RC2_2_7',\n",
       "  'RC2_2_8',\n",
       "  'RC2_2_9',\n",
       "  'RC2_4_1',\n",
       "  'RC2_4_10',\n",
       "  'RC2_4_2',\n",
       "  'RC2_4_3',\n",
       "  'RC2_4_4',\n",
       "  'RC2_4_5',\n",
       "  'RC2_4_6',\n",
       "  'RC2_4_7',\n",
       "  'RC2_4_8',\n",
       "  'RC2_4_9',\n",
       "  'RC2_6_1',\n",
       "  'RC2_6_10',\n",
       "  'RC2_6_2',\n",
       "  'RC2_6_3',\n",
       "  'RC2_6_4',\n",
       "  'RC2_6_5',\n",
       "  'RC2_6_6',\n",
       "  'RC2_6_7',\n",
       "  'RC2_6_8',\n",
       "  'RC2_6_9',\n",
       "  'RC2_8_1',\n",
       "  'RC2_8_10',\n",
       "  'RC2_8_2',\n",
       "  'RC2_8_3',\n",
       "  'RC2_8_4',\n",
       "  'RC2_8_5',\n",
       "  'RC2_8_6',\n",
       "  'RC2_8_7',\n",
       "  'RC2_8_8',\n",
       "  'RC2_8_9']}"
      ]
     },
     "execution_count": 17,
     "metadata": {},
     "output_type": "execute_result"
    }
   ],
   "source": [
    "BenchmarkInstanceGenerator.get_list_of_benchmark_instances()"
   ]
  },
  {
   "cell_type": "markdown",
   "id": "5090568e-d7d8-465a-b845-3e030b369b5e",
   "metadata": {},
   "source": [
    "Ok! Now we instanciate the `generator` selection two of them:"
   ]
  },
  {
   "cell_type": "code",
   "execution_count": 18,
   "id": "67a90e9a-7f4f-4311-a4dd-27b61ccc681c",
   "metadata": {},
   "outputs": [],
   "source": [
    "generator = BenchmarkInstanceGenerator(instance_type='Solomon', set_of_instances={'C101', 'C102'})"
   ]
  },
  {
   "cell_type": "code",
   "execution_count": 19,
   "id": "5d4962a0-e2ee-4402-827e-ca8d6042b1c4",
   "metadata": {},
   "outputs": [],
   "source": [
    "instance_c101 = generator.get_instance('C101')"
   ]
  },
  {
   "cell_type": "code",
   "execution_count": 20,
   "id": "34db070c-0fa7-4bb3-b1f5-9dc0b2cb53b1",
   "metadata": {},
   "outputs": [
    {
     "data": {
      "text/plain": [
       "dict_keys(['name', 'num_agents', 'num_nodes', 'data', 'n_digits'])"
      ]
     },
     "execution_count": 20,
     "metadata": {},
     "output_type": "execute_result"
    }
   ],
   "source": [
    "instance_c101.keys()"
   ]
  },
  {
   "cell_type": "code",
   "execution_count": 21,
   "id": "d90429a7-d3e1-4800-bdbd-55ffbc433a96",
   "metadata": {},
   "outputs": [
    {
     "data": {
      "text/plain": [
       "'C101'"
      ]
     },
     "execution_count": 21,
     "metadata": {},
     "output_type": "execute_result"
    }
   ],
   "source": [
    "instance_c101['name']"
   ]
  },
  {
   "cell_type": "code",
   "execution_count": 22,
   "id": "45fb1533-7135-4138-aa94-077e63a8766a",
   "metadata": {},
   "outputs": [
    {
     "data": {
      "text/plain": [
       "25"
      ]
     },
     "execution_count": 22,
     "metadata": {},
     "output_type": "execute_result"
    }
   ],
   "source": [
    "instance_c101['num_agents']"
   ]
  },
  {
   "cell_type": "code",
   "execution_count": 23,
   "id": "c5806204-3446-4bec-9a32-6ae66421b956",
   "metadata": {},
   "outputs": [
    {
     "data": {
      "text/plain": [
       "101"
      ]
     },
     "execution_count": 23,
     "metadata": {},
     "output_type": "execute_result"
    }
   ],
   "source": [
    "instance_c101['num_nodes']"
   ]
  },
  {
   "cell_type": "markdown",
   "id": "3a5e08b3-9aa2-493d-8fea-b14b0c840b14",
   "metadata": {},
   "source": [
    "By customizing `.sample_instance` method arguments, it is possible to sample a sub-instance of the original instance:"
   ]
  },
  {
   "cell_type": "code",
   "execution_count": 24,
   "id": "fc361419-5ad1-4943-aaf3-211583645116",
   "metadata": {},
   "outputs": [],
   "source": [
    "instance = generator.sample_instance(num_agents=3, num_nodes=8)"
   ]
  },
  {
   "cell_type": "code",
   "execution_count": 25,
   "id": "b9e12c9b-9859-4e7d-bfd8-3182e1dcc246",
   "metadata": {},
   "outputs": [
    {
     "data": {
      "text/plain": [
       "'C101_samp'"
      ]
     },
     "execution_count": 25,
     "metadata": {},
     "output_type": "execute_result"
    }
   ],
   "source": [
    "instance['name']"
   ]
  },
  {
   "cell_type": "code",
   "execution_count": 26,
   "id": "b0947e3d-8950-4cc0-93e8-2272d1a9755d",
   "metadata": {},
   "outputs": [
    {
     "data": {
      "text/plain": [
       "3"
      ]
     },
     "execution_count": 26,
     "metadata": {},
     "output_type": "execute_result"
    }
   ],
   "source": [
    "instance['num_agents']"
   ]
  },
  {
   "cell_type": "code",
   "execution_count": 27,
   "id": "0a043f6a-ee4f-4196-b77e-e20154191015",
   "metadata": {},
   "outputs": [
    {
     "data": {
      "text/plain": [
       "8"
      ]
     },
     "execution_count": 27,
     "metadata": {},
     "output_type": "execute_result"
    }
   ],
   "source": [
    "instance['num_nodes']"
   ]
  },
  {
   "cell_type": "markdown",
   "id": "b4171df4-5df5-488e-8de8-6fb60f555eb7",
   "metadata": {},
   "source": [
    "For the CVRPTW, setting `random_sample=False` we sample first `n` instace services (see  [Transportation Optimization Portal](https://www.sintef.no/projectweb/top/vrptw) for more details about `first n` Solomon benchmark\n",
    " instance):"
   ]
  },
  {
   "cell_type": "code",
   "execution_count": 29,
   "id": "1c135c31-e069-488c-9d84-4621078ce510",
   "metadata": {},
   "outputs": [],
   "source": [
    "instance = generator.sample_instance(num_agents=3, num_nodes=8, sample_type='augment')"
   ]
  },
  {
   "cell_type": "code",
   "execution_count": 30,
   "id": "d2d246f1-22aa-4e9b-aef8-5a6122f4327e",
   "metadata": {},
   "outputs": [
    {
     "data": {
      "text/plain": [
       "'C101_samp'"
      ]
     },
     "execution_count": 30,
     "metadata": {},
     "output_type": "execute_result"
    }
   ],
   "source": [
    "instance['name']"
   ]
  }
 ],
 "metadata": {
  "kernelspec": {
   "display_name": "Python 3 (ipykernel)",
   "language": "python",
   "name": "python3"
  },
  "language_info": {
   "codemirror_mode": {
    "name": "ipython",
    "version": 3
   },
   "file_extension": ".py",
   "mimetype": "text/x-python",
   "name": "python",
   "nbconvert_exporter": "python",
   "pygments_lexer": "ipython3",
   "version": "3.11.9"
  }
 },
 "nbformat": 4,
 "nbformat_minor": 5
}
