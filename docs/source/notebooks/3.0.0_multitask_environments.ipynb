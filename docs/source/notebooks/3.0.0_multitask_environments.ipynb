/maenvs4vrp_dev/maenvs4vrp/notebooks/3.0.0_multitask_environments.ipynb
