{
 "cells": [
  {
   "cell_type": "markdown",
   "id": "24b5b1e4-f62a-406d-89cc-69d7607fddf1",
   "metadata": {},
   "source": [
    "###  Obervations"
   ]
  },
  {
   "cell_type": "markdown",
   "id": "0f0164fa-925a-4d4e-a906-ae0c0591fb0a",
   "metadata": {},
   "source": [
    "Observation features, that will be available to the active agent while interacting with the environment, are handle by `Observations` class. "
   ]
  },
  {
   "cell_type": "code",
   "execution_count": 19,
   "id": "665750fd-0d06-4b4c-8ae1-2aabf92c6c52",
   "metadata": {},
   "outputs": [],
   "source": [
    "from maenvs4vrp.environments.cvrptw.observations import Observations\n",
    "from maenvs4vrp.environments.cvrptw.instances_generator import InstanceGenerator\n",
    "from maenvs4vrp.environments.cvrptw.env_agent_selector import AgentSelector\n",
    "from maenvs4vrp.environments.cvrptw.env_agent_reward import DenseReward\n",
    "from maenvs4vrp.environments.cvrptw.env import Environment"
   ]
  },
  {
   "cell_type": "code",
   "execution_count": 20,
   "id": "7880c27a-9809-4fbc-a08f-f0d19b9c227c",
   "metadata": {},
   "outputs": [],
   "source": [
    "obs = Observations()"
   ]
  },
  {
   "cell_type": "markdown",
   "id": "c36ec7a9-a60a-4588-97f3-234f83ee0708",
   "metadata": {},
   "source": [
    "The class has a `default_feature_list` attribute where the default configuration dictionary is defined."
   ]
  },
  {
   "cell_type": "code",
   "execution_count": 21,
   "id": "6f37a7d4-0e6e-446e-84fd-798879091bd4",
   "metadata": {},
   "outputs": [
    {
     "data": {
      "text/plain": [
       "{'nodes_static': {'x_coordinate': {'feat': 'x_coordinate', 'norm': None},\n",
       "  'y_coordinate': {'feat': 'y_coordinate', 'norm': None},\n",
       "  'tw_low': {'feat': 'tw_low', 'norm': None},\n",
       "  'tw_high': {'feat': 'tw_high', 'norm': None},\n",
       "  'demand': {'feat': 'demand', 'norm': None},\n",
       "  'service_time': {'feat': 'service_time', 'norm': 'min_max'},\n",
       "  'is_depot': {'feat': 'is_depot', 'norm': None}},\n",
       " 'nodes_dynamic': ['time2open_div_end_time',\n",
       "  'time2close_div_end_time',\n",
       "  'arrive2node_div_end_time',\n",
       "  'time2open_after_step_div_end_time',\n",
       "  'time2close_after_step_div_end_time',\n",
       "  'time2end_after_step_div_end_time',\n",
       "  'fract_time_after_step_div_end_time',\n",
       "  'reachable_frac_agents'],\n",
       " 'agent': ['x_coordinate',\n",
       "  'y_coordinate',\n",
       "  'frac_current_time',\n",
       "  'frac_current_load',\n",
       "  'arrivedepot_div_end_time',\n",
       "  'frac_feasible_nodes'],\n",
       " 'other_agents': ['x_coordinate',\n",
       "  'y_coordinate',\n",
       "  'frac_current_time',\n",
       "  'frac_current_load',\n",
       "  'frac_feasible_nodes',\n",
       "  'dist2agent_div_end_time',\n",
       "  'time_delta2agent_div_max_dur',\n",
       "  'was_last'],\n",
       " 'global': ['frac_demands', 'frac_fleet_load_capacity', 'frac_done_agents']}"
      ]
     },
     "execution_count": 21,
     "metadata": {},
     "output_type": "execute_result"
    }
   ],
   "source": [
    "obs.default_feature_list"
   ]
  },
  {
   "cell_type": "markdown",
   "id": "33565e92-b7ba-42f6-896f-035ba90caa6c",
   "metadata": {},
   "source": [
    "Also, five possible features lists exist, detailing the available features in the class: `POSSIBLE_NODES_STATIC_FEATURES`, `POSSIBLE_NODES_DYNAMIC_FEATURES`, `POSSIBLE_SELF_FEATURES`, `POSSIBLE_AGENTS_FEATURES`, `POSSIBLE_GLOBAL_FEATURES`. For example:"
   ]
  },
  {
   "cell_type": "code",
   "execution_count": 22,
   "id": "dc0bdf8a-fd10-4418-ae3a-f789ca365514",
   "metadata": {},
   "outputs": [
    {
     "data": {
      "text/plain": [
       "['x_coordinate',\n",
       " 'y_coordinate',\n",
       " 'tw_low',\n",
       " 'tw_high',\n",
       " 'demand',\n",
       " 'service_time',\n",
       " 'tw_high_minus_tw_low_div_max_dur',\n",
       " 'x_coordinate_min_max',\n",
       " 'y_coordinate_min_max',\n",
       " 'is_depot']"
      ]
     },
     "execution_count": 22,
     "metadata": {},
     "output_type": "execute_result"
    }
   ],
   "source": [
    "obs.POSSIBLE_NODES_STATIC_FEATURES"
   ]
  },
  {
   "cell_type": "code",
   "execution_count": 23,
   "id": "c96ada11-c62b-4d76-8a10-d4c64769b2c8",
   "metadata": {},
   "outputs": [
    {
     "data": {
      "text/plain": [
       "['frac_demands', 'frac_fleet_load_capacity', 'frac_done_agents']"
      ]
     },
     "execution_count": 23,
     "metadata": {},
     "output_type": "execute_result"
    }
   ],
   "source": [
    "obs.POSSIBLE_GLOBAL_FEATURES"
   ]
  },
  {
   "cell_type": "markdown",
   "id": "7683a517-620c-407b-b45a-d3461a636faf",
   "metadata": {},
   "source": [
    "While instantiating the `Observations` class, we can pass through a feature list dictionary specifying which features will be available for the agent:"
   ]
  },
  {
   "cell_type": "code",
   "execution_count": 24,
   "id": "94576aec-034c-4758-b25e-fa722d24bb1e",
   "metadata": {},
   "outputs": [],
   "source": [
    "import yaml"
   ]
  },
  {
   "cell_type": "code",
   "execution_count": 25,
   "id": "2ba799a6-30fb-40c0-bfc9-70ce9e215fe7",
   "metadata": {},
   "outputs": [],
   "source": [
    "feature_list = yaml.safe_load(\"\"\"\n",
    "    nodes_static:\n",
    "        x_coordinate_min_max:\n",
    "            feat: x_coordinate_min_max\n",
    "            norm: min_max\n",
    "        x_coordinate_min_max: \n",
    "            feat: x_coordinate_min_max\n",
    "            norm: min_max\n",
    "        tw_low_mm:\n",
    "            feat: tw_low\n",
    "            norm: min_max\n",
    "        tw_high:\n",
    "            feat: tw_high\n",
    "            norm: min_max\n",
    "\n",
    "    nodes_dynamic:\n",
    "        - time2open_div_end_time\n",
    "        - time2close_div_end_time\n",
    "        - time2open_after_step_div_end_time\n",
    "        - time2close_after_step_div_end_time\n",
    "        - fract_time_after_step_div_end_time\n",
    "\n",
    "    agent:\n",
    "        - x_coordinate_min_max\n",
    "        - y_coordinate_min_max\n",
    "        - frac_current_time\n",
    "        - frac_current_load\n",
    "\n",
    "    other_agents:\n",
    "        - x_coordinate_min_max\n",
    "        - y_coordinate_min_max\n",
    "        - frac_current_time\n",
    "        - frac_current_load\n",
    "        - dist2agent_div_end_time\n",
    "    \n",
    "    global:\n",
    "        - frac_demands\n",
    "        - frac_fleet_load_capacity\n",
    "        - frac_done_agents\n",
    "        - frac_not_done_nodes\n",
    "        - frac_used_agents\n",
    "\"\"\")"
   ]
  },
  {
   "cell_type": "code",
   "execution_count": 26,
   "id": "2cbd18a9-d792-47d7-9686-167230226c2a",
   "metadata": {},
   "outputs": [],
   "source": [
    "obs = Observations(feature_list)"
   ]
  },
  {
   "cell_type": "markdown",
   "id": "d2ad3b34-96d4-43ef-9ec0-52eae13ead55",
   "metadata": {},
   "source": [
    "We can test this observations on the environment:"
   ]
  },
  {
   "cell_type": "code",
   "execution_count": 27,
   "id": "99dc0669-5323-4cb9-9262-a5a27c697664",
   "metadata": {},
   "outputs": [],
   "source": [
    "gen = InstanceGenerator(batch_size = 8)\n",
    "obs = Observations()\n",
    "sel = AgentSelector()\n",
    "rew = DenseReward()\n",
    "\n",
    "env = Environment(instance_generator_object=gen,  \n",
    "                  obs_builder_object=obs,\n",
    "                  agent_selector_object=sel,\n",
    "                  reward_evaluator=rew,\n",
    "                  seed=0)"
   ]
  },
  {
   "cell_type": "code",
   "execution_count": 28,
   "id": "f3297f0d-e8e3-45c0-9bf1-d00830ad7184",
   "metadata": {},
   "outputs": [],
   "source": [
    "td = env.reset(batch_size = 8, num_agents=4, num_nodes=16)"
   ]
  },
  {
   "cell_type": "code",
   "execution_count": 29,
   "id": "923183de-0a7b-4670-a127-644fd482264f",
   "metadata": {},
   "outputs": [],
   "source": [
    "td_observation = env.observe()"
   ]
  },
  {
   "cell_type": "code",
   "execution_count": 30,
   "id": "633c3fb9-7773-46d0-af25-850121dfd117",
   "metadata": {},
   "outputs": [
    {
     "data": {
      "text/plain": [
       "TensorDict(\n",
       "    fields={\n",
       "        action_mask: Tensor(shape=torch.Size([8, 16]), device=cpu, dtype=torch.bool, is_shared=False),\n",
       "        agent_obs: Tensor(shape=torch.Size([8, 6]), device=cpu, dtype=torch.float32, is_shared=False),\n",
       "        agents_mask: Tensor(shape=torch.Size([8, 4]), device=cpu, dtype=torch.bool, is_shared=False),\n",
       "        global_obs: Tensor(shape=torch.Size([8, 3]), device=cpu, dtype=torch.float32, is_shared=False),\n",
       "        node_dynamic_obs: Tensor(shape=torch.Size([8, 16, 8]), device=cpu, dtype=torch.float32, is_shared=False),\n",
       "        other_agents_obs: Tensor(shape=torch.Size([8, 4, 8]), device=cpu, dtype=torch.float32, is_shared=False)},\n",
       "    batch_size=torch.Size([8]),\n",
       "    device=cpu,\n",
       "    is_shared=False)"
      ]
     },
     "execution_count": 30,
     "metadata": {},
     "output_type": "execute_result"
    }
   ],
   "source": [
    "td_observation"
   ]
  }
 ],
 "metadata": {
  "kernelspec": {
   "display_name": "Python 3 (ipykernel)",
   "language": "python",
   "name": "python3"
  },
  "language_info": {
   "codemirror_mode": {
    "name": "ipython",
    "version": 3
   },
   "file_extension": ".py",
   "mimetype": "text/x-python",
   "name": "python",
   "nbconvert_exporter": "python",
   "pygments_lexer": "ipython3",
   "version": "3.11.9"
  }
 },
 "nbformat": 4,
 "nbformat_minor": 5
}
