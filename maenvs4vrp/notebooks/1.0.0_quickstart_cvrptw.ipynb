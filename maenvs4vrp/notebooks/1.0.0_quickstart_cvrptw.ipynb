{
 "cells": [
  {
   "cell_type": "markdown",
   "id": "d512ff36-4561-406a-88ff-ad32c2fbc897",
   "metadata": {},
   "source": [
    "# Quickstart"
   ]
  },
  {
   "cell_type": "markdown",
   "id": "be2cb84b-97cb-4f91-bab2-23660432153c",
   "metadata": {},
   "source": [
    "### Install maenvs4vrp "
   ]
  },
  {
   "cell_type": "markdown",
   "id": "8651e80e-538d-4f80-bf84-e04fbbc07116",
   "metadata": {},
   "source": [
    "Uncomment the following cells:"
   ]
  },
  {
   "cell_type": "code",
   "execution_count": null,
   "id": "75a9a503-3e8f-409c-800d-588dc13abb17",
   "metadata": {},
   "outputs": [],
   "source": [
    "#!git clone https://github.com/ricgama/maenvs4vrp.git"
   ]
  },
  {
   "cell_type": "code",
   "execution_count": null,
   "id": "c347d0e4-eea3-47c4-8200-b1b1a2ee5acd",
   "metadata": {},
   "outputs": [],
   "source": [
    "# When using Colab\n",
    "#%cd maenvs4vrp\n",
    "#%mv maenvs4vrp/ repo_temp/\n",
    "#%mv repo_temp/ ..\n",
    "#%cd ..\n",
    "#%cp maenvs4vrp/setup.py repo_temp/\n",
    "#%rm -r maenvs4vrp\n",
    "#%mv repo_temp/ maenvs4vrp/\n",
    "#%cd maenvs4vrp/\n",
    "#!pip install ."
   ]
  },
  {
   "cell_type": "markdown",
   "id": "12564b1d",
   "metadata": {},
   "source": [
    "Let's begin exploring the **MAEnvs4VRP** library using the **CVRPTW** (Capacitated Vehicle Routing Problem with Time Windows) environment as our working example. The library’s **API design** is inspired by the [**PettingZoo**](https://pettingzoo.farama.org/), which adopts the **Agent Environment Cycle (AEC)** paradigm—where agents act in a defined sequence within a shared environment. Additionally, the library draws influence from the [**Flatland**](https://flatland.aicrowd.com/intro.html) environment, adopting several of its design principlesy.\n"
   ]
  },
  {
   "cell_type": "markdown",
   "id": "f60cd1bd",
   "metadata": {},
   "source": [
    "## Basic usage"
   ]
  },
  {
   "cell_type": "code",
   "execution_count": 1,
   "id": "23a2e7e9",
   "metadata": {},
   "outputs": [],
   "source": [
    "from maenvs4vrp.environments.cvrptw.env import Environment\n",
    "from maenvs4vrp.environments.cvrptw.env_agent_selector import AgentSelector\n",
    "from maenvs4vrp.environments.cvrptw.observations import Observations\n",
    "from maenvs4vrp.environments.cvrptw.instances_generator import InstanceGenerator\n",
    "from maenvs4vrp.environments.cvrptw.env_agent_reward import DenseReward\n",
    "%load_ext autoreload\n",
    "%autoreload 2"
   ]
  },
  {
   "cell_type": "code",
   "execution_count": 2,
   "id": "bed5fbdd",
   "metadata": {},
   "outputs": [],
   "source": [
    "gen = InstanceGenerator(batch_size = 8)\n",
    "obs = Observations()\n",
    "sel = AgentSelector()\n",
    "rew = DenseReward()\n",
    "\n",
    "env = Environment(instance_generator_object=gen,  \n",
    "                  obs_builder_object=obs,\n",
    "                  agent_selector_object=sel,\n",
    "                  reward_evaluator=rew,\n",
    "                  seed=0)"
   ]
  },
  {
   "cell_type": "code",
   "execution_count": 3,
   "id": "f300c7c5",
   "metadata": {},
   "outputs": [
    {
     "data": {
      "text/plain": [
       "TensorDict(\n",
       "    fields={\n",
       "        agent_step: Tensor(shape=torch.Size([8, 1]), device=cpu, dtype=torch.int32, is_shared=False),\n",
       "        cur_agent_idx: Tensor(shape=torch.Size([8, 1]), device=cpu, dtype=torch.int64, is_shared=False),\n",
       "        cur_node_idx: Tensor(shape=torch.Size([8, 1]), device=cpu, dtype=torch.int64, is_shared=False),\n",
       "        done: Tensor(shape=torch.Size([8]), device=cpu, dtype=torch.bool, is_shared=False),\n",
       "        observations: TensorDict(\n",
       "            fields={\n",
       "                action_mask: Tensor(shape=torch.Size([8, 16]), device=cpu, dtype=torch.bool, is_shared=False),\n",
       "                agent_obs: Tensor(shape=torch.Size([8, 6]), device=cpu, dtype=torch.float32, is_shared=False),\n",
       "                agents_mask: Tensor(shape=torch.Size([8, 4]), device=cpu, dtype=torch.bool, is_shared=False),\n",
       "                global_obs: Tensor(shape=torch.Size([8, 2]), device=cpu, dtype=torch.float32, is_shared=False),\n",
       "                node_dynamic_obs: Tensor(shape=torch.Size([8, 16, 8]), device=cpu, dtype=torch.float32, is_shared=False),\n",
       "                node_static_obs: Tensor(shape=torch.Size([8, 16, 7]), device=cpu, dtype=torch.float32, is_shared=False),\n",
       "                other_agents_obs: Tensor(shape=torch.Size([8, 4, 8]), device=cpu, dtype=torch.float32, is_shared=False)},\n",
       "            batch_size=torch.Size([8]),\n",
       "            device=cpu,\n",
       "            is_shared=False),\n",
       "        penalty: Tensor(shape=torch.Size([8]), device=cpu, dtype=torch.float32, is_shared=False),\n",
       "        reward: Tensor(shape=torch.Size([8]), device=cpu, dtype=torch.float32, is_shared=False)},\n",
       "    batch_size=torch.Size([8]),\n",
       "    device=cpu,\n",
       "    is_shared=False)"
      ]
     },
     "execution_count": 3,
     "metadata": {},
     "output_type": "execute_result"
    }
   ],
   "source": [
    "td = env.reset(batch_size = 8, num_agents=4, num_nodes=16)\n",
    "td"
   ]
  },
  {
   "cell_type": "code",
   "execution_count": 4,
   "id": "29da80bd",
   "metadata": {},
   "outputs": [],
   "source": [
    "while not td[\"done\"].all():  \n",
    "    td = env.sample_action(td) # this is where we insert our policy\n",
    "    td = env.step(td)"
   ]
  },
  {
   "cell_type": "markdown",
   "id": "113d31a1-ff53-4902-87fd-f7fd53b6953e",
   "metadata": {},
   "source": [
    "## Basic usage in more detail"
   ]
  },
  {
   "cell_type": "code",
   "execution_count": 5,
   "id": "2829ed7a-2447-4c10-81d2-a3e1f0625e07",
   "metadata": {},
   "outputs": [],
   "source": [
    "from maenvs4vrp.utils.plotting import (plot_instance_coords, plot_random_batch_instances, plot_env_instance_coords, plot_env_random_batch_instances, plot_solution)\n",
    "from maenvs4vrp.utils.utils import get_solution"
   ]
  },
  {
   "cell_type": "code",
   "execution_count": 6,
   "id": "8828c135-1e7b-42b8-a133-b39752d4d29c",
   "metadata": {},
   "outputs": [],
   "source": [
    "# Import the main Environment class for the CVRPTW (Capacitated Vehicle Routing Problem with Time Windows) environment\n",
    "from maenvs4vrp.environments.cvrptw.env import Environment\n",
    "# Import the AgentSelector which handles agent selection logic in the environment\n",
    "from maenvs4vrp.environments.cvrptw.env_agent_selector import AgentSelector\n",
    "# Import the Observations class that defines how observations are structured and generated\n",
    "from maenvs4vrp.environments.cvrptw.observations import Observations\n",
    "# Import the InstanceGenerator for creating CVRPTW problem instances\n",
    "from maenvs4vrp.environments.cvrptw.instances_generator import InstanceGenerator\n",
    "# Import the DenseReward class which provides detailed reward signals during training\n",
    "from maenvs4vrp.environments.cvrptw.env_agent_reward import DenseReward"
   ]
  },
  {
   "cell_type": "code",
   "execution_count": 7,
   "id": "db2d6369-105b-4b4d-a6ef-52da0fde3d37",
   "metadata": {},
   "outputs": [],
   "source": [
    "gen = InstanceGenerator(batch_size = 8)\n",
    "obs = Observations()\n",
    "sel = AgentSelector()\n",
    "rew = DenseReward()\n",
    "\n",
    "env = Environment(instance_generator_object=gen,  \n",
    "                  obs_builder_object=obs,\n",
    "                  agent_selector_object=sel,\n",
    "                  reward_evaluator=rew,\n",
    "                  seed=0)"
   ]
  },
  {
   "cell_type": "markdown",
   "id": "de707225-a4ba-4adb-9a62-378404717d4c",
   "metadata": {},
   "source": [
    "After instantiating the environment we have to reset it:"
   ]
  },
  {
   "cell_type": "code",
   "execution_count": 8,
   "id": "f6c6017a-4f47-4165-8596-17733c4acb1f",
   "metadata": {},
   "outputs": [
    {
     "data": {
      "text/plain": [
       "TensorDict(\n",
       "    fields={\n",
       "        agent_step: Tensor(shape=torch.Size([8, 1]), device=cpu, dtype=torch.int32, is_shared=False),\n",
       "        cur_agent_idx: Tensor(shape=torch.Size([8, 1]), device=cpu, dtype=torch.int64, is_shared=False),\n",
       "        cur_node_idx: Tensor(shape=torch.Size([8, 1]), device=cpu, dtype=torch.int64, is_shared=False),\n",
       "        done: Tensor(shape=torch.Size([8]), device=cpu, dtype=torch.bool, is_shared=False),\n",
       "        observations: TensorDict(\n",
       "            fields={\n",
       "                action_mask: Tensor(shape=torch.Size([8, 16]), device=cpu, dtype=torch.bool, is_shared=False),\n",
       "                agent_obs: Tensor(shape=torch.Size([8, 6]), device=cpu, dtype=torch.float32, is_shared=False),\n",
       "                agents_mask: Tensor(shape=torch.Size([8, 4]), device=cpu, dtype=torch.bool, is_shared=False),\n",
       "                global_obs: Tensor(shape=torch.Size([8, 2]), device=cpu, dtype=torch.float32, is_shared=False),\n",
       "                node_dynamic_obs: Tensor(shape=torch.Size([8, 16, 8]), device=cpu, dtype=torch.float32, is_shared=False),\n",
       "                node_static_obs: Tensor(shape=torch.Size([8, 16, 7]), device=cpu, dtype=torch.float32, is_shared=False),\n",
       "                other_agents_obs: Tensor(shape=torch.Size([8, 4, 8]), device=cpu, dtype=torch.float32, is_shared=False)},\n",
       "            batch_size=torch.Size([8]),\n",
       "            device=cpu,\n",
       "            is_shared=False),\n",
       "        penalty: Tensor(shape=torch.Size([8]), device=cpu, dtype=torch.float32, is_shared=False),\n",
       "        reward: Tensor(shape=torch.Size([8]), device=cpu, dtype=torch.float32, is_shared=False)},\n",
       "    batch_size=torch.Size([8]),\n",
       "    device=cpu,\n",
       "    is_shared=False)"
      ]
     },
     "execution_count": 8,
     "metadata": {},
     "output_type": "execute_result"
    }
   ],
   "source": [
    "td = env.reset(batch_size = 8, num_agents=4, num_nodes=16)\n",
    "td"
   ]
  },
  {
   "cell_type": "markdown",
   "id": "dab0f5e1-e764-4905-b5dc-02282d5d7bda",
   "metadata": {},
   "source": [
    "**Understanding the `TensorDict` Keys**\n",
    "\n",
    "The `TensorDict` acts like a dictionary of tensors holding all the state, observation, and reward information for a batch of agents in your environment. In this case, the batch size is **8**, meaning it holds data for 8 parallel environments.  \n",
    "\n",
    "**Top-Level Keys**\n",
    "\n",
    "| Key | Shape | Description |\n",
    "|------|--------|-------------|\n",
    "| `agent_step` | `[8, 1]` | Current step number of each agent in the environment. |\n",
    "| `cur_agent_idx` | `[8, 1]` | Index of the agent currently taking an action. |\n",
    "| `cur_node_idx` | `[8, 1]` | Index of the node (location) the agent is currently at. |\n",
    "| `done` | `[8]` (bool) | Whether each environment/episode is finished (`True` = done). |\n",
    "| `penalty` | `[8]` (float) | step Penalty. |\n",
    "| `reward` | `[8]` (float) | step Reward signal. |\n",
    "\n",
    "---\n",
    "\n",
    "**Nested `observations` TensorDict**\n",
    "\n",
    "This contains all the observation-related tensors provided to the agent at each step.\n",
    "\n",
    "| Key (inside `observations`) | Shape | Description |\n",
    "|------------------------------|--------|-------------|\n",
    "| `action_mask` | `[8, 16]` (bool) | Mask of valid/invalid actions for each agent at each step. |\n",
    "| `agent_obs` | `[8, 6]` (float) | Individual agent’s features/observations. |\n",
    "| `agents_mask` | `[8, 4]` (bool) | Mask showing which agents are active/available. |\n",
    "| `global_obs` | `[8, 2]` (float) | Global environment features shared by all agents. |\n",
    "| `node_dynamic_obs` | `[8, 16, 8]` (float) | Dynamic (changing) features of each node/location. |\n",
    "| `node_static_obs` | `[8, 16, 7]` (float) | Static (fixed) features of each node/location. |\n",
    "| `other_agents_obs` | `[8, 4, 8]` (float) | Observations of other agents (relative states, positions, etc.). |\n",
    "\n"
   ]
  },
  {
   "cell_type": "markdown",
   "id": "014422af-14a7-4deb-b7df-e1352c1741fe",
   "metadata": {},
   "source": [
    "Let's visualize some environments instances:"
   ]
  },
  {
   "cell_type": "code",
   "execution_count": 9,
   "id": "fcd663cd-f19f-4de5-96ca-2904ad52a4cc",
   "metadata": {},
   "outputs": [
    {
     "data": {
      "image/png": "[encoded data removed]",
      "text/plain": [
       "<Figure size 800x800 with 4 Axes>"
      ]
     },
     "metadata": {},
     "output_type": "display_data"
    }
   ],
   "source": [
    "plot_env_random_batch_instances(env, n=4)"
   ]
  },
  {
   "cell_type": "markdown",
   "id": "3de655c8-3832-43fc-99eb-d5aca741773f",
   "metadata": {},
   "source": [
    "and now, perform an episode rollover:"
   ]
  },
  {
   "cell_type": "code",
   "execution_count": 10,
   "id": "f4f58ca2-4a3b-48a4-ad24-761e55b03ed2",
   "metadata": {},
   "outputs": [],
   "source": [
    "while not td[\"done\"].all():  \n",
    "    td = env.sample_action(td) # this is where we insert our policy\n",
    "    td = env.step(td)"
   ]
  },
  {
   "cell_type": "markdown",
   "id": "0a061195-e496-49e4-bd7b-5226e05cd468",
   "metadata": {},
   "source": [
    "and we can visualize the solution:"
   ]
  },
  {
   "cell_type": "code",
   "execution_count": 37,
   "id": "2b1499f6-15a7-47ca-8b6a-6faefa63e29d",
   "metadata": {},
   "outputs": [
    {
     "data": {
      "image/png": "[encoded data removed]",
      "text/plain": [
       "<Figure size 600x600 with 1 Axes>"
      ]
     },
     "metadata": {},
     "output_type": "display_data"
    }
   ],
   "source": [
    "plot_solution(env, batch_idx=0)"
   ]
  },
  {
   "cell_type": "markdown",
   "id": "755f3386",
   "metadata": {},
   "source": [
    "## Quick walkthrough"
   ]
  },
  {
   "cell_type": "markdown",
   "id": "0ae4d0ba",
   "metadata": {},
   "source": [
    "Let's now go through the library's building blocks, exploring their functionalities."
   ]
  },
  {
   "cell_type": "markdown",
   "id": "35dc26a8",
   "metadata": {},
   "source": [
    "### Instance generation"
   ]
  },
  {
   "cell_type": "markdown",
   "id": "e451a64f",
   "metadata": {},
   "source": [
    "We can generate instances using one of the two available methods `InstanceGenerator` and `BenchmarkInstanceGenerator`:"
   ]
  },
  {
   "cell_type": "code",
   "execution_count": 11,
   "id": "d93b0219",
   "metadata": {},
   "outputs": [],
   "source": [
    "from maenvs4vrp.environments.cvrptw.instances_generator import InstanceGenerator\n",
    "from maenvs4vrp.environments.cvrptw.benchmark_instances_generator import BenchmarkInstanceGenerator"
   ]
  },
  {
   "cell_type": "markdown",
   "id": "a8f2261c",
   "metadata": {},
   "source": [
    "#### Random generated instances"
   ]
  },
  {
   "cell_type": "markdown",
   "id": "b623a211",
   "metadata": {},
   "source": [
    "Random instances are generated following:\n",
    "\n",
    "Li, S., Yan, Z., & Wu, C. (2021). [Learning to delegate for large-scale vehicle routing](https://proceedings.neurips.cc/paper/2021/hash/dc9fa5f217a1e57b8a6adeb065560b38-Abstract.html). Advances in Neural Information Processing Systems, 34, 26198-26211."
   ]
  },
  {
   "cell_type": "code",
   "execution_count": 12,
   "id": "244b3e52",
   "metadata": {},
   "outputs": [],
   "source": [
    "generator = InstanceGenerator()"
   ]
  },
  {
   "cell_type": "code",
   "execution_count": 13,
   "id": "e1da42b5",
   "metadata": {},
   "outputs": [],
   "source": [
    "instance = generator.sample_instance(num_agents=2, num_nodes=10)"
   ]
  },
  {
   "cell_type": "code",
   "execution_count": 15,
   "id": "04a98361-efb4-4613-ae8f-69335db039b4",
   "metadata": {},
   "outputs": [
    {
     "data": {
      "image/png": "[encoded data removed]",
      "text/plain": [
       "<Figure size 200x200 with 1 Axes>"
      ]
     },
     "metadata": {},
     "output_type": "display_data"
    }
   ],
   "source": [
    "plot_random_batch_instances(instance,\n",
    "                            n=1,\n",
    "                            figsize_per_plot=(2,2),\n",
    "                            annotate=False,\n",
    "                            )"
   ]
  },
  {
   "cell_type": "code",
   "execution_count": 16,
   "id": "c0b10f39",
   "metadata": {},
   "outputs": [
    {
     "data": {
      "text/plain": [
       "dict_keys(['name', 'num_nodes', 'num_agents', 'data'])"
      ]
     },
     "execution_count": 16,
     "metadata": {},
     "output_type": "execute_result"
    }
   ],
   "source": [
    "instance.keys()"
   ]
  },
  {
   "cell_type": "code",
   "execution_count": 17,
   "id": "5f77204e",
   "metadata": {
    "scrolled": true
   },
   "outputs": [
    {
     "data": {
      "text/plain": [
       "{'name': 'random_instance',\n",
       " 'num_nodes': 10,\n",
       " 'num_agents': 2,\n",
       " 'data': TensorDict(\n",
       "     fields={\n",
       "         capacity: Tensor(shape=torch.Size([1, 1]), device=cpu, dtype=torch.float32, is_shared=False),\n",
       "         coords: Tensor(shape=torch.Size([1, 10, 2]), device=cpu, dtype=torch.float32, is_shared=False),\n",
       "         demands: Tensor(shape=torch.Size([1, 10]), device=cpu, dtype=torch.float32, is_shared=False),\n",
       "         depot_idx: Tensor(shape=torch.Size([1, 1]), device=cpu, dtype=torch.int64, is_shared=False),\n",
       "         end_time: Tensor(shape=torch.Size([1]), device=cpu, dtype=torch.float32, is_shared=False),\n",
       "         is_depot: Tensor(shape=torch.Size([1, 10]), device=cpu, dtype=torch.bool, is_shared=False),\n",
       "         service_time: Tensor(shape=torch.Size([1, 10]), device=cpu, dtype=torch.float32, is_shared=False),\n",
       "         start_time: Tensor(shape=torch.Size([1]), device=cpu, dtype=torch.float32, is_shared=False),\n",
       "         tw_high: Tensor(shape=torch.Size([1, 10]), device=cpu, dtype=torch.float32, is_shared=False),\n",
       "         tw_low: Tensor(shape=torch.Size([1, 10]), device=cpu, dtype=torch.float32, is_shared=False)},\n",
       "     batch_size=torch.Size([1]),\n",
       "     device=cpu,\n",
       "     is_shared=False)}"
      ]
     },
     "execution_count": 17,
     "metadata": {},
     "output_type": "execute_result"
    }
   ],
   "source": [
    "instance"
   ]
  },
  {
   "cell_type": "markdown",
   "id": "6bfb32ed-5796-44c2-95a9-d5dca56a3174",
   "metadata": {},
   "source": [
    "**Understanding the VRP Instance**\n",
    "\n",
    "This object represents a single **vehicle routing problem (VRP) instance**.  \n",
    "It contains metadata and a `TensorDict` of all the data needed to define the problem.\n",
    "\n",
    "**Top-Level Metadata**\n",
    "\n",
    "| Key | Value / Type | Description |\n",
    "|------|-------------|-------------|\n",
    "| `name` | `'random_instance'` | Name or identifier of the VRP instance. |\n",
    "| `num_nodes` | `10` | Total number of nodes (customers + depot). |\n",
    "| `num_agents` | `2` | Number of agents/vehicles available. |\n",
    "\n",
    "---\n",
    "\n",
    "**Nested `data` TensorDict**\n",
    "\n",
    "This contains all the features of the VRP instance.\n",
    "\n",
    "| Key (inside `data`) | Shape | Description |\n",
    "|---------------------|--------|-------------|\n",
    "| `capacity` | `[1, 1]` (float) | Vehicle capacity constraint. |\n",
    "| `coords` | `[1, 10, 2]` (float) | Coordinates (x, y) of each node (including depot). |\n",
    "| `demands` | `[1, 10]` (float) | Demand at each node. |\n",
    "| `depot_idx` | `[1, 1]` (int) | Index of the depot node. |\n",
    "| `end_time` | `[1]` (float) | Latest allowed time for route completion. |\n",
    "| `is_depot` | `[1, 10]` (bool) | Boolean mask indicating which node is the depot. |\n",
    "| `service_time` | `[1, 10]` (float) | Service time required at each node. |\n",
    "| `start_time` | `[1]` (float) | Earliest allowed time for route start. |\n",
    "| `tw_high` | `[1, 10]` (float) | Upper bounds of time windows for each node. |\n",
    "| `tw_low` | `[1, 10]` (float) | Lower bounds of time windows for each node. |\n",
    "\n",
    "---"
   ]
  },
  {
   "cell_type": "markdown",
   "id": "2a32f1ee",
   "metadata": {},
   "source": [
    "It's possible to load a set of pre-generaded instances, to be used as validation/test sets. For example:"
   ]
  },
  {
   "cell_type": "code",
   "execution_count": 18,
   "id": "bd347421-77f1-4803-b9ec-257438a4bdcc",
   "metadata": {},
   "outputs": [
    {
     "data": {
      "text/plain": [
       "{'servs_100_agents_25': {'validation': ['cvrptw/data/generated/servs_100_agents_25/validation/generated_val_servs_100_agents_25_2',\n",
       "   'cvrptw/data/generated/servs_100_agents_25/validation/generated_val_servs_100_agents_25_31',\n",
       "   'cvrptw/data/generated/servs_100_agents_25/validation/generated_val_servs_100_agents_25_43',\n",
       "   'cvrptw/data/generated/servs_100_agents_25/validation/generated_val_servs_100_agents_25_55',\n",
       "   'cvrptw/data/generated/servs_100_agents_25/validation/generated_val_servs_100_agents_25_0',\n",
       "   'cvrptw/data/generated/servs_100_agents_25/validation/generated_val_servs_100_agents_25_1',\n",
       "   'cvrptw/data/generated/servs_100_agents_25/validation/generated_val_servs_100_agents_25_10',\n",
       "   'cvrptw/data/generated/servs_100_agents_25/validation/generated_val_servs_100_agents_25_11',\n",
       "   'cvrptw/data/generated/servs_100_agents_25/validation/generated_val_servs_100_agents_25_12',\n",
       "   'cvrptw/data/generated/servs_100_agents_25/validation/generated_val_servs_100_agents_25_13',\n",
       "   'cvrptw/data/generated/servs_100_agents_25/validation/generated_val_servs_100_agents_25_14',\n",
       "   'cvrptw/data/generated/servs_100_agents_25/validation/generated_val_servs_100_agents_25_15',\n",
       "   'cvrptw/data/generated/servs_100_agents_25/validation/generated_val_servs_100_agents_25_16',\n",
       "   'cvrptw/data/generated/servs_100_agents_25/validation/generated_val_servs_100_agents_25_17',\n",
       "   'cvrptw/data/generated/servs_100_agents_25/validation/generated_val_servs_100_agents_25_18',\n",
       "   'cvrptw/data/generated/servs_100_agents_25/validation/generated_val_servs_100_agents_25_19',\n",
       "   'cvrptw/data/generated/servs_100_agents_25/validation/generated_val_servs_100_agents_25_20',\n",
       "   'cvrptw/data/generated/servs_100_agents_25/validation/generated_val_servs_100_agents_25_21',\n",
       "   'cvrptw/data/generated/servs_100_agents_25/validation/generated_val_servs_100_agents_25_22',\n",
       "   'cvrptw/data/generated/servs_100_agents_25/validation/generated_val_servs_100_agents_25_23',\n",
       "   'cvrptw/data/generated/servs_100_agents_25/validation/generated_val_servs_100_agents_25_24',\n",
       "   'cvrptw/data/generated/servs_100_agents_25/validation/generated_val_servs_100_agents_25_25',\n",
       "   'cvrptw/data/generated/servs_100_agents_25/validation/generated_val_servs_100_agents_25_26',\n",
       "   'cvrptw/data/generated/servs_100_agents_25/validation/generated_val_servs_100_agents_25_27',\n",
       "   'cvrptw/data/generated/servs_100_agents_25/validation/generated_val_servs_100_agents_25_28',\n",
       "   'cvrptw/data/generated/servs_100_agents_25/validation/generated_val_servs_100_agents_25_29',\n",
       "   'cvrptw/data/generated/servs_100_agents_25/validation/generated_val_servs_100_agents_25_3',\n",
       "   'cvrptw/data/generated/servs_100_agents_25/validation/generated_val_servs_100_agents_25_30',\n",
       "   'cvrptw/data/generated/servs_100_agents_25/validation/generated_val_servs_100_agents_25_32',\n",
       "   'cvrptw/data/generated/servs_100_agents_25/validation/generated_val_servs_100_agents_25_33',\n",
       "   'cvrptw/data/generated/servs_100_agents_25/validation/generated_val_servs_100_agents_25_34',\n",
       "   'cvrptw/data/generated/servs_100_agents_25/validation/generated_val_servs_100_agents_25_35',\n",
       "   'cvrptw/data/generated/servs_100_agents_25/validation/generated_val_servs_100_agents_25_36',\n",
       "   'cvrptw/data/generated/servs_100_agents_25/validation/generated_val_servs_100_agents_25_37',\n",
       "   'cvrptw/data/generated/servs_100_agents_25/validation/generated_val_servs_100_agents_25_38',\n",
       "   'cvrptw/data/generated/servs_100_agents_25/validation/generated_val_servs_100_agents_25_39',\n",
       "   'cvrptw/data/generated/servs_100_agents_25/validation/generated_val_servs_100_agents_25_4',\n",
       "   'cvrptw/data/generated/servs_100_agents_25/validation/generated_val_servs_100_agents_25_40',\n",
       "   'cvrptw/data/generated/servs_100_agents_25/validation/generated_val_servs_100_agents_25_41',\n",
       "   'cvrptw/data/generated/servs_100_agents_25/validation/generated_val_servs_100_agents_25_42',\n",
       "   'cvrptw/data/generated/servs_100_agents_25/validation/generated_val_servs_100_agents_25_44',\n",
       "   'cvrptw/data/generated/servs_100_agents_25/validation/generated_val_servs_100_agents_25_45',\n",
       "   'cvrptw/data/generated/servs_100_agents_25/validation/generated_val_servs_100_agents_25_46',\n",
       "   'cvrptw/data/generated/servs_100_agents_25/validation/generated_val_servs_100_agents_25_47',\n",
       "   'cvrptw/data/generated/servs_100_agents_25/validation/generated_val_servs_100_agents_25_48',\n",
       "   'cvrptw/data/generated/servs_100_agents_25/validation/generated_val_servs_100_agents_25_49',\n",
       "   'cvrptw/data/generated/servs_100_agents_25/validation/generated_val_servs_100_agents_25_5',\n",
       "   'cvrptw/data/generated/servs_100_agents_25/validation/generated_val_servs_100_agents_25_50',\n",
       "   'cvrptw/data/generated/servs_100_agents_25/validation/generated_val_servs_100_agents_25_51',\n",
       "   'cvrptw/data/generated/servs_100_agents_25/validation/generated_val_servs_100_agents_25_52',\n",
       "   'cvrptw/data/generated/servs_100_agents_25/validation/generated_val_servs_100_agents_25_53',\n",
       "   'cvrptw/data/generated/servs_100_agents_25/validation/generated_val_servs_100_agents_25_54',\n",
       "   'cvrptw/data/generated/servs_100_agents_25/validation/generated_val_servs_100_agents_25_56',\n",
       "   'cvrptw/data/generated/servs_100_agents_25/validation/generated_val_servs_100_agents_25_57',\n",
       "   'cvrptw/data/generated/servs_100_agents_25/validation/generated_val_servs_100_agents_25_58',\n",
       "   'cvrptw/data/generated/servs_100_agents_25/validation/generated_val_servs_100_agents_25_59',\n",
       "   'cvrptw/data/generated/servs_100_agents_25/validation/generated_val_servs_100_agents_25_6',\n",
       "   'cvrptw/data/generated/servs_100_agents_25/validation/generated_val_servs_100_agents_25_60',\n",
       "   'cvrptw/data/generated/servs_100_agents_25/validation/generated_val_servs_100_agents_25_61',\n",
       "   'cvrptw/data/generated/servs_100_agents_25/validation/generated_val_servs_100_agents_25_62',\n",
       "   'cvrptw/data/generated/servs_100_agents_25/validation/generated_val_servs_100_agents_25_63',\n",
       "   'cvrptw/data/generated/servs_100_agents_25/validation/generated_val_servs_100_agents_25_7',\n",
       "   'cvrptw/data/generated/servs_100_agents_25/validation/generated_val_servs_100_agents_25_8',\n",
       "   'cvrptw/data/generated/servs_100_agents_25/validation/generated_val_servs_100_agents_25_9'],\n",
       "  'test': ['cvrptw/data/generated/servs_100_agents_25/test/generated_test_servs_100_agents_25_19',\n",
       "   'cvrptw/data/generated/servs_100_agents_25/test/generated_test_servs_100_agents_25_3',\n",
       "   'cvrptw/data/generated/servs_100_agents_25/test/generated_test_servs_100_agents_25_40',\n",
       "   'cvrptw/data/generated/servs_100_agents_25/test/generated_test_servs_100_agents_25_51',\n",
       "   'cvrptw/data/generated/servs_100_agents_25/test/generated_test_servs_100_agents_25_0',\n",
       "   'cvrptw/data/generated/servs_100_agents_25/test/generated_test_servs_100_agents_25_1',\n",
       "   'cvrptw/data/generated/servs_100_agents_25/test/generated_test_servs_100_agents_25_10',\n",
       "   'cvrptw/data/generated/servs_100_agents_25/test/generated_test_servs_100_agents_25_11',\n",
       "   'cvrptw/data/generated/servs_100_agents_25/test/generated_test_servs_100_agents_25_12',\n",
       "   'cvrptw/data/generated/servs_100_agents_25/test/generated_test_servs_100_agents_25_13',\n",
       "   'cvrptw/data/generated/servs_100_agents_25/test/generated_test_servs_100_agents_25_14',\n",
       "   'cvrptw/data/generated/servs_100_agents_25/test/generated_test_servs_100_agents_25_15',\n",
       "   'cvrptw/data/generated/servs_100_agents_25/test/generated_test_servs_100_agents_25_16',\n",
       "   'cvrptw/data/generated/servs_100_agents_25/test/generated_test_servs_100_agents_25_17',\n",
       "   'cvrptw/data/generated/servs_100_agents_25/test/generated_test_servs_100_agents_25_18',\n",
       "   'cvrptw/data/generated/servs_100_agents_25/test/generated_test_servs_100_agents_25_2',\n",
       "   'cvrptw/data/generated/servs_100_agents_25/test/generated_test_servs_100_agents_25_20',\n",
       "   'cvrptw/data/generated/servs_100_agents_25/test/generated_test_servs_100_agents_25_21',\n",
       "   'cvrptw/data/generated/servs_100_agents_25/test/generated_test_servs_100_agents_25_22',\n",
       "   'cvrptw/data/generated/servs_100_agents_25/test/generated_test_servs_100_agents_25_23',\n",
       "   'cvrptw/data/generated/servs_100_agents_25/test/generated_test_servs_100_agents_25_24',\n",
       "   'cvrptw/data/generated/servs_100_agents_25/test/generated_test_servs_100_agents_25_25',\n",
       "   'cvrptw/data/generated/servs_100_agents_25/test/generated_test_servs_100_agents_25_26',\n",
       "   'cvrptw/data/generated/servs_100_agents_25/test/generated_test_servs_100_agents_25_27',\n",
       "   'cvrptw/data/generated/servs_100_agents_25/test/generated_test_servs_100_agents_25_28',\n",
       "   'cvrptw/data/generated/servs_100_agents_25/test/generated_test_servs_100_agents_25_29',\n",
       "   'cvrptw/data/generated/servs_100_agents_25/test/generated_test_servs_100_agents_25_30',\n",
       "   'cvrptw/data/generated/servs_100_agents_25/test/generated_test_servs_100_agents_25_31',\n",
       "   'cvrptw/data/generated/servs_100_agents_25/test/generated_test_servs_100_agents_25_32',\n",
       "   'cvrptw/data/generated/servs_100_agents_25/test/generated_test_servs_100_agents_25_33',\n",
       "   'cvrptw/data/generated/servs_100_agents_25/test/generated_test_servs_100_agents_25_34',\n",
       "   'cvrptw/data/generated/servs_100_agents_25/test/generated_test_servs_100_agents_25_35',\n",
       "   'cvrptw/data/generated/servs_100_agents_25/test/generated_test_servs_100_agents_25_36',\n",
       "   'cvrptw/data/generated/servs_100_agents_25/test/generated_test_servs_100_agents_25_37',\n",
       "   'cvrptw/data/generated/servs_100_agents_25/test/generated_test_servs_100_agents_25_38',\n",
       "   'cvrptw/data/generated/servs_100_agents_25/test/generated_test_servs_100_agents_25_39',\n",
       "   'cvrptw/data/generated/servs_100_agents_25/test/generated_test_servs_100_agents_25_4',\n",
       "   'cvrptw/data/generated/servs_100_agents_25/test/generated_test_servs_100_agents_25_41',\n",
       "   'cvrptw/data/generated/servs_100_agents_25/test/generated_test_servs_100_agents_25_42',\n",
       "   'cvrptw/data/generated/servs_100_agents_25/test/generated_test_servs_100_agents_25_43',\n",
       "   'cvrptw/data/generated/servs_100_agents_25/test/generated_test_servs_100_agents_25_44',\n",
       "   'cvrptw/data/generated/servs_100_agents_25/test/generated_test_servs_100_agents_25_45',\n",
       "   'cvrptw/data/generated/servs_100_agents_25/test/generated_test_servs_100_agents_25_46',\n",
       "   'cvrptw/data/generated/servs_100_agents_25/test/generated_test_servs_100_agents_25_47',\n",
       "   'cvrptw/data/generated/servs_100_agents_25/test/generated_test_servs_100_agents_25_48',\n",
       "   'cvrptw/data/generated/servs_100_agents_25/test/generated_test_servs_100_agents_25_49',\n",
       "   'cvrptw/data/generated/servs_100_agents_25/test/generated_test_servs_100_agents_25_5',\n",
       "   'cvrptw/data/generated/servs_100_agents_25/test/generated_test_servs_100_agents_25_50',\n",
       "   'cvrptw/data/generated/servs_100_agents_25/test/generated_test_servs_100_agents_25_52',\n",
       "   'cvrptw/data/generated/servs_100_agents_25/test/generated_test_servs_100_agents_25_53',\n",
       "   'cvrptw/data/generated/servs_100_agents_25/test/generated_test_servs_100_agents_25_54',\n",
       "   'cvrptw/data/generated/servs_100_agents_25/test/generated_test_servs_100_agents_25_55',\n",
       "   'cvrptw/data/generated/servs_100_agents_25/test/generated_test_servs_100_agents_25_56',\n",
       "   'cvrptw/data/generated/servs_100_agents_25/test/generated_test_servs_100_agents_25_57',\n",
       "   'cvrptw/data/generated/servs_100_agents_25/test/generated_test_servs_100_agents_25_58',\n",
       "   'cvrptw/data/generated/servs_100_agents_25/test/generated_test_servs_100_agents_25_59',\n",
       "   'cvrptw/data/generated/servs_100_agents_25/test/generated_test_servs_100_agents_25_6',\n",
       "   'cvrptw/data/generated/servs_100_agents_25/test/generated_test_servs_100_agents_25_60',\n",
       "   'cvrptw/data/generated/servs_100_agents_25/test/generated_test_servs_100_agents_25_61',\n",
       "   'cvrptw/data/generated/servs_100_agents_25/test/generated_test_servs_100_agents_25_62',\n",
       "   'cvrptw/data/generated/servs_100_agents_25/test/generated_test_servs_100_agents_25_63',\n",
       "   'cvrptw/data/generated/servs_100_agents_25/test/generated_test_servs_100_agents_25_7',\n",
       "   'cvrptw/data/generated/servs_100_agents_25/test/generated_test_servs_100_agents_25_8',\n",
       "   'cvrptw/data/generated/servs_100_agents_25/test/generated_test_servs_100_agents_25_9']},\n",
       " 'servs_25_agents_10': {'validation': ['cvrptw/data/generated/servs_25_agents_10/validation/generated_val_servs_25_agents_10_2',\n",
       "   'cvrptw/data/generated/servs_25_agents_10/validation/generated_val_servs_25_agents_10_31',\n",
       "   'cvrptw/data/generated/servs_25_agents_10/validation/generated_val_servs_25_agents_10_43',\n",
       "   'cvrptw/data/generated/servs_25_agents_10/validation/generated_val_servs_25_agents_10_0',\n",
       "   'cvrptw/data/generated/servs_25_agents_10/validation/generated_val_servs_25_agents_10_1',\n",
       "   'cvrptw/data/generated/servs_25_agents_10/validation/generated_val_servs_25_agents_10_10',\n",
       "   'cvrptw/data/generated/servs_25_agents_10/validation/generated_val_servs_25_agents_10_11',\n",
       "   'cvrptw/data/generated/servs_25_agents_10/validation/generated_val_servs_25_agents_10_12',\n",
       "   'cvrptw/data/generated/servs_25_agents_10/validation/generated_val_servs_25_agents_10_13',\n",
       "   'cvrptw/data/generated/servs_25_agents_10/validation/generated_val_servs_25_agents_10_14',\n",
       "   'cvrptw/data/generated/servs_25_agents_10/validation/generated_val_servs_25_agents_10_15',\n",
       "   'cvrptw/data/generated/servs_25_agents_10/validation/generated_val_servs_25_agents_10_16',\n",
       "   'cvrptw/data/generated/servs_25_agents_10/validation/generated_val_servs_25_agents_10_17',\n",
       "   'cvrptw/data/generated/servs_25_agents_10/validation/generated_val_servs_25_agents_10_18',\n",
       "   'cvrptw/data/generated/servs_25_agents_10/validation/generated_val_servs_25_agents_10_19',\n",
       "   'cvrptw/data/generated/servs_25_agents_10/validation/generated_val_servs_25_agents_10_20',\n",
       "   'cvrptw/data/generated/servs_25_agents_10/validation/generated_val_servs_25_agents_10_21',\n",
       "   'cvrptw/data/generated/servs_25_agents_10/validation/generated_val_servs_25_agents_10_22',\n",
       "   'cvrptw/data/generated/servs_25_agents_10/validation/generated_val_servs_25_agents_10_23',\n",
       "   'cvrptw/data/generated/servs_25_agents_10/validation/generated_val_servs_25_agents_10_24',\n",
       "   'cvrptw/data/generated/servs_25_agents_10/validation/generated_val_servs_25_agents_10_25',\n",
       "   'cvrptw/data/generated/servs_25_agents_10/validation/generated_val_servs_25_agents_10_26',\n",
       "   'cvrptw/data/generated/servs_25_agents_10/validation/generated_val_servs_25_agents_10_27',\n",
       "   'cvrptw/data/generated/servs_25_agents_10/validation/generated_val_servs_25_agents_10_28',\n",
       "   'cvrptw/data/generated/servs_25_agents_10/validation/generated_val_servs_25_agents_10_29',\n",
       "   'cvrptw/data/generated/servs_25_agents_10/validation/generated_val_servs_25_agents_10_3',\n",
       "   'cvrptw/data/generated/servs_25_agents_10/validation/generated_val_servs_25_agents_10_30',\n",
       "   'cvrptw/data/generated/servs_25_agents_10/validation/generated_val_servs_25_agents_10_32',\n",
       "   'cvrptw/data/generated/servs_25_agents_10/validation/generated_val_servs_25_agents_10_33',\n",
       "   'cvrptw/data/generated/servs_25_agents_10/validation/generated_val_servs_25_agents_10_34',\n",
       "   'cvrptw/data/generated/servs_25_agents_10/validation/generated_val_servs_25_agents_10_35',\n",
       "   'cvrptw/data/generated/servs_25_agents_10/validation/generated_val_servs_25_agents_10_36',\n",
       "   'cvrptw/data/generated/servs_25_agents_10/validation/generated_val_servs_25_agents_10_37',\n",
       "   'cvrptw/data/generated/servs_25_agents_10/validation/generated_val_servs_25_agents_10_38',\n",
       "   'cvrptw/data/generated/servs_25_agents_10/validation/generated_val_servs_25_agents_10_39',\n",
       "   'cvrptw/data/generated/servs_25_agents_10/validation/generated_val_servs_25_agents_10_4',\n",
       "   'cvrptw/data/generated/servs_25_agents_10/validation/generated_val_servs_25_agents_10_40',\n",
       "   'cvrptw/data/generated/servs_25_agents_10/validation/generated_val_servs_25_agents_10_41',\n",
       "   'cvrptw/data/generated/servs_25_agents_10/validation/generated_val_servs_25_agents_10_42',\n",
       "   'cvrptw/data/generated/servs_25_agents_10/validation/generated_val_servs_25_agents_10_44',\n",
       "   'cvrptw/data/generated/servs_25_agents_10/validation/generated_val_servs_25_agents_10_45',\n",
       "   'cvrptw/data/generated/servs_25_agents_10/validation/generated_val_servs_25_agents_10_46',\n",
       "   'cvrptw/data/generated/servs_25_agents_10/validation/generated_val_servs_25_agents_10_47',\n",
       "   'cvrptw/data/generated/servs_25_agents_10/validation/generated_val_servs_25_agents_10_48',\n",
       "   'cvrptw/data/generated/servs_25_agents_10/validation/generated_val_servs_25_agents_10_49',\n",
       "   'cvrptw/data/generated/servs_25_agents_10/validation/generated_val_servs_25_agents_10_5',\n",
       "   'cvrptw/data/generated/servs_25_agents_10/validation/generated_val_servs_25_agents_10_50',\n",
       "   'cvrptw/data/generated/servs_25_agents_10/validation/generated_val_servs_25_agents_10_51',\n",
       "   'cvrptw/data/generated/servs_25_agents_10/validation/generated_val_servs_25_agents_10_52',\n",
       "   'cvrptw/data/generated/servs_25_agents_10/validation/generated_val_servs_25_agents_10_53',\n",
       "   'cvrptw/data/generated/servs_25_agents_10/validation/generated_val_servs_25_agents_10_54',\n",
       "   'cvrptw/data/generated/servs_25_agents_10/validation/generated_val_servs_25_agents_10_55',\n",
       "   'cvrptw/data/generated/servs_25_agents_10/validation/generated_val_servs_25_agents_10_56',\n",
       "   'cvrptw/data/generated/servs_25_agents_10/validation/generated_val_servs_25_agents_10_57',\n",
       "   'cvrptw/data/generated/servs_25_agents_10/validation/generated_val_servs_25_agents_10_58',\n",
       "   'cvrptw/data/generated/servs_25_agents_10/validation/generated_val_servs_25_agents_10_59',\n",
       "   'cvrptw/data/generated/servs_25_agents_10/validation/generated_val_servs_25_agents_10_6',\n",
       "   'cvrptw/data/generated/servs_25_agents_10/validation/generated_val_servs_25_agents_10_60',\n",
       "   'cvrptw/data/generated/servs_25_agents_10/validation/generated_val_servs_25_agents_10_61',\n",
       "   'cvrptw/data/generated/servs_25_agents_10/validation/generated_val_servs_25_agents_10_62',\n",
       "   'cvrptw/data/generated/servs_25_agents_10/validation/generated_val_servs_25_agents_10_63',\n",
       "   'cvrptw/data/generated/servs_25_agents_10/validation/generated_val_servs_25_agents_10_7',\n",
       "   'cvrptw/data/generated/servs_25_agents_10/validation/generated_val_servs_25_agents_10_8',\n",
       "   'cvrptw/data/generated/servs_25_agents_10/validation/generated_val_servs_25_agents_10_9'],\n",
       "  'test': ['cvrptw/data/generated/servs_25_agents_10/test/generated_test_servs_25_agents_10_2',\n",
       "   'cvrptw/data/generated/servs_25_agents_10/test/generated_test_servs_25_agents_10_31',\n",
       "   'cvrptw/data/generated/servs_25_agents_10/test/generated_test_servs_25_agents_10_43',\n",
       "   'cvrptw/data/generated/servs_25_agents_10/test/generated_test_servs_25_agents_10_55',\n",
       "   'cvrptw/data/generated/servs_25_agents_10/test/generated_test_servs_25_agents_10_0',\n",
       "   'cvrptw/data/generated/servs_25_agents_10/test/generated_test_servs_25_agents_10_1',\n",
       "   'cvrptw/data/generated/servs_25_agents_10/test/generated_test_servs_25_agents_10_10',\n",
       "   'cvrptw/data/generated/servs_25_agents_10/test/generated_test_servs_25_agents_10_11',\n",
       "   'cvrptw/data/generated/servs_25_agents_10/test/generated_test_servs_25_agents_10_12',\n",
       "   'cvrptw/data/generated/servs_25_agents_10/test/generated_test_servs_25_agents_10_13',\n",
       "   'cvrptw/data/generated/servs_25_agents_10/test/generated_test_servs_25_agents_10_14',\n",
       "   'cvrptw/data/generated/servs_25_agents_10/test/generated_test_servs_25_agents_10_15',\n",
       "   'cvrptw/data/generated/servs_25_agents_10/test/generated_test_servs_25_agents_10_16',\n",
       "   'cvrptw/data/generated/servs_25_agents_10/test/generated_test_servs_25_agents_10_17',\n",
       "   'cvrptw/data/generated/servs_25_agents_10/test/generated_test_servs_25_agents_10_18',\n",
       "   'cvrptw/data/generated/servs_25_agents_10/test/generated_test_servs_25_agents_10_19',\n",
       "   'cvrptw/data/generated/servs_25_agents_10/test/generated_test_servs_25_agents_10_20',\n",
       "   'cvrptw/data/generated/servs_25_agents_10/test/generated_test_servs_25_agents_10_21',\n",
       "   'cvrptw/data/generated/servs_25_agents_10/test/generated_test_servs_25_agents_10_22',\n",
       "   'cvrptw/data/generated/servs_25_agents_10/test/generated_test_servs_25_agents_10_23',\n",
       "   'cvrptw/data/generated/servs_25_agents_10/test/generated_test_servs_25_agents_10_24',\n",
       "   'cvrptw/data/generated/servs_25_agents_10/test/generated_test_servs_25_agents_10_25',\n",
       "   'cvrptw/data/generated/servs_25_agents_10/test/generated_test_servs_25_agents_10_26',\n",
       "   'cvrptw/data/generated/servs_25_agents_10/test/generated_test_servs_25_agents_10_27',\n",
       "   'cvrptw/data/generated/servs_25_agents_10/test/generated_test_servs_25_agents_10_28',\n",
       "   'cvrptw/data/generated/servs_25_agents_10/test/generated_test_servs_25_agents_10_29',\n",
       "   'cvrptw/data/generated/servs_25_agents_10/test/generated_test_servs_25_agents_10_3',\n",
       "   'cvrptw/data/generated/servs_25_agents_10/test/generated_test_servs_25_agents_10_30',\n",
       "   'cvrptw/data/generated/servs_25_agents_10/test/generated_test_servs_25_agents_10_32',\n",
       "   'cvrptw/data/generated/servs_25_agents_10/test/generated_test_servs_25_agents_10_33',\n",
       "   'cvrptw/data/generated/servs_25_agents_10/test/generated_test_servs_25_agents_10_34',\n",
       "   'cvrptw/data/generated/servs_25_agents_10/test/generated_test_servs_25_agents_10_35',\n",
       "   'cvrptw/data/generated/servs_25_agents_10/test/generated_test_servs_25_agents_10_36',\n",
       "   'cvrptw/data/generated/servs_25_agents_10/test/generated_test_servs_25_agents_10_37',\n",
       "   'cvrptw/data/generated/servs_25_agents_10/test/generated_test_servs_25_agents_10_38',\n",
       "   'cvrptw/data/generated/servs_25_agents_10/test/generated_test_servs_25_agents_10_39',\n",
       "   'cvrptw/data/generated/servs_25_agents_10/test/generated_test_servs_25_agents_10_4',\n",
       "   'cvrptw/data/generated/servs_25_agents_10/test/generated_test_servs_25_agents_10_40',\n",
       "   'cvrptw/data/generated/servs_25_agents_10/test/generated_test_servs_25_agents_10_41',\n",
       "   'cvrptw/data/generated/servs_25_agents_10/test/generated_test_servs_25_agents_10_42',\n",
       "   'cvrptw/data/generated/servs_25_agents_10/test/generated_test_servs_25_agents_10_44',\n",
       "   'cvrptw/data/generated/servs_25_agents_10/test/generated_test_servs_25_agents_10_45',\n",
       "   'cvrptw/data/generated/servs_25_agents_10/test/generated_test_servs_25_agents_10_46',\n",
       "   'cvrptw/data/generated/servs_25_agents_10/test/generated_test_servs_25_agents_10_47',\n",
       "   'cvrptw/data/generated/servs_25_agents_10/test/generated_test_servs_25_agents_10_48',\n",
       "   'cvrptw/data/generated/servs_25_agents_10/test/generated_test_servs_25_agents_10_49',\n",
       "   'cvrptw/data/generated/servs_25_agents_10/test/generated_test_servs_25_agents_10_5',\n",
       "   'cvrptw/data/generated/servs_25_agents_10/test/generated_test_servs_25_agents_10_50',\n",
       "   'cvrptw/data/generated/servs_25_agents_10/test/generated_test_servs_25_agents_10_51',\n",
       "   'cvrptw/data/generated/servs_25_agents_10/test/generated_test_servs_25_agents_10_52',\n",
       "   'cvrptw/data/generated/servs_25_agents_10/test/generated_test_servs_25_agents_10_53',\n",
       "   'cvrptw/data/generated/servs_25_agents_10/test/generated_test_servs_25_agents_10_54',\n",
       "   'cvrptw/data/generated/servs_25_agents_10/test/generated_test_servs_25_agents_10_56',\n",
       "   'cvrptw/data/generated/servs_25_agents_10/test/generated_test_servs_25_agents_10_57',\n",
       "   'cvrptw/data/generated/servs_25_agents_10/test/generated_test_servs_25_agents_10_58',\n",
       "   'cvrptw/data/generated/servs_25_agents_10/test/generated_test_servs_25_agents_10_59',\n",
       "   'cvrptw/data/generated/servs_25_agents_10/test/generated_test_servs_25_agents_10_6',\n",
       "   'cvrptw/data/generated/servs_25_agents_10/test/generated_test_servs_25_agents_10_60',\n",
       "   'cvrptw/data/generated/servs_25_agents_10/test/generated_test_servs_25_agents_10_61',\n",
       "   'cvrptw/data/generated/servs_25_agents_10/test/generated_test_servs_25_agents_10_62',\n",
       "   'cvrptw/data/generated/servs_25_agents_10/test/generated_test_servs_25_agents_10_63',\n",
       "   'cvrptw/data/generated/servs_25_agents_10/test/generated_test_servs_25_agents_10_7',\n",
       "   'cvrptw/data/generated/servs_25_agents_10/test/generated_test_servs_25_agents_10_8',\n",
       "   'cvrptw/data/generated/servs_25_agents_10/test/generated_test_servs_25_agents_10_9']},\n",
       " 'servs_25_agents_25': {'validation': ['cvrptw/data/generated/servs_25_agents_25/validation/generated_val_servs_25_agents_25_2',\n",
       "   'cvrptw/data/generated/servs_25_agents_25/validation/generated_val_servs_25_agents_25_31',\n",
       "   'cvrptw/data/generated/servs_25_agents_25/validation/generated_val_servs_25_agents_25_43',\n",
       "   'cvrptw/data/generated/servs_25_agents_25/validation/generated_val_servs_25_agents_25_0',\n",
       "   'cvrptw/data/generated/servs_25_agents_25/validation/generated_val_servs_25_agents_25_1',\n",
       "   'cvrptw/data/generated/servs_25_agents_25/validation/generated_val_servs_25_agents_25_10',\n",
       "   'cvrptw/data/generated/servs_25_agents_25/validation/generated_val_servs_25_agents_25_11',\n",
       "   'cvrptw/data/generated/servs_25_agents_25/validation/generated_val_servs_25_agents_25_12',\n",
       "   'cvrptw/data/generated/servs_25_agents_25/validation/generated_val_servs_25_agents_25_13',\n",
       "   'cvrptw/data/generated/servs_25_agents_25/validation/generated_val_servs_25_agents_25_14',\n",
       "   'cvrptw/data/generated/servs_25_agents_25/validation/generated_val_servs_25_agents_25_15',\n",
       "   'cvrptw/data/generated/servs_25_agents_25/validation/generated_val_servs_25_agents_25_16',\n",
       "   'cvrptw/data/generated/servs_25_agents_25/validation/generated_val_servs_25_agents_25_17',\n",
       "   'cvrptw/data/generated/servs_25_agents_25/validation/generated_val_servs_25_agents_25_18',\n",
       "   'cvrptw/data/generated/servs_25_agents_25/validation/generated_val_servs_25_agents_25_19',\n",
       "   'cvrptw/data/generated/servs_25_agents_25/validation/generated_val_servs_25_agents_25_20',\n",
       "   'cvrptw/data/generated/servs_25_agents_25/validation/generated_val_servs_25_agents_25_21',\n",
       "   'cvrptw/data/generated/servs_25_agents_25/validation/generated_val_servs_25_agents_25_22',\n",
       "   'cvrptw/data/generated/servs_25_agents_25/validation/generated_val_servs_25_agents_25_23',\n",
       "   'cvrptw/data/generated/servs_25_agents_25/validation/generated_val_servs_25_agents_25_24',\n",
       "   'cvrptw/data/generated/servs_25_agents_25/validation/generated_val_servs_25_agents_25_25',\n",
       "   'cvrptw/data/generated/servs_25_agents_25/validation/generated_val_servs_25_agents_25_26',\n",
       "   'cvrptw/data/generated/servs_25_agents_25/validation/generated_val_servs_25_agents_25_27',\n",
       "   'cvrptw/data/generated/servs_25_agents_25/validation/generated_val_servs_25_agents_25_28',\n",
       "   'cvrptw/data/generated/servs_25_agents_25/validation/generated_val_servs_25_agents_25_29',\n",
       "   'cvrptw/data/generated/servs_25_agents_25/validation/generated_val_servs_25_agents_25_3',\n",
       "   'cvrptw/data/generated/servs_25_agents_25/validation/generated_val_servs_25_agents_25_30',\n",
       "   'cvrptw/data/generated/servs_25_agents_25/validation/generated_val_servs_25_agents_25_32',\n",
       "   'cvrptw/data/generated/servs_25_agents_25/validation/generated_val_servs_25_agents_25_33',\n",
       "   'cvrptw/data/generated/servs_25_agents_25/validation/generated_val_servs_25_agents_25_34',\n",
       "   'cvrptw/data/generated/servs_25_agents_25/validation/generated_val_servs_25_agents_25_35',\n",
       "   'cvrptw/data/generated/servs_25_agents_25/validation/generated_val_servs_25_agents_25_36',\n",
       "   'cvrptw/data/generated/servs_25_agents_25/validation/generated_val_servs_25_agents_25_37',\n",
       "   'cvrptw/data/generated/servs_25_agents_25/validation/generated_val_servs_25_agents_25_38',\n",
       "   'cvrptw/data/generated/servs_25_agents_25/validation/generated_val_servs_25_agents_25_39',\n",
       "   'cvrptw/data/generated/servs_25_agents_25/validation/generated_val_servs_25_agents_25_4',\n",
       "   'cvrptw/data/generated/servs_25_agents_25/validation/generated_val_servs_25_agents_25_40',\n",
       "   'cvrptw/data/generated/servs_25_agents_25/validation/generated_val_servs_25_agents_25_41',\n",
       "   'cvrptw/data/generated/servs_25_agents_25/validation/generated_val_servs_25_agents_25_42',\n",
       "   'cvrptw/data/generated/servs_25_agents_25/validation/generated_val_servs_25_agents_25_44',\n",
       "   'cvrptw/data/generated/servs_25_agents_25/validation/generated_val_servs_25_agents_25_45',\n",
       "   'cvrptw/data/generated/servs_25_agents_25/validation/generated_val_servs_25_agents_25_46',\n",
       "   'cvrptw/data/generated/servs_25_agents_25/validation/generated_val_servs_25_agents_25_47',\n",
       "   'cvrptw/data/generated/servs_25_agents_25/validation/generated_val_servs_25_agents_25_48',\n",
       "   'cvrptw/data/generated/servs_25_agents_25/validation/generated_val_servs_25_agents_25_49',\n",
       "   'cvrptw/data/generated/servs_25_agents_25/validation/generated_val_servs_25_agents_25_5',\n",
       "   'cvrptw/data/generated/servs_25_agents_25/validation/generated_val_servs_25_agents_25_50',\n",
       "   'cvrptw/data/generated/servs_25_agents_25/validation/generated_val_servs_25_agents_25_51',\n",
       "   'cvrptw/data/generated/servs_25_agents_25/validation/generated_val_servs_25_agents_25_52',\n",
       "   'cvrptw/data/generated/servs_25_agents_25/validation/generated_val_servs_25_agents_25_53',\n",
       "   'cvrptw/data/generated/servs_25_agents_25/validation/generated_val_servs_25_agents_25_54',\n",
       "   'cvrptw/data/generated/servs_25_agents_25/validation/generated_val_servs_25_agents_25_55',\n",
       "   'cvrptw/data/generated/servs_25_agents_25/validation/generated_val_servs_25_agents_25_56',\n",
       "   'cvrptw/data/generated/servs_25_agents_25/validation/generated_val_servs_25_agents_25_57',\n",
       "   'cvrptw/data/generated/servs_25_agents_25/validation/generated_val_servs_25_agents_25_58',\n",
       "   'cvrptw/data/generated/servs_25_agents_25/validation/generated_val_servs_25_agents_25_59',\n",
       "   'cvrptw/data/generated/servs_25_agents_25/validation/generated_val_servs_25_agents_25_6',\n",
       "   'cvrptw/data/generated/servs_25_agents_25/validation/generated_val_servs_25_agents_25_60',\n",
       "   'cvrptw/data/generated/servs_25_agents_25/validation/generated_val_servs_25_agents_25_61',\n",
       "   'cvrptw/data/generated/servs_25_agents_25/validation/generated_val_servs_25_agents_25_62',\n",
       "   'cvrptw/data/generated/servs_25_agents_25/validation/generated_val_servs_25_agents_25_63',\n",
       "   'cvrptw/data/generated/servs_25_agents_25/validation/generated_val_servs_25_agents_25_7',\n",
       "   'cvrptw/data/generated/servs_25_agents_25/validation/generated_val_servs_25_agents_25_8',\n",
       "   'cvrptw/data/generated/servs_25_agents_25/validation/generated_val_servs_25_agents_25_9'],\n",
       "  'test': ['cvrptw/data/generated/servs_25_agents_25/test/generated_test_servs_25_agents_25_2',\n",
       "   'cvrptw/data/generated/servs_25_agents_25/test/generated_test_servs_25_agents_25_31',\n",
       "   'cvrptw/data/generated/servs_25_agents_25/test/generated_test_servs_25_agents_25_43',\n",
       "   'cvrptw/data/generated/servs_25_agents_25/test/generated_test_servs_25_agents_25_55',\n",
       "   'cvrptw/data/generated/servs_25_agents_25/test/generated_test_servs_25_agents_25_0',\n",
       "   'cvrptw/data/generated/servs_25_agents_25/test/generated_test_servs_25_agents_25_1',\n",
       "   'cvrptw/data/generated/servs_25_agents_25/test/generated_test_servs_25_agents_25_10',\n",
       "   'cvrptw/data/generated/servs_25_agents_25/test/generated_test_servs_25_agents_25_11',\n",
       "   'cvrptw/data/generated/servs_25_agents_25/test/generated_test_servs_25_agents_25_12',\n",
       "   'cvrptw/data/generated/servs_25_agents_25/test/generated_test_servs_25_agents_25_13',\n",
       "   'cvrptw/data/generated/servs_25_agents_25/test/generated_test_servs_25_agents_25_14',\n",
       "   'cvrptw/data/generated/servs_25_agents_25/test/generated_test_servs_25_agents_25_15',\n",
       "   'cvrptw/data/generated/servs_25_agents_25/test/generated_test_servs_25_agents_25_16',\n",
       "   'cvrptw/data/generated/servs_25_agents_25/test/generated_test_servs_25_agents_25_17',\n",
       "   'cvrptw/data/generated/servs_25_agents_25/test/generated_test_servs_25_agents_25_18',\n",
       "   'cvrptw/data/generated/servs_25_agents_25/test/generated_test_servs_25_agents_25_19',\n",
       "   'cvrptw/data/generated/servs_25_agents_25/test/generated_test_servs_25_agents_25_20',\n",
       "   'cvrptw/data/generated/servs_25_agents_25/test/generated_test_servs_25_agents_25_21',\n",
       "   'cvrptw/data/generated/servs_25_agents_25/test/generated_test_servs_25_agents_25_22',\n",
       "   'cvrptw/data/generated/servs_25_agents_25/test/generated_test_servs_25_agents_25_23',\n",
       "   'cvrptw/data/generated/servs_25_agents_25/test/generated_test_servs_25_agents_25_24',\n",
       "   'cvrptw/data/generated/servs_25_agents_25/test/generated_test_servs_25_agents_25_25',\n",
       "   'cvrptw/data/generated/servs_25_agents_25/test/generated_test_servs_25_agents_25_26',\n",
       "   'cvrptw/data/generated/servs_25_agents_25/test/generated_test_servs_25_agents_25_27',\n",
       "   'cvrptw/data/generated/servs_25_agents_25/test/generated_test_servs_25_agents_25_28',\n",
       "   'cvrptw/data/generated/servs_25_agents_25/test/generated_test_servs_25_agents_25_29',\n",
       "   'cvrptw/data/generated/servs_25_agents_25/test/generated_test_servs_25_agents_25_3',\n",
       "   'cvrptw/data/generated/servs_25_agents_25/test/generated_test_servs_25_agents_25_30',\n",
       "   'cvrptw/data/generated/servs_25_agents_25/test/generated_test_servs_25_agents_25_32',\n",
       "   'cvrptw/data/generated/servs_25_agents_25/test/generated_test_servs_25_agents_25_33',\n",
       "   'cvrptw/data/generated/servs_25_agents_25/test/generated_test_servs_25_agents_25_34',\n",
       "   'cvrptw/data/generated/servs_25_agents_25/test/generated_test_servs_25_agents_25_35',\n",
       "   'cvrptw/data/generated/servs_25_agents_25/test/generated_test_servs_25_agents_25_36',\n",
       "   'cvrptw/data/generated/servs_25_agents_25/test/generated_test_servs_25_agents_25_37',\n",
       "   'cvrptw/data/generated/servs_25_agents_25/test/generated_test_servs_25_agents_25_38',\n",
       "   'cvrptw/data/generated/servs_25_agents_25/test/generated_test_servs_25_agents_25_39',\n",
       "   'cvrptw/data/generated/servs_25_agents_25/test/generated_test_servs_25_agents_25_4',\n",
       "   'cvrptw/data/generated/servs_25_agents_25/test/generated_test_servs_25_agents_25_40',\n",
       "   'cvrptw/data/generated/servs_25_agents_25/test/generated_test_servs_25_agents_25_41',\n",
       "   'cvrptw/data/generated/servs_25_agents_25/test/generated_test_servs_25_agents_25_42',\n",
       "   'cvrptw/data/generated/servs_25_agents_25/test/generated_test_servs_25_agents_25_44',\n",
       "   'cvrptw/data/generated/servs_25_agents_25/test/generated_test_servs_25_agents_25_45',\n",
       "   'cvrptw/data/generated/servs_25_agents_25/test/generated_test_servs_25_agents_25_46',\n",
       "   'cvrptw/data/generated/servs_25_agents_25/test/generated_test_servs_25_agents_25_47',\n",
       "   'cvrptw/data/generated/servs_25_agents_25/test/generated_test_servs_25_agents_25_48',\n",
       "   'cvrptw/data/generated/servs_25_agents_25/test/generated_test_servs_25_agents_25_49',\n",
       "   'cvrptw/data/generated/servs_25_agents_25/test/generated_test_servs_25_agents_25_5',\n",
       "   'cvrptw/data/generated/servs_25_agents_25/test/generated_test_servs_25_agents_25_50',\n",
       "   'cvrptw/data/generated/servs_25_agents_25/test/generated_test_servs_25_agents_25_51',\n",
       "   'cvrptw/data/generated/servs_25_agents_25/test/generated_test_servs_25_agents_25_52',\n",
       "   'cvrptw/data/generated/servs_25_agents_25/test/generated_test_servs_25_agents_25_53',\n",
       "   'cvrptw/data/generated/servs_25_agents_25/test/generated_test_servs_25_agents_25_54',\n",
       "   'cvrptw/data/generated/servs_25_agents_25/test/generated_test_servs_25_agents_25_56',\n",
       "   'cvrptw/data/generated/servs_25_agents_25/test/generated_test_servs_25_agents_25_57',\n",
       "   'cvrptw/data/generated/servs_25_agents_25/test/generated_test_servs_25_agents_25_58',\n",
       "   'cvrptw/data/generated/servs_25_agents_25/test/generated_test_servs_25_agents_25_59',\n",
       "   'cvrptw/data/generated/servs_25_agents_25/test/generated_test_servs_25_agents_25_6',\n",
       "   'cvrptw/data/generated/servs_25_agents_25/test/generated_test_servs_25_agents_25_60',\n",
       "   'cvrptw/data/generated/servs_25_agents_25/test/generated_test_servs_25_agents_25_61',\n",
       "   'cvrptw/data/generated/servs_25_agents_25/test/generated_test_servs_25_agents_25_62',\n",
       "   'cvrptw/data/generated/servs_25_agents_25/test/generated_test_servs_25_agents_25_63',\n",
       "   'cvrptw/data/generated/servs_25_agents_25/test/generated_test_servs_25_agents_25_7',\n",
       "   'cvrptw/data/generated/servs_25_agents_25/test/generated_test_servs_25_agents_25_8',\n",
       "   'cvrptw/data/generated/servs_25_agents_25/test/generated_test_servs_25_agents_25_9']},\n",
       " 'servs_50_agents_25': {'validation': ['cvrptw/data/generated/servs_50_agents_25/validation/generated_val_servs_50_agents_25_2',\n",
       "   'cvrptw/data/generated/servs_50_agents_25/validation/generated_val_servs_50_agents_25_31',\n",
       "   'cvrptw/data/generated/servs_50_agents_25/validation/generated_val_servs_50_agents_25_43',\n",
       "   'cvrptw/data/generated/servs_50_agents_25/validation/generated_val_servs_50_agents_25_0',\n",
       "   'cvrptw/data/generated/servs_50_agents_25/validation/generated_val_servs_50_agents_25_1',\n",
       "   'cvrptw/data/generated/servs_50_agents_25/validation/generated_val_servs_50_agents_25_10',\n",
       "   'cvrptw/data/generated/servs_50_agents_25/validation/generated_val_servs_50_agents_25_11',\n",
       "   'cvrptw/data/generated/servs_50_agents_25/validation/generated_val_servs_50_agents_25_12',\n",
       "   'cvrptw/data/generated/servs_50_agents_25/validation/generated_val_servs_50_agents_25_13',\n",
       "   'cvrptw/data/generated/servs_50_agents_25/validation/generated_val_servs_50_agents_25_14',\n",
       "   'cvrptw/data/generated/servs_50_agents_25/validation/generated_val_servs_50_agents_25_15',\n",
       "   'cvrptw/data/generated/servs_50_agents_25/validation/generated_val_servs_50_agents_25_16',\n",
       "   'cvrptw/data/generated/servs_50_agents_25/validation/generated_val_servs_50_agents_25_17',\n",
       "   'cvrptw/data/generated/servs_50_agents_25/validation/generated_val_servs_50_agents_25_18',\n",
       "   'cvrptw/data/generated/servs_50_agents_25/validation/generated_val_servs_50_agents_25_19',\n",
       "   'cvrptw/data/generated/servs_50_agents_25/validation/generated_val_servs_50_agents_25_20',\n",
       "   'cvrptw/data/generated/servs_50_agents_25/validation/generated_val_servs_50_agents_25_21',\n",
       "   'cvrptw/data/generated/servs_50_agents_25/validation/generated_val_servs_50_agents_25_22',\n",
       "   'cvrptw/data/generated/servs_50_agents_25/validation/generated_val_servs_50_agents_25_23',\n",
       "   'cvrptw/data/generated/servs_50_agents_25/validation/generated_val_servs_50_agents_25_24',\n",
       "   'cvrptw/data/generated/servs_50_agents_25/validation/generated_val_servs_50_agents_25_25',\n",
       "   'cvrptw/data/generated/servs_50_agents_25/validation/generated_val_servs_50_agents_25_26',\n",
       "   'cvrptw/data/generated/servs_50_agents_25/validation/generated_val_servs_50_agents_25_27',\n",
       "   'cvrptw/data/generated/servs_50_agents_25/validation/generated_val_servs_50_agents_25_28',\n",
       "   'cvrptw/data/generated/servs_50_agents_25/validation/generated_val_servs_50_agents_25_29',\n",
       "   'cvrptw/data/generated/servs_50_agents_25/validation/generated_val_servs_50_agents_25_3',\n",
       "   'cvrptw/data/generated/servs_50_agents_25/validation/generated_val_servs_50_agents_25_30',\n",
       "   'cvrptw/data/generated/servs_50_agents_25/validation/generated_val_servs_50_agents_25_32',\n",
       "   'cvrptw/data/generated/servs_50_agents_25/validation/generated_val_servs_50_agents_25_33',\n",
       "   'cvrptw/data/generated/servs_50_agents_25/validation/generated_val_servs_50_agents_25_34',\n",
       "   'cvrptw/data/generated/servs_50_agents_25/validation/generated_val_servs_50_agents_25_35',\n",
       "   'cvrptw/data/generated/servs_50_agents_25/validation/generated_val_servs_50_agents_25_36',\n",
       "   'cvrptw/data/generated/servs_50_agents_25/validation/generated_val_servs_50_agents_25_37',\n",
       "   'cvrptw/data/generated/servs_50_agents_25/validation/generated_val_servs_50_agents_25_38',\n",
       "   'cvrptw/data/generated/servs_50_agents_25/validation/generated_val_servs_50_agents_25_39',\n",
       "   'cvrptw/data/generated/servs_50_agents_25/validation/generated_val_servs_50_agents_25_4',\n",
       "   'cvrptw/data/generated/servs_50_agents_25/validation/generated_val_servs_50_agents_25_40',\n",
       "   'cvrptw/data/generated/servs_50_agents_25/validation/generated_val_servs_50_agents_25_41',\n",
       "   'cvrptw/data/generated/servs_50_agents_25/validation/generated_val_servs_50_agents_25_42',\n",
       "   'cvrptw/data/generated/servs_50_agents_25/validation/generated_val_servs_50_agents_25_44',\n",
       "   'cvrptw/data/generated/servs_50_agents_25/validation/generated_val_servs_50_agents_25_45',\n",
       "   'cvrptw/data/generated/servs_50_agents_25/validation/generated_val_servs_50_agents_25_46',\n",
       "   'cvrptw/data/generated/servs_50_agents_25/validation/generated_val_servs_50_agents_25_47',\n",
       "   'cvrptw/data/generated/servs_50_agents_25/validation/generated_val_servs_50_agents_25_48',\n",
       "   'cvrptw/data/generated/servs_50_agents_25/validation/generated_val_servs_50_agents_25_49',\n",
       "   'cvrptw/data/generated/servs_50_agents_25/validation/generated_val_servs_50_agents_25_5',\n",
       "   'cvrptw/data/generated/servs_50_agents_25/validation/generated_val_servs_50_agents_25_50',\n",
       "   'cvrptw/data/generated/servs_50_agents_25/validation/generated_val_servs_50_agents_25_51',\n",
       "   'cvrptw/data/generated/servs_50_agents_25/validation/generated_val_servs_50_agents_25_52',\n",
       "   'cvrptw/data/generated/servs_50_agents_25/validation/generated_val_servs_50_agents_25_53',\n",
       "   'cvrptw/data/generated/servs_50_agents_25/validation/generated_val_servs_50_agents_25_54',\n",
       "   'cvrptw/data/generated/servs_50_agents_25/validation/generated_val_servs_50_agents_25_55',\n",
       "   'cvrptw/data/generated/servs_50_agents_25/validation/generated_val_servs_50_agents_25_56',\n",
       "   'cvrptw/data/generated/servs_50_agents_25/validation/generated_val_servs_50_agents_25_57',\n",
       "   'cvrptw/data/generated/servs_50_agents_25/validation/generated_val_servs_50_agents_25_58',\n",
       "   'cvrptw/data/generated/servs_50_agents_25/validation/generated_val_servs_50_agents_25_59',\n",
       "   'cvrptw/data/generated/servs_50_agents_25/validation/generated_val_servs_50_agents_25_6',\n",
       "   'cvrptw/data/generated/servs_50_agents_25/validation/generated_val_servs_50_agents_25_60',\n",
       "   'cvrptw/data/generated/servs_50_agents_25/validation/generated_val_servs_50_agents_25_61',\n",
       "   'cvrptw/data/generated/servs_50_agents_25/validation/generated_val_servs_50_agents_25_62',\n",
       "   'cvrptw/data/generated/servs_50_agents_25/validation/generated_val_servs_50_agents_25_63',\n",
       "   'cvrptw/data/generated/servs_50_agents_25/validation/generated_val_servs_50_agents_25_7',\n",
       "   'cvrptw/data/generated/servs_50_agents_25/validation/generated_val_servs_50_agents_25_8',\n",
       "   'cvrptw/data/generated/servs_50_agents_25/validation/generated_val_servs_50_agents_25_9'],\n",
       "  'test': ['cvrptw/data/generated/servs_50_agents_25/test/generated_test_servs_50_agents_25_2',\n",
       "   'cvrptw/data/generated/servs_50_agents_25/test/generated_test_servs_50_agents_25_31',\n",
       "   'cvrptw/data/generated/servs_50_agents_25/test/generated_test_servs_50_agents_25_43',\n",
       "   'cvrptw/data/generated/servs_50_agents_25/test/generated_test_servs_50_agents_25_55',\n",
       "   'cvrptw/data/generated/servs_50_agents_25/test/generated_test_servs_50_agents_25_0',\n",
       "   'cvrptw/data/generated/servs_50_agents_25/test/generated_test_servs_50_agents_25_1',\n",
       "   'cvrptw/data/generated/servs_50_agents_25/test/generated_test_servs_50_agents_25_10',\n",
       "   'cvrptw/data/generated/servs_50_agents_25/test/generated_test_servs_50_agents_25_11',\n",
       "   'cvrptw/data/generated/servs_50_agents_25/test/generated_test_servs_50_agents_25_12',\n",
       "   'cvrptw/data/generated/servs_50_agents_25/test/generated_test_servs_50_agents_25_13',\n",
       "   'cvrptw/data/generated/servs_50_agents_25/test/generated_test_servs_50_agents_25_14',\n",
       "   'cvrptw/data/generated/servs_50_agents_25/test/generated_test_servs_50_agents_25_15',\n",
       "   'cvrptw/data/generated/servs_50_agents_25/test/generated_test_servs_50_agents_25_16',\n",
       "   'cvrptw/data/generated/servs_50_agents_25/test/generated_test_servs_50_agents_25_17',\n",
       "   'cvrptw/data/generated/servs_50_agents_25/test/generated_test_servs_50_agents_25_18',\n",
       "   'cvrptw/data/generated/servs_50_agents_25/test/generated_test_servs_50_agents_25_19',\n",
       "   'cvrptw/data/generated/servs_50_agents_25/test/generated_test_servs_50_agents_25_20',\n",
       "   'cvrptw/data/generated/servs_50_agents_25/test/generated_test_servs_50_agents_25_21',\n",
       "   'cvrptw/data/generated/servs_50_agents_25/test/generated_test_servs_50_agents_25_22',\n",
       "   'cvrptw/data/generated/servs_50_agents_25/test/generated_test_servs_50_agents_25_23',\n",
       "   'cvrptw/data/generated/servs_50_agents_25/test/generated_test_servs_50_agents_25_24',\n",
       "   'cvrptw/data/generated/servs_50_agents_25/test/generated_test_servs_50_agents_25_25',\n",
       "   'cvrptw/data/generated/servs_50_agents_25/test/generated_test_servs_50_agents_25_26',\n",
       "   'cvrptw/data/generated/servs_50_agents_25/test/generated_test_servs_50_agents_25_27',\n",
       "   'cvrptw/data/generated/servs_50_agents_25/test/generated_test_servs_50_agents_25_28',\n",
       "   'cvrptw/data/generated/servs_50_agents_25/test/generated_test_servs_50_agents_25_29',\n",
       "   'cvrptw/data/generated/servs_50_agents_25/test/generated_test_servs_50_agents_25_3',\n",
       "   'cvrptw/data/generated/servs_50_agents_25/test/generated_test_servs_50_agents_25_30',\n",
       "   'cvrptw/data/generated/servs_50_agents_25/test/generated_test_servs_50_agents_25_32',\n",
       "   'cvrptw/data/generated/servs_50_agents_25/test/generated_test_servs_50_agents_25_33',\n",
       "   'cvrptw/data/generated/servs_50_agents_25/test/generated_test_servs_50_agents_25_34',\n",
       "   'cvrptw/data/generated/servs_50_agents_25/test/generated_test_servs_50_agents_25_35',\n",
       "   'cvrptw/data/generated/servs_50_agents_25/test/generated_test_servs_50_agents_25_36',\n",
       "   'cvrptw/data/generated/servs_50_agents_25/test/generated_test_servs_50_agents_25_37',\n",
       "   'cvrptw/data/generated/servs_50_agents_25/test/generated_test_servs_50_agents_25_38',\n",
       "   'cvrptw/data/generated/servs_50_agents_25/test/generated_test_servs_50_agents_25_39',\n",
       "   'cvrptw/data/generated/servs_50_agents_25/test/generated_test_servs_50_agents_25_4',\n",
       "   'cvrptw/data/generated/servs_50_agents_25/test/generated_test_servs_50_agents_25_40',\n",
       "   'cvrptw/data/generated/servs_50_agents_25/test/generated_test_servs_50_agents_25_41',\n",
       "   'cvrptw/data/generated/servs_50_agents_25/test/generated_test_servs_50_agents_25_42',\n",
       "   'cvrptw/data/generated/servs_50_agents_25/test/generated_test_servs_50_agents_25_44',\n",
       "   'cvrptw/data/generated/servs_50_agents_25/test/generated_test_servs_50_agents_25_45',\n",
       "   'cvrptw/data/generated/servs_50_agents_25/test/generated_test_servs_50_agents_25_46',\n",
       "   'cvrptw/data/generated/servs_50_agents_25/test/generated_test_servs_50_agents_25_47',\n",
       "   'cvrptw/data/generated/servs_50_agents_25/test/generated_test_servs_50_agents_25_48',\n",
       "   'cvrptw/data/generated/servs_50_agents_25/test/generated_test_servs_50_agents_25_49',\n",
       "   'cvrptw/data/generated/servs_50_agents_25/test/generated_test_servs_50_agents_25_5',\n",
       "   'cvrptw/data/generated/servs_50_agents_25/test/generated_test_servs_50_agents_25_50',\n",
       "   'cvrptw/data/generated/servs_50_agents_25/test/generated_test_servs_50_agents_25_51',\n",
       "   'cvrptw/data/generated/servs_50_agents_25/test/generated_test_servs_50_agents_25_52',\n",
       "   'cvrptw/data/generated/servs_50_agents_25/test/generated_test_servs_50_agents_25_53',\n",
       "   'cvrptw/data/generated/servs_50_agents_25/test/generated_test_servs_50_agents_25_54',\n",
       "   'cvrptw/data/generated/servs_50_agents_25/test/generated_test_servs_50_agents_25_56',\n",
       "   'cvrptw/data/generated/servs_50_agents_25/test/generated_test_servs_50_agents_25_57',\n",
       "   'cvrptw/data/generated/servs_50_agents_25/test/generated_test_servs_50_agents_25_58',\n",
       "   'cvrptw/data/generated/servs_50_agents_25/test/generated_test_servs_50_agents_25_59',\n",
       "   'cvrptw/data/generated/servs_50_agents_25/test/generated_test_servs_50_agents_25_6',\n",
       "   'cvrptw/data/generated/servs_50_agents_25/test/generated_test_servs_50_agents_25_60',\n",
       "   'cvrptw/data/generated/servs_50_agents_25/test/generated_test_servs_50_agents_25_61',\n",
       "   'cvrptw/data/generated/servs_50_agents_25/test/generated_test_servs_50_agents_25_62',\n",
       "   'cvrptw/data/generated/servs_50_agents_25/test/generated_test_servs_50_agents_25_63',\n",
       "   'cvrptw/data/generated/servs_50_agents_25/test/generated_test_servs_50_agents_25_7',\n",
       "   'cvrptw/data/generated/servs_50_agents_25/test/generated_test_servs_50_agents_25_8',\n",
       "   'cvrptw/data/generated/servs_50_agents_25/test/generated_test_servs_50_agents_25_9']}}"
      ]
     },
     "execution_count": 18,
     "metadata": {},
     "output_type": "execute_result"
    }
   ],
   "source": [
    "generator.get_list_of_benchmark_instances()"
   ]
  },
  {
   "cell_type": "code",
   "execution_count": 19,
   "id": "9e681fd5",
   "metadata": {},
   "outputs": [],
   "source": [
    "set_of_instances = set(generator.get_list_of_benchmark_instances()['servs_100_agents_25']['validation'])"
   ]
  },
  {
   "cell_type": "code",
   "execution_count": 20,
   "id": "4e82737b",
   "metadata": {},
   "outputs": [],
   "source": [
    "generator = InstanceGenerator(instance_type='validation', set_of_instances=set_of_instances)"
   ]
  },
  {
   "cell_type": "code",
   "execution_count": 21,
   "id": "4b15974d",
   "metadata": {},
   "outputs": [],
   "source": [
    "instance = generator.sample_instance()"
   ]
  },
  {
   "cell_type": "markdown",
   "id": "2badb78b",
   "metadata": {},
   "source": [
    "Let's check instance dict keys:"
   ]
  },
  {
   "cell_type": "code",
   "execution_count": 22,
   "id": "a2a1c474",
   "metadata": {},
   "outputs": [
    {
     "data": {
      "text/plain": [
       "dict_keys(['name', 'num_nodes', 'num_agents', 'data'])"
      ]
     },
     "execution_count": 22,
     "metadata": {},
     "output_type": "execute_result"
    }
   ],
   "source": [
    "instance.keys()"
   ]
  },
  {
   "cell_type": "code",
   "execution_count": 23,
   "id": "2b966652",
   "metadata": {},
   "outputs": [
    {
     "data": {
      "text/plain": [
       "'random_instance'"
      ]
     },
     "execution_count": 23,
     "metadata": {},
     "output_type": "execute_result"
    }
   ],
   "source": [
    "instance['name']"
   ]
  },
  {
   "cell_type": "markdown",
   "id": "ab722ca0",
   "metadata": {},
   "source": [
    "#### Benchmark instances"
   ]
  },
  {
   "cell_type": "markdown",
   "id": "b9de3909",
   "metadata": {},
   "source": [
    "In order to narrow the current gap between the test beds for algorithm benchmarking used in RL\n",
    "and OR communities, the library allows a straightforward integration of classical OR benchmark\n",
    "instances. For example, we can load a set of classical benchmark instances. Let's see what benchmark instances we have for the CVPTW:"
   ]
  },
  {
   "cell_type": "code",
   "execution_count": 24,
   "id": "36ae69eb",
   "metadata": {},
   "outputs": [
    {
     "data": {
      "text/plain": [
       "{'Solomon': ['R103',\n",
       "  'C101',\n",
       "  'C102',\n",
       "  'C103',\n",
       "  'C104',\n",
       "  'C105',\n",
       "  'C106',\n",
       "  'C107',\n",
       "  'C108',\n",
       "  'C109',\n",
       "  'C201',\n",
       "  'C202',\n",
       "  'C203',\n",
       "  'C204',\n",
       "  'C205',\n",
       "  'C206',\n",
       "  'C207',\n",
       "  'C208',\n",
       "  'R101',\n",
       "  'R102',\n",
       "  'R104',\n",
       "  'R105',\n",
       "  'R106',\n",
       "  'R107',\n",
       "  'R108',\n",
       "  'R109',\n",
       "  'R110',\n",
       "  'R111',\n",
       "  'R112',\n",
       "  'R201',\n",
       "  'R202',\n",
       "  'R203',\n",
       "  'R204',\n",
       "  'R205',\n",
       "  'R206',\n",
       "  'R207',\n",
       "  'R208',\n",
       "  'R209',\n",
       "  'R210',\n",
       "  'R211',\n",
       "  'RC101',\n",
       "  'RC102',\n",
       "  'RC103',\n",
       "  'RC104',\n",
       "  'RC105',\n",
       "  'RC106',\n",
       "  'RC107',\n",
       "  'RC108',\n",
       "  'RC201',\n",
       "  'RC202',\n",
       "  'RC203',\n",
       "  'RC204',\n",
       "  'RC205',\n",
       "  'RC206',\n",
       "  'RC207',\n",
       "  'RC208'],\n",
       " 'Homberger': ['C1_10_1',\n",
       "  'C1_10_10',\n",
       "  'C1_10_2',\n",
       "  'C1_10_3',\n",
       "  'C1_10_4',\n",
       "  'C1_10_5',\n",
       "  'C1_10_6',\n",
       "  'C1_10_7',\n",
       "  'C1_10_8',\n",
       "  'C1_10_9',\n",
       "  'C1_2_1',\n",
       "  'C1_2_10',\n",
       "  'C1_2_2',\n",
       "  'C1_2_3',\n",
       "  'C1_2_4',\n",
       "  'C1_2_5',\n",
       "  'C1_2_6',\n",
       "  'C1_2_7',\n",
       "  'C1_2_8',\n",
       "  'C1_4_1',\n",
       "  'C1_4_10',\n",
       "  'C1_4_2',\n",
       "  'C1_4_3',\n",
       "  'C1_4_4',\n",
       "  'C1_4_5',\n",
       "  'C1_4_6',\n",
       "  'C1_4_7',\n",
       "  'C1_4_8',\n",
       "  'C1_4_9',\n",
       "  'C1_6_1',\n",
       "  'C1_6_10',\n",
       "  'C1_6_2',\n",
       "  'C1_6_3',\n",
       "  'C1_6_4',\n",
       "  'C1_6_5',\n",
       "  'C1_6_6',\n",
       "  'C1_6_7',\n",
       "  'C1_6_8',\n",
       "  'C1_8_1',\n",
       "  'C1_8_10',\n",
       "  'C1_8_2',\n",
       "  'C1_8_3',\n",
       "  'C1_8_4',\n",
       "  'C1_8_5',\n",
       "  'C1_8_6',\n",
       "  'C1_8_7',\n",
       "  'C1_8_8',\n",
       "  'C1_8_9',\n",
       "  'C2_10_1',\n",
       "  'C2_10_10',\n",
       "  'C2_10_2',\n",
       "  'C2_10_3',\n",
       "  'C2_10_4',\n",
       "  'C2_10_5',\n",
       "  'C2_10_6',\n",
       "  'C2_10_7',\n",
       "  'C2_10_8',\n",
       "  'C2_2_1',\n",
       "  'C2_2_10',\n",
       "  'C2_2_2',\n",
       "  'C2_2_3',\n",
       "  'C2_2_4',\n",
       "  'C2_2_5',\n",
       "  'C2_2_6',\n",
       "  'C2_2_7',\n",
       "  'C2_2_8',\n",
       "  'C2_2_9',\n",
       "  'C2_4_1',\n",
       "  'C2_4_10',\n",
       "  'C2_4_2',\n",
       "  'C2_4_3',\n",
       "  'C2_4_4',\n",
       "  'C2_4_5',\n",
       "  'C2_4_6',\n",
       "  'C2_4_7',\n",
       "  'C2_4_8',\n",
       "  'C2_6_1',\n",
       "  'C2_6_10',\n",
       "  'C2_6_2',\n",
       "  'C2_6_3',\n",
       "  'C2_6_4',\n",
       "  'C2_6_5',\n",
       "  'C2_6_6',\n",
       "  'C2_6_7',\n",
       "  'C2_6_8',\n",
       "  'C2_6_9',\n",
       "  'C2_8_1',\n",
       "  'C2_8_10',\n",
       "  'C2_8_2',\n",
       "  'C2_8_3',\n",
       "  'C2_8_4',\n",
       "  'C2_8_5',\n",
       "  'C2_8_6',\n",
       "  'C2_8_7',\n",
       "  'C2_8_8',\n",
       "  'C1_2_9',\n",
       "  'C1_6_9',\n",
       "  'C2_10_9',\n",
       "  'C2_4_9',\n",
       "  'C2_8_9',\n",
       "  'R1_2_9',\n",
       "  'R1_6_9',\n",
       "  'R2_10_9',\n",
       "  'R2_4_9',\n",
       "  'R2_8_8',\n",
       "  'RC1_2_7',\n",
       "  'RC1_6_6',\n",
       "  'RC2_10_5',\n",
       "  'RC2_4_5',\n",
       "  'R1_10_1',\n",
       "  'R1_10_10',\n",
       "  'R1_10_2',\n",
       "  'R1_10_3',\n",
       "  'R1_10_4',\n",
       "  'R1_10_5',\n",
       "  'R1_10_6',\n",
       "  'R1_10_7',\n",
       "  'R1_10_8',\n",
       "  'R1_10_9',\n",
       "  'R1_2_1',\n",
       "  'R1_2_10',\n",
       "  'R1_2_2',\n",
       "  'R1_2_3',\n",
       "  'R1_2_4',\n",
       "  'R1_2_5',\n",
       "  'R1_2_6',\n",
       "  'R1_2_7',\n",
       "  'R1_2_8',\n",
       "  'R1_4_1',\n",
       "  'R1_4_10',\n",
       "  'R1_4_2',\n",
       "  'R1_4_3',\n",
       "  'R1_4_4',\n",
       "  'R1_4_5',\n",
       "  'R1_4_6',\n",
       "  'R1_4_7',\n",
       "  'R1_4_8',\n",
       "  'R1_4_9',\n",
       "  'R1_6_1',\n",
       "  'R1_6_10',\n",
       "  'R1_6_2',\n",
       "  'R1_6_3',\n",
       "  'R1_6_4',\n",
       "  'R1_6_5',\n",
       "  'R1_6_6',\n",
       "  'R1_6_7',\n",
       "  'R1_6_8',\n",
       "  'R1_8_1',\n",
       "  'R1_8_10',\n",
       "  'R1_8_2',\n",
       "  'R1_8_3',\n",
       "  'R1_8_4',\n",
       "  'R1_8_5',\n",
       "  'R1_8_6',\n",
       "  'R1_8_7',\n",
       "  'R1_8_8',\n",
       "  'R1_8_9',\n",
       "  'R2_10_1',\n",
       "  'R2_10_10',\n",
       "  'R2_10_2',\n",
       "  'R2_10_3',\n",
       "  'R2_10_4',\n",
       "  'R2_10_5',\n",
       "  'R2_10_6',\n",
       "  'R2_10_7',\n",
       "  'R2_10_8',\n",
       "  'R2_2_1',\n",
       "  'R2_2_10',\n",
       "  'R2_2_2',\n",
       "  'R2_2_3',\n",
       "  'R2_2_4',\n",
       "  'R2_2_5',\n",
       "  'R2_2_6',\n",
       "  'R2_2_7',\n",
       "  'R2_2_8',\n",
       "  'R2_2_9',\n",
       "  'R2_4_1',\n",
       "  'R2_4_10',\n",
       "  'R2_4_2',\n",
       "  'R2_4_3',\n",
       "  'R2_4_4',\n",
       "  'R2_4_5',\n",
       "  'R2_4_6',\n",
       "  'R2_4_7',\n",
       "  'R2_4_8',\n",
       "  'R2_6_1',\n",
       "  'R2_6_10',\n",
       "  'R2_6_2',\n",
       "  'R2_6_3',\n",
       "  'R2_6_4',\n",
       "  'R2_6_5',\n",
       "  'R2_6_6',\n",
       "  'R2_6_7',\n",
       "  'R2_6_8',\n",
       "  'R2_6_9',\n",
       "  'R2_8_1',\n",
       "  'R2_8_10',\n",
       "  'R2_8_2',\n",
       "  'R2_8_3',\n",
       "  'R2_8_4',\n",
       "  'R2_8_5',\n",
       "  'R2_8_6',\n",
       "  'R2_8_7',\n",
       "  'R2_8_9',\n",
       "  'RC1_10_1',\n",
       "  'RC1_10_10',\n",
       "  'RC1_10_2',\n",
       "  'RC1_10_3',\n",
       "  'RC1_10_4',\n",
       "  'RC1_10_5',\n",
       "  'RC1_10_6',\n",
       "  'RC1_10_7',\n",
       "  'RC1_10_8',\n",
       "  'RC1_10_9',\n",
       "  'RC1_2_1',\n",
       "  'RC1_2_10',\n",
       "  'RC1_2_2',\n",
       "  'RC1_2_3',\n",
       "  'RC1_2_4',\n",
       "  'RC1_2_5',\n",
       "  'RC1_2_6',\n",
       "  'RC1_2_8',\n",
       "  'RC1_2_9',\n",
       "  'RC1_4_1',\n",
       "  'RC1_4_10',\n",
       "  'RC1_4_2',\n",
       "  'RC1_4_3',\n",
       "  'RC1_4_4',\n",
       "  'RC1_4_5',\n",
       "  'RC1_4_6',\n",
       "  'RC1_4_7',\n",
       "  'RC1_4_8',\n",
       "  'RC1_4_9',\n",
       "  'RC1_6_1',\n",
       "  'RC1_6_10',\n",
       "  'RC1_6_2',\n",
       "  'RC1_6_3',\n",
       "  'RC1_6_4',\n",
       "  'RC1_6_5',\n",
       "  'RC1_6_7',\n",
       "  'RC1_6_8',\n",
       "  'RC1_6_9',\n",
       "  'RC1_8_1',\n",
       "  'RC1_8_10',\n",
       "  'RC1_8_2',\n",
       "  'RC1_8_3',\n",
       "  'RC1_8_4',\n",
       "  'RC1_8_5',\n",
       "  'RC1_8_6',\n",
       "  'RC1_8_7',\n",
       "  'RC1_8_8',\n",
       "  'RC1_8_9',\n",
       "  'RC2_10_1',\n",
       "  'RC2_10_10',\n",
       "  'RC2_10_2',\n",
       "  'RC2_10_3',\n",
       "  'RC2_10_4',\n",
       "  'RC2_10_6',\n",
       "  'RC2_10_7',\n",
       "  'RC2_10_8',\n",
       "  'RC2_10_9',\n",
       "  'RC2_2_1',\n",
       "  'RC2_2_10',\n",
       "  'RC2_2_2',\n",
       "  'RC2_2_3',\n",
       "  'RC2_2_4',\n",
       "  'RC2_2_5',\n",
       "  'RC2_2_6',\n",
       "  'RC2_2_7',\n",
       "  'RC2_2_8',\n",
       "  'RC2_2_9',\n",
       "  'RC2_4_1',\n",
       "  'RC2_4_10',\n",
       "  'RC2_4_2',\n",
       "  'RC2_4_3',\n",
       "  'RC2_4_4',\n",
       "  'RC2_4_6',\n",
       "  'RC2_4_7',\n",
       "  'RC2_4_8',\n",
       "  'RC2_4_9',\n",
       "  'RC2_6_1',\n",
       "  'RC2_6_10',\n",
       "  'RC2_6_2',\n",
       "  'RC2_6_3',\n",
       "  'RC2_6_4',\n",
       "  'RC2_6_5',\n",
       "  'RC2_6_6',\n",
       "  'RC2_6_7',\n",
       "  'RC2_6_8',\n",
       "  'RC2_6_9',\n",
       "  'RC2_8_1',\n",
       "  'RC2_8_10',\n",
       "  'RC2_8_2',\n",
       "  'RC2_8_3',\n",
       "  'RC2_8_4',\n",
       "  'RC2_8_5',\n",
       "  'RC2_8_6',\n",
       "  'RC2_8_7',\n",
       "  'RC2_8_8',\n",
       "  'RC2_8_9']}"
      ]
     },
     "execution_count": 24,
     "metadata": {},
     "output_type": "execute_result"
    }
   ],
   "source": [
    "BenchmarkInstanceGenerator.get_list_of_benchmark_instances()"
   ]
  },
  {
   "cell_type": "markdown",
   "id": "408dbea3",
   "metadata": {},
   "source": [
    "Ok! Now we instanciate the `generator` selection two of them:"
   ]
  },
  {
   "cell_type": "code",
   "execution_count": 25,
   "id": "6eeb80cd",
   "metadata": {},
   "outputs": [],
   "source": [
    "generator = BenchmarkInstanceGenerator(instance_type='Solomon', set_of_instances={'C101', 'C102'})"
   ]
  },
  {
   "cell_type": "code",
   "execution_count": 26,
   "id": "5e60b5cc",
   "metadata": {},
   "outputs": [],
   "source": [
    "instance_c101 = generator.get_instance('C101')"
   ]
  },
  {
   "cell_type": "code",
   "execution_count": 27,
   "id": "a88f3734-5004-4f14-8844-edba4a70797b",
   "metadata": {},
   "outputs": [
    {
     "data": {
      "image/png": "[encoded data removed]",
      "text/plain": [
       "<Figure size 500x500 with 1 Axes>"
      ]
     },
     "metadata": {},
     "output_type": "display_data"
    }
   ],
   "source": [
    "plot_instance_coords(instance_c101,\n",
    "                     annotate=False,\n",
    "                     point_size=20)"
   ]
  },
  {
   "cell_type": "code",
   "execution_count": 28,
   "id": "0b4f50cc",
   "metadata": {},
   "outputs": [
    {
     "data": {
      "text/plain": [
       "dict_keys(['name', 'num_agents', 'num_nodes', 'data', 'n_digits'])"
      ]
     },
     "execution_count": 28,
     "metadata": {},
     "output_type": "execute_result"
    }
   ],
   "source": [
    "instance_c101.keys()"
   ]
  },
  {
   "cell_type": "code",
   "execution_count": 29,
   "id": "9ae8ce78",
   "metadata": {},
   "outputs": [
    {
     "data": {
      "text/plain": [
       "'C101'"
      ]
     },
     "execution_count": 29,
     "metadata": {},
     "output_type": "execute_result"
    }
   ],
   "source": [
    "instance_c101['name']"
   ]
  },
  {
   "cell_type": "code",
   "execution_count": 30,
   "id": "7e5ae8ea",
   "metadata": {},
   "outputs": [
    {
     "data": {
      "text/plain": [
       "25"
      ]
     },
     "execution_count": 30,
     "metadata": {},
     "output_type": "execute_result"
    }
   ],
   "source": [
    "instance_c101['num_agents']"
   ]
  },
  {
   "cell_type": "code",
   "execution_count": 31,
   "id": "4bf290c6",
   "metadata": {},
   "outputs": [
    {
     "data": {
      "text/plain": [
       "101"
      ]
     },
     "execution_count": 31,
     "metadata": {},
     "output_type": "execute_result"
    }
   ],
   "source": [
    "instance_c101['num_nodes']"
   ]
  },
  {
   "cell_type": "markdown",
   "id": "44070687",
   "metadata": {},
   "source": [
    "By customizing the arguments of the `.sample_instance` method, you can generate a **sub-instance** from the original environment instance. \n",
    "\n",
    "This allows for flexible scenario creation by selecting only a subset of nodes, which is particularly useful for testing, debugging, or curriculum learning setups."
   ]
  },
  {
   "cell_type": "code",
   "execution_count": 32,
   "id": "81e34566",
   "metadata": {},
   "outputs": [],
   "source": [
    "instance = generator.sample_instance(num_agents=3, num_nodes=8)"
   ]
  },
  {
   "cell_type": "code",
   "execution_count": 35,
   "id": "364121a5-2731-4148-bb9c-1549a1419162",
   "metadata": {},
   "outputs": [
    {
     "data": {
      "image/png": "[encoded data removed]",
      "text/plain": [
       "<Figure size 500x500 with 1 Axes>"
      ]
     },
     "metadata": {},
     "output_type": "display_data"
    }
   ],
   "source": [
    "plot_instance_coords(instance,\n",
    "                     annotate=False,\n",
    "                     point_size=20)"
   ]
  },
  {
   "cell_type": "code",
   "execution_count": 33,
   "id": "ffe50e65",
   "metadata": {},
   "outputs": [
    {
     "data": {
      "text/plain": [
       "'C101_samp'"
      ]
     },
     "execution_count": 33,
     "metadata": {},
     "output_type": "execute_result"
    }
   ],
   "source": [
    "instance['name']"
   ]
  },
  {
   "cell_type": "code",
   "execution_count": 34,
   "id": "c2c05616",
   "metadata": {},
   "outputs": [
    {
     "data": {
      "text/plain": [
       "3"
      ]
     },
     "execution_count": 34,
     "metadata": {},
     "output_type": "execute_result"
    }
   ],
   "source": [
    "instance['num_agents']"
   ]
  },
  {
   "cell_type": "code",
   "execution_count": null,
   "id": "0175b9df",
   "metadata": {},
   "outputs": [],
   "source": [
    "instance['num_nodes']"
   ]
  },
  {
   "cell_type": "markdown",
   "id": "f821778f",
   "metadata": {},
   "source": [
    " For the **CVRPTW** environment, setting `sample_type=None` will sample the first `n` service nodes from the instance. \n",
    "\n",
    "This approach follows the standard practice in Solomon benchmark datasets, where problem instances are defined by selecting the first `n` customers. For more details on this format, refer to the [Transportation Optimization Portal](https://www.sintef.no/projectweb/top/vrptw).\n"
   ]
  },
  {
   "cell_type": "code",
   "execution_count": 38,
   "id": "88b8cf3b",
   "metadata": {},
   "outputs": [],
   "source": [
    "instance = generator.sample_instance(num_agents=3, num_nodes=8, sample_type=None)"
   ]
  },
  {
   "cell_type": "code",
   "execution_count": 39,
   "id": "91c39b4e",
   "metadata": {},
   "outputs": [
    {
     "data": {
      "text/plain": [
       "'C101_samp'"
      ]
     },
     "execution_count": 39,
     "metadata": {},
     "output_type": "execute_result"
    }
   ],
   "source": [
    "instance['name']"
   ]
  },
  {
   "cell_type": "markdown",
   "id": "3cb2a1dd",
   "metadata": {},
   "source": [
    "###  Obervations"
   ]
  },
  {
   "cell_type": "markdown",
   "id": "a68f56b8",
   "metadata": {},
   "source": [
    "Observation features, which are made available to the active agent during its interaction with the environment, are handled by the `Observations` class. \n",
    "\n",
    "This class is responsible for defining what information the agent receives at each decision step, allowing for flexible customization of the observation space to suit different problem settings or learning strategies."
   ]
  },
  {
   "cell_type": "code",
   "execution_count": 40,
   "id": "0a15a1e8",
   "metadata": {},
   "outputs": [],
   "source": [
    "from maenvs4vrp.environments.cvrptw.observations import Observations"
   ]
  },
  {
   "cell_type": "code",
   "execution_count": 41,
   "id": "d32d1074",
   "metadata": {},
   "outputs": [],
   "source": [
    "obs = Observations()"
   ]
  },
  {
   "cell_type": "markdown",
   "id": "994e4b04",
   "metadata": {},
   "source": [
    "The class has a `default_feature_list` attribute where the default configuration dictionary is defined."
   ]
  },
  {
   "cell_type": "code",
   "execution_count": 42,
   "id": "23ccc7e0",
   "metadata": {},
   "outputs": [
    {
     "data": {
      "text/plain": [
       "{'nodes_static': {'x_coordinate': {'feat': 'x_coordinate', 'norm': None},\n",
       "  'y_coordinate': {'feat': 'y_coordinate', 'norm': None},\n",
       "  'tw_low': {'feat': 'tw_low', 'norm': None},\n",
       "  'tw_high': {'feat': 'tw_high', 'norm': None},\n",
       "  'demand': {'feat': 'demand', 'norm': None},\n",
       "  'service_time': {'feat': 'service_time', 'norm': 'min_max'},\n",
       "  'is_depot': {'feat': 'is_depot', 'norm': None}},\n",
       " 'nodes_dynamic': ['time2open_div_end_time',\n",
       "  'time2close_div_end_time',\n",
       "  'arrive2node_div_end_time',\n",
       "  'time2open_after_step_div_end_time',\n",
       "  'time2close_after_step_div_end_time',\n",
       "  'time2end_after_step_div_end_time',\n",
       "  'fract_time_after_step_div_end_time',\n",
       "  'reachable_frac_agents'],\n",
       " 'agent': ['x_coordinate',\n",
       "  'y_coordinate',\n",
       "  'frac_current_time',\n",
       "  'frac_current_load',\n",
       "  'arrivedepot_div_end_time',\n",
       "  'frac_feasible_nodes'],\n",
       " 'other_agents': ['x_coordinate',\n",
       "  'y_coordinate',\n",
       "  'frac_current_time',\n",
       "  'frac_current_load',\n",
       "  'frac_feasible_nodes',\n",
       "  'dist2agent_div_end_time',\n",
       "  'time_delta2agent_div_max_dur',\n",
       "  'was_last'],\n",
       " 'global': ['frac_fleet_load_capacity', 'frac_done_agents']}"
      ]
     },
     "execution_count": 42,
     "metadata": {},
     "output_type": "execute_result"
    }
   ],
   "source": [
    "obs.default_feature_list"
   ]
  },
  {
   "cell_type": "markdown",
   "id": "41cec072",
   "metadata": {},
   "source": [
    "Also, five possible features lists exist, detailing the available features in the class: `POSSIBLE_NODES_STATIC_FEATURES`, `POSSIBLE_NODES_DYNAMIC_FEATURES`, `POSSIBLE_SELF_FEATURES`, `POSSIBLE_AGENTS_FEATURES`, `POSSIBLE_GLOBAL_FEATURES`. For example:"
   ]
  },
  {
   "cell_type": "code",
   "execution_count": 43,
   "id": "77a3cb17",
   "metadata": {},
   "outputs": [
    {
     "data": {
      "text/plain": [
       "['x_coordinate',\n",
       " 'y_coordinate',\n",
       " 'tw_low',\n",
       " 'tw_high',\n",
       " 'demand',\n",
       " 'service_time',\n",
       " 'tw_high_minus_tw_low_div_max_dur',\n",
       " 'x_coordinate_min_max',\n",
       " 'y_coordinate_min_max',\n",
       " 'is_depot']"
      ]
     },
     "execution_count": 43,
     "metadata": {},
     "output_type": "execute_result"
    }
   ],
   "source": [
    "obs.POSSIBLE_NODES_STATIC_FEATURES"
   ]
  },
  {
   "cell_type": "code",
   "execution_count": 44,
   "id": "7b9b2465",
   "metadata": {},
   "outputs": [
    {
     "data": {
      "text/plain": [
       "['frac_fleet_load_capacity', 'frac_done_agents']"
      ]
     },
     "execution_count": 44,
     "metadata": {},
     "output_type": "execute_result"
    }
   ],
   "source": [
    "obs.POSSIBLE_GLOBAL_FEATURES"
   ]
  },
  {
   "cell_type": "markdown",
   "id": "aa61f210",
   "metadata": {},
   "source": [
    "While instantiating the `Observations` class, we can provide a dictionary specifying a list of features that will be made available to the agent. This feature list determines the content of the observation space, allowing us to customize what information the agent receives during training or evaluation."
   ]
  },
  {
   "cell_type": "code",
   "execution_count": 45,
   "id": "87bb625b",
   "metadata": {},
   "outputs": [],
   "source": [
    "import yaml"
   ]
  },
  {
   "cell_type": "code",
   "execution_count": 46,
   "id": "bd7e8d52",
   "metadata": {},
   "outputs": [],
   "source": [
    "feature_list = yaml.safe_load(\"\"\"\n",
    "    nodes_static:\n",
    "        x_coordinate_min_max:\n",
    "            feat: x_coordinate_min_max\n",
    "            norm: min_max\n",
    "        x_coordinate_min_max: \n",
    "            feat: x_coordinate_min_max\n",
    "            norm: min_max\n",
    "        tw_low_mm:\n",
    "            feat: tw_low\n",
    "            norm: min_max\n",
    "        tw_high:\n",
    "            feat: tw_high\n",
    "            norm: min_max\n",
    "\n",
    "    nodes_dynamic:\n",
    "        - time2open_div_end_time\n",
    "        - time2close_div_end_time\n",
    "        - time2open_after_step_div_end_time\n",
    "        - time2close_after_step_div_end_time\n",
    "        - fract_time_after_step_div_end_time\n",
    "\n",
    "    agent:\n",
    "        - x_coordinate_min_max\n",
    "        - y_coordinate_min_max\n",
    "        - frac_current_time\n",
    "        - frac_current_load\n",
    "\n",
    "    other_agents:\n",
    "        - x_coordinate_min_max\n",
    "        - y_coordinate_min_max\n",
    "        - frac_current_time\n",
    "        - frac_current_load\n",
    "        - dist2agent_div_end_time\n",
    "    \n",
    "    global:\n",
    "        - frac_demands\n",
    "        - frac_fleet_load_capacity\n",
    "        - frac_done_agents\n",
    "        - frac_not_done_nodes\n",
    "        - frac_used_agents\n",
    "\"\"\")"
   ]
  },
  {
   "cell_type": "code",
   "execution_count": 47,
   "id": "695e9c85",
   "metadata": {},
   "outputs": [],
   "source": [
    "obs = Observations(feature_list)"
   ]
  },
  {
   "cell_type": "markdown",
   "id": "23c7bbd6",
   "metadata": {},
   "source": [
    "We can now test these observation settings directly within the environment:\n"
   ]
  },
  {
   "cell_type": "code",
   "execution_count": 48,
   "id": "841178da",
   "metadata": {},
   "outputs": [],
   "source": [
    "gen = InstanceGenerator(batch_size = 8)\n",
    "obs = Observations()\n",
    "sel = AgentSelector()\n",
    "rew = DenseReward()\n",
    "\n",
    "env = Environment(instance_generator_object=gen,  \n",
    "                  obs_builder_object=obs,\n",
    "                  agent_selector_object=sel,\n",
    "                  reward_evaluator=rew,\n",
    "                  seed=0)"
   ]
  },
  {
   "cell_type": "code",
   "execution_count": 49,
   "id": "09332ac1",
   "metadata": {},
   "outputs": [],
   "source": [
    "td = env.reset(batch_size = 8, num_agents=4, num_nodes=16)"
   ]
  },
  {
   "cell_type": "code",
   "execution_count": 50,
   "id": "9644e544",
   "metadata": {},
   "outputs": [],
   "source": [
    "td_observation = env.observe()"
   ]
  },
  {
   "cell_type": "code",
   "execution_count": 51,
   "id": "704aa1c1",
   "metadata": {},
   "outputs": [
    {
     "data": {
      "text/plain": [
       "TensorDict(\n",
       "    fields={\n",
       "        action_mask: Tensor(shape=torch.Size([8, 16]), device=cpu, dtype=torch.bool, is_shared=False),\n",
       "        agent_obs: Tensor(shape=torch.Size([8, 6]), device=cpu, dtype=torch.float32, is_shared=False),\n",
       "        agents_mask: Tensor(shape=torch.Size([8, 4]), device=cpu, dtype=torch.bool, is_shared=False),\n",
       "        global_obs: Tensor(shape=torch.Size([8, 2]), device=cpu, dtype=torch.float32, is_shared=False),\n",
       "        node_dynamic_obs: Tensor(shape=torch.Size([8, 16, 8]), device=cpu, dtype=torch.float32, is_shared=False),\n",
       "        other_agents_obs: Tensor(shape=torch.Size([8, 4, 8]), device=cpu, dtype=torch.float32, is_shared=False)},\n",
       "    batch_size=torch.Size([8]),\n",
       "    device=cpu,\n",
       "    is_shared=False)"
      ]
     },
     "execution_count": 51,
     "metadata": {},
     "output_type": "execute_result"
    }
   ],
   "source": [
    "td_observation"
   ]
  },
  {
   "cell_type": "markdown",
   "id": "3d3b83ef",
   "metadata": {},
   "source": [
    "###  Agent Iterator class"
   ]
  },
  {
   "cell_type": "markdown",
   "id": "c0267064",
   "metadata": {},
   "source": [
    "Equivalent to [PettingZoo](https://pettingzoo.farama.org/), Agent Selector class incorporates the iterator method `agent_iter` that returns the next active agent in the environment. It is perfectly customizable and currently  `AgentSelector`, `SmallestTimeAgentSelector` classes are available."
   ]
  },
  {
   "cell_type": "code",
   "execution_count": 52,
   "id": "04d2e94c",
   "metadata": {},
   "outputs": [],
   "source": [
    "from maenvs4vrp.environments.cvrptw.env_agent_selector import AgentSelector, SmallestTimeAgentSelector"
   ]
  },
  {
   "cell_type": "markdown",
   "id": "f8728d5f",
   "metadata": {},
   "source": [
    "With `AgentSelector` class, the selection steps through the active agents in a circular fashion, until no more active agents are available:"
   ]
  },
  {
   "cell_type": "code",
   "execution_count": 53,
   "id": "32319404",
   "metadata": {},
   "outputs": [
    {
     "name": "stdout",
     "output_type": "stream",
     "text": [
      "env step number: 1, active agent name: tensor([[0]])\n",
      "env step number: 2, active agent name: tensor([[0]])\n",
      "env step number: 3, active agent name: tensor([[1]])\n",
      "env step number: 4, active agent name: tensor([[1]])\n",
      "env step number: 5, active agent name: tensor([[1]])\n",
      "env step number: 6, active agent name: tensor([[1]])\n",
      "env step number: 7, active agent name: tensor([[2]])\n",
      "env step number: 8, active agent name: tensor([[2]])\n",
      "env step number: 9, active agent name: tensor([[2]])\n",
      "env step number: 10, active agent name: tensor([[3]])\n",
      "env step number: 11, active agent name: tensor([[3]])\n",
      "env step number: 12, active agent name: tensor([[3]])\n",
      "env step number: 13, active agent name: tensor([[3]])\n",
      "env step number: 14, active agent name: tensor([[4]])\n",
      "env step number: 15, active agent name: tensor([[4]])\n",
      "env step number: 16, active agent name: tensor([[4]])\n",
      "env step number: 17, active agent name: tensor([[4]])\n",
      "env step number: 18, active agent name: tensor([[5]])\n",
      "env step number: 19, active agent name: tensor([[5]])\n",
      "env step number: 20, active agent name: tensor([[5]])\n",
      "env step number: 21, active agent name: tensor([[5]])\n",
      "env step number: 22, active agent name: tensor([[6]])\n",
      "env step number: 23, active agent name: tensor([[6]])\n",
      "env step number: 24, active agent name: tensor([[6]])\n",
      "env step number: 25, active agent name: tensor([[6]])\n",
      "env step number: 26, active agent name: tensor([[7]])\n",
      "env step number: 27, active agent name: tensor([[7]])\n",
      "env step number: 28, active agent name: tensor([[7]])\n",
      "env step number: 29, active agent name: tensor([[7]])\n",
      "env step number: 30, active agent name: tensor([[7]])\n",
      "env step number: 31, active agent name: tensor([[8]])\n",
      "env step number: 32, active agent name: tensor([[8]])\n",
      "env step number: 33, active agent name: tensor([[8]])\n",
      "env step number: 34, active agent name: tensor([[8]])\n",
      "env step number: 35, active agent name: tensor([[8]])\n",
      "env step number: 36, active agent name: tensor([[9]])\n",
      "env step number: 37, active agent name: tensor([[9]])\n",
      "env step number: 38, active agent name: tensor([[9]])\n",
      "env step number: 39, active agent name: tensor([[10]])\n",
      "env step number: 40, active agent name: tensor([[10]])\n",
      "env step number: 41, active agent name: tensor([[10]])\n",
      "env step number: 42, active agent name: tensor([[10]])\n",
      "env step number: 43, active agent name: tensor([[11]])\n",
      "env step number: 44, active agent name: tensor([[11]])\n",
      "env step number: 45, active agent name: tensor([[11]])\n",
      "env step number: 46, active agent name: tensor([[11]])\n",
      "env step number: 47, active agent name: tensor([[12]])\n",
      "env step number: 48, active agent name: tensor([[12]])\n",
      "env step number: 49, active agent name: tensor([[12]])\n",
      "env step number: 50, active agent name: tensor([[13]])\n",
      "env step number: 51, active agent name: tensor([[13]])\n",
      "env step number: 52, active agent name: tensor([[14]])\n",
      "env step number: 53, active agent name: tensor([[14]])\n",
      "env step number: 54, active agent name: tensor([[14]])\n",
      "env step number: 55, active agent name: tensor([[14]])\n",
      "env step number: 56, active agent name: tensor([[14]])\n",
      "env step number: 57, active agent name: tensor([[14]])\n",
      "env step number: 58, active agent name: tensor([[15]])\n",
      "env step number: 59, active agent name: tensor([[15]])\n",
      "env step number: 60, active agent name: tensor([[15]])\n",
      "env step number: 61, active agent name: tensor([[15]])\n",
      "env step number: 62, active agent name: tensor([[16]])\n",
      "env step number: 63, active agent name: tensor([[16]])\n",
      "env step number: 64, active agent name: tensor([[16]])\n",
      "env step number: 65, active agent name: tensor([[16]])\n",
      "env step number: 66, active agent name: tensor([[17]])\n",
      "env step number: 67, active agent name: tensor([[17]])\n",
      "env step number: 68, active agent name: tensor([[17]])\n",
      "env step number: 69, active agent name: tensor([[18]])\n",
      "env step number: 70, active agent name: tensor([[18]])\n",
      "env step number: 71, active agent name: tensor([[19]])\n",
      "env step number: 72, active agent name: tensor([[19]])\n",
      "env step number: 73, active agent name: tensor([[19]])\n",
      "env step number: 74, active agent name: tensor([[19]])\n",
      "env step number: 75, active agent name: tensor([[0]])\n"
     ]
    }
   ],
   "source": [
    "gen = InstanceGenerator(batch_size = 1)\n",
    "obs = Observations()\n",
    "sel = AgentSelector()\n",
    "rew = DenseReward()\n",
    "\n",
    "env = Environment(instance_generator_object=gen,  \n",
    "                  obs_builder_object=obs,\n",
    "                  agent_selector_object=sel,\n",
    "                  reward_evaluator=rew,\n",
    "                  seed=0)\n",
    "\n",
    "td = env.reset()\n",
    "\n",
    "while not td[\"done\"].all():  \n",
    "    td = env.sample_action(td) # this is where we insert our policy\n",
    "    td = env.step(td)\n",
    "    step = env.env_nsteps\n",
    "    cur_agent_idx = td['cur_agent_idx']\n",
    "    print(f'env step number: {step}, active agent name: {cur_agent_idx}')"
   ]
  },
  {
   "cell_type": "markdown",
   "id": "ef431706",
   "metadata": {},
   "source": [
    "With `SmallesttimeAgentSelector` class, the same agent is  select until it returns to the depot. Afterward, it selects the next active agent and repeats the process until all agents are done:"
   ]
  },
  {
   "cell_type": "code",
   "execution_count": 54,
   "id": "b1ce3b59",
   "metadata": {},
   "outputs": [
    {
     "name": "stdout",
     "output_type": "stream",
     "text": [
      "env step number: 1, active agent name: tensor([[1]])\n",
      "env step number: 2, active agent name: tensor([[2]])\n",
      "env step number: 3, active agent name: tensor([[3]])\n",
      "env step number: 4, active agent name: tensor([[4]])\n",
      "env step number: 5, active agent name: tensor([[5]])\n",
      "env step number: 6, active agent name: tensor([[6]])\n",
      "env step number: 7, active agent name: tensor([[7]])\n",
      "env step number: 8, active agent name: tensor([[8]])\n",
      "env step number: 9, active agent name: tensor([[9]])\n",
      "env step number: 10, active agent name: tensor([[10]])\n",
      "env step number: 11, active agent name: tensor([[11]])\n",
      "env step number: 12, active agent name: tensor([[12]])\n",
      "env step number: 13, active agent name: tensor([[13]])\n",
      "env step number: 14, active agent name: tensor([[14]])\n",
      "env step number: 15, active agent name: tensor([[15]])\n",
      "env step number: 16, active agent name: tensor([[16]])\n",
      "env step number: 17, active agent name: tensor([[17]])\n",
      "env step number: 18, active agent name: tensor([[18]])\n",
      "env step number: 19, active agent name: tensor([[19]])\n",
      "env step number: 20, active agent name: tensor([[9]])\n",
      "env step number: 21, active agent name: tensor([[5]])\n",
      "env step number: 22, active agent name: tensor([[16]])\n",
      "env step number: 23, active agent name: tensor([[9]])\n",
      "env step number: 24, active agent name: tensor([[0]])\n",
      "env step number: 25, active agent name: tensor([[6]])\n",
      "env step number: 26, active agent name: tensor([[1]])\n",
      "env step number: 27, active agent name: tensor([[3]])\n",
      "env step number: 28, active agent name: tensor([[19]])\n",
      "env step number: 29, active agent name: tensor([[14]])\n",
      "env step number: 30, active agent name: tensor([[15]])\n",
      "env step number: 31, active agent name: tensor([[10]])\n",
      "env step number: 32, active agent name: tensor([[13]])\n",
      "env step number: 33, active agent name: tensor([[5]])\n",
      "env step number: 34, active agent name: tensor([[1]])\n",
      "env step number: 35, active agent name: tensor([[6]])\n",
      "env step number: 36, active agent name: tensor([[3]])\n",
      "env step number: 37, active agent name: tensor([[4]])\n",
      "env step number: 38, active agent name: tensor([[18]])\n",
      "env step number: 39, active agent name: tensor([[17]])\n",
      "env step number: 40, active agent name: tensor([[11]])\n",
      "env step number: 41, active agent name: tensor([[14]])\n",
      "env step number: 42, active agent name: tensor([[8]])\n",
      "env step number: 43, active agent name: tensor([[15]])\n",
      "env step number: 44, active agent name: tensor([[9]])\n",
      "env step number: 45, active agent name: tensor([[2]])\n",
      "env step number: 46, active agent name: tensor([[0]])\n",
      "env step number: 47, active agent name: tensor([[7]])\n",
      "env step number: 48, active agent name: tensor([[12]])\n",
      "env step number: 49, active agent name: tensor([[16]])\n",
      "env step number: 50, active agent name: tensor([[13]])\n",
      "env step number: 51, active agent name: tensor([[17]])\n",
      "env step number: 52, active agent name: tensor([[10]])\n",
      "env step number: 53, active agent name: tensor([[5]])\n",
      "env step number: 54, active agent name: tensor([[15]])\n",
      "env step number: 55, active agent name: tensor([[3]])\n",
      "env step number: 56, active agent name: tensor([[0]])\n",
      "env step number: 57, active agent name: tensor([[8]])\n",
      "env step number: 58, active agent name: tensor([[7]])\n",
      "env step number: 59, active agent name: tensor([[1]])\n",
      "env step number: 60, active agent name: tensor([[12]])\n",
      "env step number: 61, active agent name: tensor([[2]])\n",
      "env step number: 62, active agent name: tensor([[16]])\n",
      "env step number: 63, active agent name: tensor([[19]])\n",
      "env step number: 64, active agent name: tensor([[11]])\n",
      "env step number: 65, active agent name: tensor([[14]])\n",
      "env step number: 66, active agent name: tensor([[4]])\n",
      "env step number: 67, active agent name: tensor([[9]])\n",
      "env step number: 68, active agent name: tensor([[10]])\n",
      "env step number: 69, active agent name: tensor([[12]])\n",
      "env step number: 70, active agent name: tensor([[15]])\n",
      "env step number: 71, active agent name: tensor([[0]])\n"
     ]
    }
   ],
   "source": [
    "gen = InstanceGenerator(batch_size = 1)\n",
    "obs = Observations()\n",
    "sel = SmallestTimeAgentSelector()\n",
    "rew = DenseReward()\n",
    "\n",
    "env = Environment(instance_generator_object=gen,  \n",
    "                  obs_builder_object=obs,\n",
    "                  agent_selector_object=sel,\n",
    "                  reward_evaluator=rew,\n",
    "                  seed=0)\n",
    "\n",
    "td = env.reset()\n",
    "\n",
    "while not td[\"done\"].all():  \n",
    "    td = env.sample_action(td) # this is where we insert our policy\n",
    "    td = env.step(td)\n",
    "    step = env.env_nsteps\n",
    "    cur_agent_idx = td['cur_agent_idx']\n",
    "    print(f'env step number: {step}, active agent name: {cur_agent_idx}')"
   ]
  },
  {
   "cell_type": "markdown",
   "id": "beeb37d3",
   "metadata": {},
   "source": [
    "For a deeper dive into the library functionalities, explore the other available tutorials."
   ]
  },
  {
   "cell_type": "markdown",
   "id": "8c5a5c47",
   "metadata": {},
   "source": [
    "## Acknowledgements: "
   ]
  },
  {
   "cell_type": "markdown",
   "id": "cce3c2ec",
   "metadata": {},
   "source": [
    "* [PettingZoo](https://pettingzoo.farama.org/)\n",
    "\n",
    "* [Flatland](https://flatland.aicrowd.com/intro.html)\n"
   ]
  }
 ],
 "metadata": {
  "kernelspec": {
   "display_name": "maenvs4vrp",
   "language": "python",
   "name": "maenvs4vrp"
  },
  "language_info": {
   "codemirror_mode": {
    "name": "ipython",
    "version": 3
   },
   "file_extension": ".py",
   "mimetype": "text/x-python",
   "name": "python",
   "nbconvert_exporter": "python",
   "pygments_lexer": "ipython3",
   "version": "3.11.13"
  },
  "varInspector": {
   "cols": {
    "lenName": 16,
    "lenType": 16,
    "lenVar": 40
   },
   "kernels_config": {
    "python": {
     "delete_cmd_postfix": "",
     "delete_cmd_prefix": "del ",
     "library": "var_list.py",
     "varRefreshCmd": "print(var_dic_list())"
    },
    "r": {
     "delete_cmd_postfix": ") ",
     "delete_cmd_prefix": "rm(",
     "library": "var_list.r",
     "varRefreshCmd": "cat(var_dic_list()) "
    }
   },
   "types_to_exclude": [
    "module",
    "function",
    "builtin_function_or_method",
    "instance",
    "_Feature"
   ],
   "window_display": false
  }
 },
 "nbformat": 4,
 "nbformat_minor": 5
}
